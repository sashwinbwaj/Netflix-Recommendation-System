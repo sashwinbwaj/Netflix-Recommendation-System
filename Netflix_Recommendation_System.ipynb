{
  "cells": [
    {
      "cell_type": "markdown",
      "metadata": {
        "id": "view-in-github",
        "colab_type": "text"
      },
      "source": [
        "<a href=\"https://colab.research.google.com/github/sashwinbwaj/Netflix-Recommendation-System/blob/main/Netflix_Recommendation_System.ipynb\" target=\"_parent\"><img src=\"https://colab.research.google.com/assets/colab-badge.svg\" alt=\"Open In Colab\"/></a>"
      ]
    },
    {
      "cell_type": "markdown",
      "source": [
        "## Recommendation system for Netflix ratings data\n",
        "In this project, we use the famous 'Netflix Prize' dataset to experiment with out recommendation model. The focus is on collaborative filtering techniques which uses a combination of user-user similarities & user-item interaction in order to recommend. "
      ],
      "metadata": {
        "id": "YuCvI2z4Rmy8"
      },
      "id": "YuCvI2z4Rmy8"
    },
    {
      "cell_type": "markdown",
      "source": [
        "### 1.0 Loading & Cleaning ratings "
      ],
      "metadata": {
        "id": "aJqT1yymSE0Z"
      },
      "id": "aJqT1yymSE0Z"
    },
    {
      "cell_type": "code",
      "execution_count": 41,
      "id": "d71add96-02e7-49d2-bedd-bab4627850e5",
      "metadata": {
        "id": "d71add96-02e7-49d2-bedd-bab4627850e5"
      },
      "outputs": [],
      "source": [
        "import numpy as np\n",
        "import pandas as pd\n",
        "import matplotlib.pyplot as plt\n",
        "import seaborn as sns\n",
        "import time\n",
        "import io\n",
        "from datetime import datetime \n",
        "import gc\n",
        "import matplotlib.style as style \n",
        "\n",
        "from scipy import sparse\n",
        "from scipy.sparse import csr_matrix\n",
        "\n",
        "from surprise import Reader, Dataset\n",
        "from surprise.model_selection import cross_validate, train_test_split\n",
        "from surprise import SVD, SVDpp, NMF, NormalPredictor\n",
        "from surprise.model_selection import GridSearchCV\n"
      ]
    },
    {
      "cell_type": "code",
      "execution_count": null,
      "id": "970fb26e-2ae4-492b-9988-8c3260d87d7a",
      "metadata": {
        "id": "970fb26e-2ae4-492b-9988-8c3260d87d7a",
        "outputId": "e3c6e676-2546-421e-a8ba-7b825b8b7f1c"
      },
      "outputs": [
        {
          "name": "stdout",
          "output_type": "stream",
          "text": [
            "Reading ratings from combined_data_1.txt\n",
            "\n",
            "Reading ratings from combined_data_2.txt\n",
            "\n",
            "Reading ratings from combined_data_3.txt\n",
            "\n",
            "Reading ratings from combined_data_4.txt\n",
            "\n",
            "Time taken : 0:05:10.936732\n"
          ]
        }
      ],
      "source": [
        "start = datetime.now()\n",
        "data = open('data.csv', mode='w')\n",
        "row = list()\n",
        "files = ['combined_data_1.txt', 'combined_data_2.txt', 'combined_data_3.txt', 'combined_data_4.txt']\n",
        "for file in files:\n",
        "    print(\"Reading ratings from {}\\n\".format(file))\n",
        "    with open(file) as f:\n",
        "        for line in f: \n",
        "            line = line.strip()\n",
        "            if line.endswith(':'):\n",
        "                # All below are ratings for this movie, until another movie appears.\n",
        "                movie_id = line.replace(':', '')\n",
        "            else:\n",
        "                row = [x for x in line.split(',')]\n",
        "                row.insert(0, movie_id)\n",
        "                data.write(','.join(row))\n",
        "                data.write('\\n')\n",
        "data.close()\n",
        "print('Time taken :', datetime.now() - start)"
      ]
    },
    {
      "cell_type": "code",
      "execution_count": null,
      "id": "620f68a8-6318-4480-8e8b-bc62e7b09937",
      "metadata": {
        "id": "620f68a8-6318-4480-8e8b-bc62e7b09937",
        "outputId": "d766e3bb-188d-451d-ccfe-9a4ce932c97f"
      },
      "outputs": [
        {
          "data": {
            "text/html": [
              "<div>\n",
              "<style scoped>\n",
              "    .dataframe tbody tr th:only-of-type {\n",
              "        vertical-align: middle;\n",
              "    }\n",
              "\n",
              "    .dataframe tbody tr th {\n",
              "        vertical-align: top;\n",
              "    }\n",
              "\n",
              "    .dataframe thead th {\n",
              "        text-align: right;\n",
              "    }\n",
              "</style>\n",
              "<table border=\"1\" class=\"dataframe\">\n",
              "  <thead>\n",
              "    <tr style=\"text-align: right;\">\n",
              "      <th></th>\n",
              "      <th>movie</th>\n",
              "      <th>customer</th>\n",
              "      <th>rating</th>\n",
              "      <th>date</th>\n",
              "    </tr>\n",
              "  </thead>\n",
              "  <tbody>\n",
              "    <tr>\n",
              "      <th>0</th>\n",
              "      <td>1</td>\n",
              "      <td>1488844</td>\n",
              "      <td>3</td>\n",
              "      <td>2005-09-06</td>\n",
              "    </tr>\n",
              "    <tr>\n",
              "      <th>1</th>\n",
              "      <td>1</td>\n",
              "      <td>822109</td>\n",
              "      <td>5</td>\n",
              "      <td>2005-05-13</td>\n",
              "    </tr>\n",
              "    <tr>\n",
              "      <th>2</th>\n",
              "      <td>1</td>\n",
              "      <td>885013</td>\n",
              "      <td>4</td>\n",
              "      <td>2005-10-19</td>\n",
              "    </tr>\n",
              "    <tr>\n",
              "      <th>3</th>\n",
              "      <td>1</td>\n",
              "      <td>30878</td>\n",
              "      <td>4</td>\n",
              "      <td>2005-12-26</td>\n",
              "    </tr>\n",
              "    <tr>\n",
              "      <th>4</th>\n",
              "      <td>1</td>\n",
              "      <td>823519</td>\n",
              "      <td>3</td>\n",
              "      <td>2004-05-03</td>\n",
              "    </tr>\n",
              "  </tbody>\n",
              "</table>\n",
              "</div>"
            ],
            "text/plain": [
              "   movie  customer  rating       date\n",
              "0      1   1488844       3 2005-09-06\n",
              "1      1    822109       5 2005-05-13\n",
              "2      1    885013       4 2005-10-19\n",
              "3      1     30878       4 2005-12-26\n",
              "4      1    823519       3 2004-05-03"
            ]
          },
          "execution_count": 13,
          "metadata": {},
          "output_type": "execute_result"
        }
      ],
      "source": [
        "ratings = pd.read_csv('data.csv', sep=',', names = ['movie', 'customer', 'rating', 'date'])\n",
        "ratings.date = pd.to_datetime(ratings.date)\n",
        "ratings.head()"
      ]
    },
    {
      "cell_type": "code",
      "execution_count": null,
      "id": "ca2d16d2-821e-4eb6-85d9-c4d69b42a8cc",
      "metadata": {
        "id": "ca2d16d2-821e-4eb6-85d9-c4d69b42a8cc",
        "outputId": "db3081f3-60e6-4d12-d3e9-9c1282cf374e"
      },
      "outputs": [
        {
          "name": "stdout",
          "output_type": "stream",
          "text": [
            "(100480507, 4)\n",
            "movie       0\n",
            "customer    0\n",
            "rating      0\n",
            "date        0\n",
            "dtype: int64\n"
          ]
        }
      ],
      "source": [
        "print(ratings.shape)\n",
        "# Checking for missing values - There are no missing values\n",
        "print(ratings.isna().sum())"
      ]
    },
    {
      "cell_type": "code",
      "execution_count": null,
      "id": "a696e6ff-71a3-4b23-b1a6-972793c74e2e",
      "metadata": {
        "id": "a696e6ff-71a3-4b23-b1a6-972793c74e2e",
        "outputId": "b838c529-e36b-454b-eb95-6fb42a16cf53"
      },
      "outputs": [
        {
          "data": {
            "text/plain": [
              "(0, 4)"
            ]
          },
          "execution_count": 17,
          "metadata": {},
          "output_type": "execute_result"
        }
      ],
      "source": [
        "dup_bool = ratings.duplicated()\n",
        "ratings[dup_bool].shape"
      ]
    },
    {
      "cell_type": "code",
      "execution_count": null,
      "id": "aa94e2da-a8b7-47d6-a700-2acdc0b58db2",
      "metadata": {
        "id": "aa94e2da-a8b7-47d6-a700-2acdc0b58db2"
      },
      "outputs": [],
      "source": [
        "# Storing the indices of customers who rated less than 10 times as well as movies which were rated less than 50 times\n",
        "# The threshold for low counts were decided after considering the domain as well as looking at the low count pool as a percentage of total data\n",
        "movie_counts = pd.DataFrame(ratings['rating'].groupby(ratings['movie']).count())\n",
        "low_count_movies = movie_counts.query('rating < 50').index\n",
        "customer_counts = pd.DataFrame(ratings['rating'].groupby(ratings['customer']).count())\n",
        "low_count_customers = customer_counts.query('rating < 20').index"
      ]
    },
    {
      "cell_type": "code",
      "execution_count": null,
      "id": "e6794438-af88-42e0-92ab-443145764ce7",
      "metadata": {
        "id": "e6794438-af88-42e0-92ab-443145764ce7"
      },
      "outputs": [],
      "source": [
        "#Removing the low count pool from the ratings data\n",
        "ratings_new = ratings[~ratings['customer'].isin(low_count_customers)]\n",
        "ratings_new = ratings_new[~ratings_new['movie'].isin(low_count_movies)]"
      ]
    },
    {
      "cell_type": "code",
      "execution_count": null,
      "id": "33597726-0859-4591-9e10-7165806e025c",
      "metadata": {
        "id": "33597726-0859-4591-9e10-7165806e025c",
        "outputId": "8612327e-ea52-4bea-f506-2db33a1de3fc"
      },
      "outputs": [
        {
          "name": "stdout",
          "output_type": "stream",
          "text": [
            "Original ratings shape : (100480507, 4)\n",
            "Revised ratings shape : (96447729, 4)\n"
          ]
        }
      ],
      "source": [
        "print(f'Original ratings shape : {ratings.shape}')\n",
        "print(f'Revised ratings shape : {ratings_new.shape}')"
      ]
    },
    {
      "cell_type": "code",
      "execution_count": null,
      "id": "9fa8fb1a-a6bd-4419-a983-107a64bea686",
      "metadata": {
        "id": "9fa8fb1a-a6bd-4419-a983-107a64bea686"
      },
      "outputs": [],
      "source": [
        "# Writing the ratings data to file\n",
        "ratings_new['day'] = ratings_new.date.dt.day_name()\n",
        "ratings_new.to_csv(\"netflix_ratings.csv\", index=False)"
      ]
    },
    {
      "cell_type": "markdown",
      "id": "da3da74e-2dbd-4f9d-82ab-5e53a99d11e6",
      "metadata": {
        "id": "da3da74e-2dbd-4f9d-82ab-5e53a99d11e6"
      },
      "source": [
        "### 2.0 Exploratory Data Analysis"
      ]
    },
    {
      "cell_type": "code",
      "source": [
        "from google.colab import drive\n",
        "drive.mount('/content/drive')"
      ],
      "metadata": {
        "colab": {
          "base_uri": "https://localhost:8080/"
        },
        "id": "pZmb-HOrXyDC",
        "outputId": "9e243fcd-cbb4-4274-e891-497e2dd74ca8"
      },
      "id": "pZmb-HOrXyDC",
      "execution_count": null,
      "outputs": [
        {
          "output_type": "stream",
          "name": "stdout",
          "text": [
            "Drive already mounted at /content/drive; to attempt to forcibly remount, call drive.mount(\"/content/drive\", force_remount=True).\n"
          ]
        }
      ]
    },
    {
      "cell_type": "code",
      "source": [
        "ratings_new = pd.read_csv('/content/drive/MyDrive/Colab Notebooks/netflix_ratings.csv', parse_dates = ['date'])\n",
        "ratings_new.sort_values(by = ['date'], inplace = True)\n",
        "ratings_new.head()"
      ],
      "metadata": {
        "colab": {
          "base_uri": "https://localhost:8080/",
          "height": 206
        },
        "id": "eflxHOb4N0KJ",
        "outputId": "1e07ee7f-b149-4d58-cc87-adf402ab56fa"
      },
      "id": "eflxHOb4N0KJ",
      "execution_count": null,
      "outputs": [
        {
          "output_type": "execute_result",
          "data": {
            "text/html": [
              "\n",
              "  <div id=\"df-77fb7617-b4e5-4c50-9b58-35a7b71e6a30\">\n",
              "    <div class=\"colab-df-container\">\n",
              "      <div>\n",
              "<style scoped>\n",
              "    .dataframe tbody tr th:only-of-type {\n",
              "        vertical-align: middle;\n",
              "    }\n",
              "\n",
              "    .dataframe tbody tr th {\n",
              "        vertical-align: top;\n",
              "    }\n",
              "\n",
              "    .dataframe thead th {\n",
              "        text-align: right;\n",
              "    }\n",
              "</style>\n",
              "<table border=\"1\" class=\"dataframe\">\n",
              "  <thead>\n",
              "    <tr style=\"text-align: right;\">\n",
              "      <th></th>\n",
              "      <th>movie</th>\n",
              "      <th>customer</th>\n",
              "      <th>rating</th>\n",
              "      <th>date</th>\n",
              "      <th>day</th>\n",
              "    </tr>\n",
              "  </thead>\n",
              "  <tbody>\n",
              "    <tr>\n",
              "      <th>49894564</th>\n",
              "      <td>9392</td>\n",
              "      <td>510180</td>\n",
              "      <td>3</td>\n",
              "      <td>1999-11-11</td>\n",
              "      <td>Thursday</td>\n",
              "    </tr>\n",
              "    <tr>\n",
              "      <th>19710963</th>\n",
              "      <td>3870</td>\n",
              "      <td>510180</td>\n",
              "      <td>2</td>\n",
              "      <td>1999-11-11</td>\n",
              "      <td>Thursday</td>\n",
              "    </tr>\n",
              "    <tr>\n",
              "      <th>18932051</th>\n",
              "      <td>3730</td>\n",
              "      <td>510180</td>\n",
              "      <td>4</td>\n",
              "      <td>1999-11-11</td>\n",
              "      <td>Thursday</td>\n",
              "    </tr>\n",
              "    <tr>\n",
              "      <th>56528603</th>\n",
              "      <td>10774</td>\n",
              "      <td>510180</td>\n",
              "      <td>3</td>\n",
              "      <td>1999-11-11</td>\n",
              "      <td>Thursday</td>\n",
              "    </tr>\n",
              "    <tr>\n",
              "      <th>67988765</th>\n",
              "      <td>12818</td>\n",
              "      <td>510180</td>\n",
              "      <td>2</td>\n",
              "      <td>1999-11-11</td>\n",
              "      <td>Thursday</td>\n",
              "    </tr>\n",
              "  </tbody>\n",
              "</table>\n",
              "</div>\n",
              "      <button class=\"colab-df-convert\" onclick=\"convertToInteractive('df-77fb7617-b4e5-4c50-9b58-35a7b71e6a30')\"\n",
              "              title=\"Convert this dataframe to an interactive table.\"\n",
              "              style=\"display:none;\">\n",
              "        \n",
              "  <svg xmlns=\"http://www.w3.org/2000/svg\" height=\"24px\"viewBox=\"0 0 24 24\"\n",
              "       width=\"24px\">\n",
              "    <path d=\"M0 0h24v24H0V0z\" fill=\"none\"/>\n",
              "    <path d=\"M18.56 5.44l.94 2.06.94-2.06 2.06-.94-2.06-.94-.94-2.06-.94 2.06-2.06.94zm-11 1L8.5 8.5l.94-2.06 2.06-.94-2.06-.94L8.5 2.5l-.94 2.06-2.06.94zm10 10l.94 2.06.94-2.06 2.06-.94-2.06-.94-.94-2.06-.94 2.06-2.06.94z\"/><path d=\"M17.41 7.96l-1.37-1.37c-.4-.4-.92-.59-1.43-.59-.52 0-1.04.2-1.43.59L10.3 9.45l-7.72 7.72c-.78.78-.78 2.05 0 2.83L4 21.41c.39.39.9.59 1.41.59.51 0 1.02-.2 1.41-.59l7.78-7.78 2.81-2.81c.8-.78.8-2.07 0-2.86zM5.41 20L4 18.59l7.72-7.72 1.47 1.35L5.41 20z\"/>\n",
              "  </svg>\n",
              "      </button>\n",
              "      \n",
              "  <style>\n",
              "    .colab-df-container {\n",
              "      display:flex;\n",
              "      flex-wrap:wrap;\n",
              "      gap: 12px;\n",
              "    }\n",
              "\n",
              "    .colab-df-convert {\n",
              "      background-color: #E8F0FE;\n",
              "      border: none;\n",
              "      border-radius: 50%;\n",
              "      cursor: pointer;\n",
              "      display: none;\n",
              "      fill: #1967D2;\n",
              "      height: 32px;\n",
              "      padding: 0 0 0 0;\n",
              "      width: 32px;\n",
              "    }\n",
              "\n",
              "    .colab-df-convert:hover {\n",
              "      background-color: #E2EBFA;\n",
              "      box-shadow: 0px 1px 2px rgba(60, 64, 67, 0.3), 0px 1px 3px 1px rgba(60, 64, 67, 0.15);\n",
              "      fill: #174EA6;\n",
              "    }\n",
              "\n",
              "    [theme=dark] .colab-df-convert {\n",
              "      background-color: #3B4455;\n",
              "      fill: #D2E3FC;\n",
              "    }\n",
              "\n",
              "    [theme=dark] .colab-df-convert:hover {\n",
              "      background-color: #434B5C;\n",
              "      box-shadow: 0px 1px 3px 1px rgba(0, 0, 0, 0.15);\n",
              "      filter: drop-shadow(0px 1px 2px rgba(0, 0, 0, 0.3));\n",
              "      fill: #FFFFFF;\n",
              "    }\n",
              "  </style>\n",
              "\n",
              "      <script>\n",
              "        const buttonEl =\n",
              "          document.querySelector('#df-77fb7617-b4e5-4c50-9b58-35a7b71e6a30 button.colab-df-convert');\n",
              "        buttonEl.style.display =\n",
              "          google.colab.kernel.accessAllowed ? 'block' : 'none';\n",
              "\n",
              "        async function convertToInteractive(key) {\n",
              "          const element = document.querySelector('#df-77fb7617-b4e5-4c50-9b58-35a7b71e6a30');\n",
              "          const dataTable =\n",
              "            await google.colab.kernel.invokeFunction('convertToInteractive',\n",
              "                                                     [key], {});\n",
              "          if (!dataTable) return;\n",
              "\n",
              "          const docLinkHtml = 'Like what you see? Visit the ' +\n",
              "            '<a target=\"_blank\" href=https://colab.research.google.com/notebooks/data_table.ipynb>data table notebook</a>'\n",
              "            + ' to learn more about interactive tables.';\n",
              "          element.innerHTML = '';\n",
              "          dataTable['output_type'] = 'display_data';\n",
              "          await google.colab.output.renderOutput(dataTable, element);\n",
              "          const docLink = document.createElement('div');\n",
              "          docLink.innerHTML = docLinkHtml;\n",
              "          element.appendChild(docLink);\n",
              "        }\n",
              "      </script>\n",
              "    </div>\n",
              "  </div>\n",
              "  "
            ],
            "text/plain": [
              "          movie  customer  rating       date       day\n",
              "49894564   9392    510180       3 1999-11-11  Thursday\n",
              "19710963   3870    510180       2 1999-11-11  Thursday\n",
              "18932051   3730    510180       4 1999-11-11  Thursday\n",
              "56528603  10774    510180       3 1999-11-11  Thursday\n",
              "67988765  12818    510180       2 1999-11-11  Thursday"
            ]
          },
          "metadata": {},
          "execution_count": 4
        }
      ]
    },
    {
      "cell_type": "code",
      "execution_count": null,
      "id": "4058a3d2-c5bb-4339-961d-900f51affd67",
      "metadata": {
        "id": "4058a3d2-c5bb-4339-961d-900f51affd67",
        "outputId": "6d71fcf5-30bf-4fb5-db16-b7522f22bc6b"
      },
      "outputs": [
        {
          "name": "stdout",
          "output_type": "stream",
          "text": [
            "Unique users: 480189\n",
            "Unique movies: 17770\n"
          ]
        }
      ],
      "source": [
        "# Basic stats\n",
        "print(f'Unique users: {ratings_new.customer.nunique()}')\n",
        "print(f'Unique movies: {ratings_new.movie.nunique()}')"
      ]
    },
    {
      "cell_type": "markdown",
      "source": [
        "#### 2.0.1 Distribution of ratings across all users"
      ],
      "metadata": {
        "id": "3_IbdqW-SUxx"
      },
      "id": "3_IbdqW-SUxx"
    },
    {
      "cell_type": "code",
      "execution_count": null,
      "id": "f34457d7-d7af-4b48-b432-bb52cbbad57f",
      "metadata": {
        "colab": {
          "base_uri": "https://localhost:8080/",
          "height": 411
        },
        "id": "f34457d7-d7af-4b48-b432-bb52cbbad57f",
        "outputId": "f364bd74-889b-4801-b09a-c090b3d3ddc7"
      },
      "outputs": [
        {
          "output_type": "display_data",
          "data": {
            "image/png": "[encoded data removed]",
            "text/plain": [
              "<Figure size 720x432 with 1 Axes>"
            ]
          },
          "metadata": {}
        }
      ],
      "source": [
        "fig, ax = plt.subplots(figsize = (10, 6))\n",
        "plt.title('Distribution of Ratings', fontsize=16)\n",
        "ax = sns.countplot(data = ratings_new, y = 'rating', palette = ('flare'), alpha = 0.7)\n",
        "ax.set_xlabel('Frequency', fontsize = 15)\n",
        "ax.set_ylabel('Ratings', fontsize = 15)\n",
        "plt.show()"
      ]
    },
    {
      "cell_type": "markdown",
      "source": [
        "#### 2.0.2 Distribution of ratings across days of the week"
      ],
      "metadata": {
        "id": "cnH1Ei_tSag7"
      },
      "id": "cnH1Ei_tSag7"
    },
    {
      "cell_type": "code",
      "execution_count": null,
      "id": "de895fea-f958-4473-8644-d19caf42d1bd",
      "metadata": {
        "colab": {
          "base_uri": "https://localhost:8080/",
          "height": 574
        },
        "id": "de895fea-f958-4473-8644-d19caf42d1bd",
        "outputId": "06ba24af-e9b9-4797-90fc-940cbabb89d3"
      },
      "outputs": [
        {
          "output_type": "display_data",
          "data": {
            "image/png": "[encoded data removed]",
            "text/plain": [
              "<Figure size 1080x648 with 1 Axes>"
            ]
          },
          "metadata": {}
        }
      ],
      "source": [
        "fig, ax = plt.subplots(figsize = (15, 9))\n",
        "plt.title('Ratings across Days of the Week', fontsize=16)\n",
        "ax = sns.countplot(data = ratings_new, x = 'day', hue = 'rating', order = ['Monday', 'Tuesday', 'Wednesday', 'Thursday', 'Friday', 'Saturday', 'Sunday'], \n",
        "                    palette = ('Blues_d'))\n",
        "ax.set_xlabel('Day of the Week', fontsize = 15)\n",
        "ax.set_ylabel('Frequency', fontsize = 15)\n",
        "plt.show()"
      ]
    },
    {
      "cell_type": "code",
      "execution_count": null,
      "id": "981bf859-9d33-4364-ade5-5227198a5d75",
      "metadata": {
        "id": "981bf859-9d33-4364-ade5-5227198a5d75",
        "outputId": "714c3a6d-bbce-4d4c-e0fc-8e7b97ba802c"
      },
      "outputs": [
        {
          "data": {
            "text/plain": [
              "day\n",
              "Friday       3.601840\n",
              "Monday       3.593978\n",
              "Saturday     3.610197\n",
              "Sunday       3.611835\n",
              "Thursday     3.600126\n",
              "Tuesday      3.592138\n",
              "Wednesday    3.600912\n",
              "Name: rating, dtype: float64"
            ]
          },
          "execution_count": 10,
          "metadata": {},
          "output_type": "execute_result"
        }
      ],
      "source": [
        "ratings_new['rating'].groupby(ratings_new['day']).mean()"
      ]
    },
    {
      "cell_type": "markdown",
      "source": [
        "#### 2.0.3 Data collection timeline"
      ],
      "metadata": {
        "id": "W_TpwdGUSgqf"
      },
      "id": "W_TpwdGUSgqf"
    },
    {
      "cell_type": "code",
      "execution_count": null,
      "id": "c649fe79-4960-47e1-a1f8-ee0ec5d8397b",
      "metadata": {
        "colab": {
          "base_uri": "https://localhost:8080/",
          "height": 520
        },
        "id": "c649fe79-4960-47e1-a1f8-ee0ec5d8397b",
        "outputId": "c69fe523-a1d0-43f3-dafc-f88b41f377b7"
      },
      "outputs": [
        {
          "output_type": "display_data",
          "data": {
            "image/png": "[encoded data removed]",
            "text/plain": [
              "<Figure size 1080x576 with 1 Axes>"
            ]
          },
          "metadata": {}
        }
      ],
      "source": [
        "style.use('ggplot')\n",
        "sns.set_context('paper')\n",
        "\n",
        "fig, ax = plt.subplots(figsize = (15, 8))\n",
        "plt.title('Ratings timeline', fontsize=16)\n",
        "#ax = ratings_new['rating'].groupby([ratings_new['date'].month, ratings_new['date'].year]).count().plot()\n",
        "ax = ratings_new['rating'].groupby([ratings_new['date'].dt.year, ratings_new['date'].dt.month]).count().plot()\n",
        "ax.set_xlabel('Date', fontsize = 15)\n",
        "ax.set_ylabel('Number of Ratings', fontsize = 15)\n",
        "plt.show()\n"
      ]
    },
    {
      "cell_type": "markdown",
      "source": [
        "#### 2.0.4 Ratings per User/Item distribution"
      ],
      "metadata": {
        "id": "Cmt5T-H2So-G"
      },
      "id": "Cmt5T-H2So-G"
    },
    {
      "cell_type": "code",
      "source": [
        "ratings_per_user = ratings_new.groupby(by = 'customer')['rating'].count().sort_values(ascending = False)\n",
        "ratings_per_movie = ratings_new.groupby(by = 'movie')['rating'].count().sort_values(ascending = False)\n",
        "\n",
        "fig, ax = plt.subplots(figsize = (22, 10))\n",
        "ax1 = plt.subplot(1,2,1)\n",
        "plt.title('Users', fontsize=16)\n",
        "#sns.kdeplot(ratings_per_user, shade=True, ax=ax1)\n",
        "plt.plot(ratings_per_user.values)\n",
        "plt.ylabel('Number of Ratings per User', fontsize = 15)\n",
        "\n",
        "ax2 = plt.subplot(1,2,2)\n",
        "plt.title('Movies', fontsize=16)\n",
        "#sns.kdeplot(ratings_per_movie, shade=True, ax=ax2)\n",
        "plt.plot(ratings_per_movie.values, 'b-')\n",
        "plt.ylabel('Number of Ratings per Movie', fontsize = 15)\n",
        "\n",
        "plt.show()\n"
      ],
      "metadata": {
        "colab": {
          "base_uri": "https://localhost:8080/",
          "height": 610
        },
        "id": "2Tp38QJ_mMcg",
        "outputId": "e50e36e9-570a-4856-b555-eb24b3733190"
      },
      "id": "2Tp38QJ_mMcg",
      "execution_count": null,
      "outputs": [
        {
          "output_type": "display_data",
          "data": {
            "image/png": "[encoded data removed]",
            "text/plain": [
              "<Figure size 1584x720 with 2 Axes>"
            ]
          },
          "metadata": {}
        }
      ]
    },
    {
      "cell_type": "code",
      "source": [
        "quantiles_users = ratings_per_user.quantile(np.arange(0,1.01,0.05), interpolation='higher')\n",
        "quantiles_movies = ratings_per_movie.quantile(np.arange(0,1.01,0.05), interpolation='higher')"
      ],
      "metadata": {
        "id": "5IENS2sGw-Zx"
      },
      "id": "5IENS2sGw-Zx",
      "execution_count": null,
      "outputs": []
    },
    {
      "cell_type": "code",
      "source": [
        "plt.figure(figsize = (18, 10))\n",
        "\n",
        "\n",
        "plt.title('Rating per Users/Movies - Quantiles', fontsize=15)\n",
        "ax1 = plt.subplot(2,1,1)\n",
        "ax1 = sns.lineplot(x = quantiles_users.index, y = quantiles_users.values) \n",
        "ax1.scatter(x = quantiles_users.index, y = quantiles_users.values)\n",
        "plt.ylabel('Ratings per User', fontsize = 15)\n",
        "\n",
        "for x,y in zip(quantiles_users.index[::1], quantiles_users[::1]):\n",
        "    ax1.annotate(s = \"{}\".format(y), xy=(x,y), xytext=(x-0.05, y+500))\n",
        "\n",
        "\n",
        "ax2 = plt.subplot(2,1,2)\n",
        "ax2 = sns.lineplot(x = quantiles_movies.index, y = quantiles_movies.values, color = 'blue') \n",
        "ax2.scatter(x = quantiles_movies.index, y = quantiles_movies.values, color = 'blue')\n",
        "plt.xlabel('Quantile', fontsize = 15)\n",
        "plt.ylabel('Ratings per Movie', fontsize = 15)\n",
        "\n",
        "for x,y in zip(quantiles_movies.index[::1], quantiles_movies[::1]):\n",
        "    ax2.annotate(s = \"{}\".format(y), xy=(x,y), xytext=(x-0.05, y+100))\n",
        "plt.show()\n",
        "\n",
        "\n"
      ],
      "metadata": {
        "colab": {
          "base_uri": "https://localhost:8080/",
          "height": 614
        },
        "id": "FeH93Rm5xiJn",
        "outputId": "d7f016d5-e993-43d9-acd8-6f3fd2f15234"
      },
      "id": "FeH93Rm5xiJn",
      "execution_count": null,
      "outputs": [
        {
          "output_type": "display_data",
          "data": {
            "image/png": "[encoded data removed]",
            "text/plain": [
              "<Figure size 1296x720 with 2 Axes>"
            ]
          },
          "metadata": {}
        }
      ]
    },
    {
      "cell_type": "markdown",
      "source": [
        "#### 2.1 Splitting the data-set\n",
        "Splitting the data into 75% for training & 25% for testing. Since users can vote for the same movie multiple times, we will not randomly split. We will take the first 75% of the ratings for training. "
      ],
      "metadata": {
        "id": "l9SkTo1ihGNq"
      },
      "id": "l9SkTo1ihGNq"
    },
    {
      "cell_type": "code",
      "source": [
        "# Reloading the dataset \n",
        "from google.colab import drive\n",
        "drive.mount('/content/drive')\n",
        "\n",
        "ratings_new = pd.read_csv('/content/drive/MyDrive/Colab Notebooks/netflix_ratings.csv', parse_dates = ['date'])\n",
        "ratings_new.sort_values(by = ['date'], inplace = True)\n",
        "ratings_new.head()\n",
        "\n",
        "import math\n",
        "thres = math.ceil(0.75*ratings_new.shape[0])\n",
        "\n",
        "ratings_train = ratings_new.iloc[0:thres]\n",
        "ratings_test = ratings_new.iloc[thres:]"
      ],
      "metadata": {
        "id": "yz4NZDrGfenM",
        "colab": {
          "base_uri": "https://localhost:8080/"
        },
        "outputId": "874e4ad3-4871-46bb-972a-715a6973d5a8"
      },
      "id": "yz4NZDrGfenM",
      "execution_count": 2,
      "outputs": [
        {
          "output_type": "stream",
          "name": "stdout",
          "text": [
            "Mounted at /content/drive\n"
          ]
        }
      ]
    },
    {
      "cell_type": "code",
      "source": [
        "print(f'Before splitting shape : {ratings_new.shape}')\n",
        "print(f'Training dataset shape : {ratings_train.shape}')\n",
        "print(f'Test dataset shape : {ratings_test.shape}')"
      ],
      "metadata": {
        "colab": {
          "base_uri": "https://localhost:8080/"
        },
        "id": "4mW8j8IhhzL5",
        "outputId": "8974526e-726f-42cf-9f54-8b2b087d9915"
      },
      "id": "4mW8j8IhhzL5",
      "execution_count": 3,
      "outputs": [
        {
          "output_type": "stream",
          "name": "stdout",
          "text": [
            "Before splitting shape : (96447729, 5)\n",
            "Training dataset shape : (72335797, 5)\n",
            "Test dataset shape : (24111932, 5)\n"
          ]
        }
      ]
    },
    {
      "cell_type": "code",
      "source": [
        "train_sparse_matrix = sparse.csr_matrix((\n",
        "        ratings_train.rating.values, (ratings_train.customer.values,ratings_train.movie.values)\n",
        "    ))\n",
        "test_sparse_matrix = sparse.csr_matrix((\n",
        "        ratings_test.rating.values, (ratings_test.customer.values,ratings_test.movie.values)\n",
        "    ))"
      ],
      "metadata": {
        "id": "fg7xerWT5Jug"
      },
      "id": "fg7xerWT5Jug",
      "execution_count": 4,
      "outputs": []
    },
    {
      "cell_type": "code",
      "source": [
        "print(f'Unique users in train data: {ratings_train.customer.nunique()}')\n",
        "print(f'Unique movies in train data: {ratings_train.movie.nunique()}')\n",
        "\n",
        "train_sparse_matrix.shape\n",
        "matrix_size = train_sparse_matrix.shape[0]* train_sparse_matrix.shape[1]\n",
        "non_zero_counts = len(train_sparse_matrix.nonzero()[0])\n",
        "print(f'Sparsity : {100*(1 - non_zero_counts/matrix_size)}')"
      ],
      "metadata": {
        "colab": {
          "base_uri": "https://localhost:8080/"
        },
        "id": "symH16gEi2qQ",
        "outputId": "1c852fc3-ada0-4006-afa1-ab491d7ce79c"
      },
      "id": "symH16gEi2qQ",
      "execution_count": 5,
      "outputs": [
        {
          "output_type": "stream",
          "name": "stdout",
          "text": [
            "Unique users in train data: 277553\n",
            "Unique movies in train data: 17173\n",
            "Sparsity : 99.84636542816129\n"
          ]
        }
      ]
    },
    {
      "cell_type": "code",
      "source": [
        "print(f'Unique users in test data: {ratings_test.customer.nunique()}')\n",
        "print(f'Unique movies in test data: {ratings_test.movie.nunique()}')\n",
        "\n",
        "test_sparse_matrix.shape\n",
        "matrix_size = test_sparse_matrix.shape[0]* test_sparse_matrix.shape[1]\n",
        "non_zero_counts = len(test_sparse_matrix.nonzero()[0])\n",
        "print(f'Sparsity : {100*(1 - non_zero_counts/matrix_size)}')"
      ],
      "metadata": {
        "colab": {
          "base_uri": "https://localhost:8080/"
        },
        "id": "D1a1stwfNcZ4",
        "outputId": "8f1bfe51-2f30-4141-c180-209a3b6b1528"
      },
      "id": "D1a1stwfNcZ4",
      "execution_count": 6,
      "outputs": [
        {
          "output_type": "stream",
          "name": "stdout",
          "text": [
            "Unique users in test data: 273917\n",
            "Unique movies in test data: 17704\n",
            "Sparsity : 99.94878847676173\n"
          ]
        }
      ]
    },
    {
      "cell_type": "markdown",
      "source": [
        "#### 2.1.1 Sample sparse matrices\n",
        "Since the overall training & test datasets are still too large to perform complex modelling, we will use a small non-overlapping sample data from training to fit our models & test them using a sample matrix from the test set. "
      ],
      "metadata": {
        "id": "dsfmPy8KS2fj"
      },
      "id": "dsfmPy8KS2fj"
    },
    {
      "cell_type": "code",
      "source": [
        "def get_sample_sparse_matrix(sparse_matrix, no_users, no_movies, verbose = True):\n",
        "     # Get (row, col) and (rating) tuple from sparse_matrix.\n",
        "    row_ind, col_ind, ratings = sparse.find(sparse_matrix)\n",
        "    users = np.unique(row_ind)\n",
        "    movies = np.unique(col_ind)\n",
        "\n",
        "    print(\"Original Matrix: (users, movies) -- ({} {})\".format(len(users), len(movies)))\n",
        "    print(\"Original Matrix: Ratings -- {}\\n\".format(len(ratings)))\n",
        "\n",
        "    # It's just to make sure to get same sample everytime we run this program & pick without replacement\n",
        "    np.random.seed(15)\n",
        "    sample_users = np.random.choice(users, no_users, replace=False)\n",
        "    sample_movies = np.random.choice(movies, no_movies, replace=False)\n",
        "    \n",
        "    # Get the boolean mask of these sampled_items in originl row/col_inds.\n",
        "    mask = np.logical_and(np.isin(row_ind, sample_users), np.isin(col_ind, sample_movies))\n",
        "    \n",
        "    sample_sparse_matrix = sparse.csr_matrix((ratings[mask], (row_ind[mask], col_ind[mask])),\n",
        "         shape=(max(sample_users)+1, max(sample_movies)+1))\n",
        "\n",
        "    if verbose:\n",
        "        print(\"Sampled Matrix : (users, movies) -- ({} {})\".format(len(sample_users), len(sample_movies)))\n",
        "        print(\"Sampled Matrix : Ratings --\", format(ratings[mask].shape[0]))\n",
        "\n",
        "    return sample_sparse_matrix"
      ],
      "metadata": {
        "id": "Qq--4JSPBV2p"
      },
      "id": "Qq--4JSPBV2p",
      "execution_count": 7,
      "outputs": []
    },
    {
      "cell_type": "code",
      "source": [
        "sample_train_sparse_matrix = get_sample_sparse_matrix(train_sparse_matrix, no_users = 10000, no_movies = 1000, verbose = True)\n",
        "print()\n",
        "sample_test_sparse_matrix = get_sample_sparse_matrix(test_sparse_matrix, no_users = 2000, no_movies = 200, verbose = True)"
      ],
      "metadata": {
        "colab": {
          "base_uri": "https://localhost:8080/"
        },
        "id": "rwh0b2EwCnWo",
        "outputId": "86f77084-3b7b-4d2c-f1e8-3729557355bf"
      },
      "id": "rwh0b2EwCnWo",
      "execution_count": 8,
      "outputs": [
        {
          "output_type": "stream",
          "name": "stdout",
          "text": [
            "Original Matrix: (users, movies) -- (277553 17173)\n",
            "Original Matrix: Ratings -- 72335797\n",
            "\n",
            "Sampled Matrix : (users, movies) -- (10000 1000)\n",
            "Sampled Matrix : Ratings -- 160104\n",
            "\n",
            "Original Matrix: (users, movies) -- (273917 17704)\n",
            "Original Matrix: Ratings -- 24111932\n",
            "\n",
            "Sampled Matrix : (users, movies) -- (2000 200)\n",
            "Sampled Matrix : Ratings -- 2435\n"
          ]
        }
      ]
    },
    {
      "cell_type": "code",
      "source": [
        "sample_train_users, sample_train_movies, sample_train_ratings = sparse.find(sample_train_sparse_matrix)\n",
        "reg_train = pd.DataFrame(\n",
        "    {'customer': sample_train_users,\n",
        "     'movie': sample_train_movies,\n",
        "     'rating': sample_train_ratings\n",
        "    })\n",
        "print(reg_train.customer.nunique())\n",
        "print(reg_train.movie.nunique())\n",
        "print(reg_train.shape)\n",
        "  "
      ],
      "metadata": {
        "colab": {
          "base_uri": "https://localhost:8080/"
        },
        "id": "jLCSM1zaEgqj",
        "outputId": "bdc9140a-ead5-45c2-9988-e4d29f83e9bb"
      },
      "id": "jLCSM1zaEgqj",
      "execution_count": 9,
      "outputs": [
        {
          "output_type": "stream",
          "name": "stdout",
          "text": [
            "9630\n",
            "971\n",
            "(160104, 3)\n"
          ]
        }
      ]
    },
    {
      "cell_type": "code",
      "source": [
        "sample_test_users, sample_test_movies, sample_test_ratings = sparse.find(sample_test_sparse_matrix)\n",
        "reg_test = pd.DataFrame(\n",
        "    {'customer': sample_test_users,\n",
        "     'movie': sample_test_movies,\n",
        "     'rating': sample_test_ratings\n",
        "    })\n",
        "print(reg_test.customer.nunique())\n",
        "print(reg_test.movie.nunique())\n",
        "print(reg_test.shape)"
      ],
      "metadata": {
        "colab": {
          "base_uri": "https://localhost:8080/"
        },
        "id": "CRjmaI8yN2uH",
        "outputId": "709222db-bea4-44ad-a06e-6c1b6715b295"
      },
      "id": "CRjmaI8yN2uH",
      "execution_count": 10,
      "outputs": [
        {
          "output_type": "stream",
          "name": "stdout",
          "text": [
            "897\n",
            "176\n",
            "(2435, 3)\n"
          ]
        }
      ]
    },
    {
      "cell_type": "code",
      "source": [
        "# Reading in the movies.csv file which contains data on the movie titles\n",
        "movies = pd.read_csv('/content/drive/MyDrive/Colab Notebooks/movie_titles.csv', names = ['id', 'year', 'title'], encoding = \"ISO-8859-1\",\n",
        "                     header = None)\n",
        "movies.head()"
      ],
      "metadata": {
        "colab": {
          "base_uri": "https://localhost:8080/",
          "height": 206
        },
        "id": "n9v_P9_9R5DE",
        "outputId": "ff92d24d-098e-48cc-ae4e-c3ebcbe4be14"
      },
      "id": "n9v_P9_9R5DE",
      "execution_count": 11,
      "outputs": [
        {
          "output_type": "execute_result",
          "data": {
            "text/html": [
              "\n",
              "  <div id=\"df-1495c040-cfc6-456d-8530-5b9964b08eb8\">\n",
              "    <div class=\"colab-df-container\">\n",
              "      <div>\n",
              "<style scoped>\n",
              "    .dataframe tbody tr th:only-of-type {\n",
              "        vertical-align: middle;\n",
              "    }\n",
              "\n",
              "    .dataframe tbody tr th {\n",
              "        vertical-align: top;\n",
              "    }\n",
              "\n",
              "    .dataframe thead th {\n",
              "        text-align: right;\n",
              "    }\n",
              "</style>\n",
              "<table border=\"1\" class=\"dataframe\">\n",
              "  <thead>\n",
              "    <tr style=\"text-align: right;\">\n",
              "      <th></th>\n",
              "      <th>id</th>\n",
              "      <th>year</th>\n",
              "      <th>title</th>\n",
              "    </tr>\n",
              "  </thead>\n",
              "  <tbody>\n",
              "    <tr>\n",
              "      <th>0</th>\n",
              "      <td>1</td>\n",
              "      <td>2003.0</td>\n",
              "      <td>Dinosaur Planet</td>\n",
              "    </tr>\n",
              "    <tr>\n",
              "      <th>1</th>\n",
              "      <td>2</td>\n",
              "      <td>2004.0</td>\n",
              "      <td>Isle of Man TT 2004 Review</td>\n",
              "    </tr>\n",
              "    <tr>\n",
              "      <th>2</th>\n",
              "      <td>3</td>\n",
              "      <td>1997.0</td>\n",
              "      <td>Character</td>\n",
              "    </tr>\n",
              "    <tr>\n",
              "      <th>3</th>\n",
              "      <td>4</td>\n",
              "      <td>1994.0</td>\n",
              "      <td>Paula Abdul's Get Up &amp; Dance</td>\n",
              "    </tr>\n",
              "    <tr>\n",
              "      <th>4</th>\n",
              "      <td>5</td>\n",
              "      <td>2004.0</td>\n",
              "      <td>The Rise and Fall of ECW</td>\n",
              "    </tr>\n",
              "  </tbody>\n",
              "</table>\n",
              "</div>\n",
              "      <button class=\"colab-df-convert\" onclick=\"convertToInteractive('df-1495c040-cfc6-456d-8530-5b9964b08eb8')\"\n",
              "              title=\"Convert this dataframe to an interactive table.\"\n",
              "              style=\"display:none;\">\n",
              "        \n",
              "  <svg xmlns=\"http://www.w3.org/2000/svg\" height=\"24px\"viewBox=\"0 0 24 24\"\n",
              "       width=\"24px\">\n",
              "    <path d=\"M0 0h24v24H0V0z\" fill=\"none\"/>\n",
              "    <path d=\"M18.56 5.44l.94 2.06.94-2.06 2.06-.94-2.06-.94-.94-2.06-.94 2.06-2.06.94zm-11 1L8.5 8.5l.94-2.06 2.06-.94-2.06-.94L8.5 2.5l-.94 2.06-2.06.94zm10 10l.94 2.06.94-2.06 2.06-.94-2.06-.94-.94-2.06-.94 2.06-2.06.94z\"/><path d=\"M17.41 7.96l-1.37-1.37c-.4-.4-.92-.59-1.43-.59-.52 0-1.04.2-1.43.59L10.3 9.45l-7.72 7.72c-.78.78-.78 2.05 0 2.83L4 21.41c.39.39.9.59 1.41.59.51 0 1.02-.2 1.41-.59l7.78-7.78 2.81-2.81c.8-.78.8-2.07 0-2.86zM5.41 20L4 18.59l7.72-7.72 1.47 1.35L5.41 20z\"/>\n",
              "  </svg>\n",
              "      </button>\n",
              "      \n",
              "  <style>\n",
              "    .colab-df-container {\n",
              "      display:flex;\n",
              "      flex-wrap:wrap;\n",
              "      gap: 12px;\n",
              "    }\n",
              "\n",
              "    .colab-df-convert {\n",
              "      background-color: #E8F0FE;\n",
              "      border: none;\n",
              "      border-radius: 50%;\n",
              "      cursor: pointer;\n",
              "      display: none;\n",
              "      fill: #1967D2;\n",
              "      height: 32px;\n",
              "      padding: 0 0 0 0;\n",
              "      width: 32px;\n",
              "    }\n",
              "\n",
              "    .colab-df-convert:hover {\n",
              "      background-color: #E2EBFA;\n",
              "      box-shadow: 0px 1px 2px rgba(60, 64, 67, 0.3), 0px 1px 3px 1px rgba(60, 64, 67, 0.15);\n",
              "      fill: #174EA6;\n",
              "    }\n",
              "\n",
              "    [theme=dark] .colab-df-convert {\n",
              "      background-color: #3B4455;\n",
              "      fill: #D2E3FC;\n",
              "    }\n",
              "\n",
              "    [theme=dark] .colab-df-convert:hover {\n",
              "      background-color: #434B5C;\n",
              "      box-shadow: 0px 1px 3px 1px rgba(0, 0, 0, 0.15);\n",
              "      filter: drop-shadow(0px 1px 2px rgba(0, 0, 0, 0.3));\n",
              "      fill: #FFFFFF;\n",
              "    }\n",
              "  </style>\n",
              "\n",
              "      <script>\n",
              "        const buttonEl =\n",
              "          document.querySelector('#df-1495c040-cfc6-456d-8530-5b9964b08eb8 button.colab-df-convert');\n",
              "        buttonEl.style.display =\n",
              "          google.colab.kernel.accessAllowed ? 'block' : 'none';\n",
              "\n",
              "        async function convertToInteractive(key) {\n",
              "          const element = document.querySelector('#df-1495c040-cfc6-456d-8530-5b9964b08eb8');\n",
              "          const dataTable =\n",
              "            await google.colab.kernel.invokeFunction('convertToInteractive',\n",
              "                                                     [key], {});\n",
              "          if (!dataTable) return;\n",
              "\n",
              "          const docLinkHtml = 'Like what you see? Visit the ' +\n",
              "            '<a target=\"_blank\" href=https://colab.research.google.com/notebooks/data_table.ipynb>data table notebook</a>'\n",
              "            + ' to learn more about interactive tables.';\n",
              "          element.innerHTML = '';\n",
              "          dataTable['output_type'] = 'display_data';\n",
              "          await google.colab.output.renderOutput(dataTable, element);\n",
              "          const docLink = document.createElement('div');\n",
              "          docLink.innerHTML = docLinkHtml;\n",
              "          element.appendChild(docLink);\n",
              "        }\n",
              "      </script>\n",
              "    </div>\n",
              "  </div>\n",
              "  "
            ],
            "text/plain": [
              "   id    year                         title\n",
              "0   1  2003.0               Dinosaur Planet\n",
              "1   2  2004.0    Isle of Man TT 2004 Review\n",
              "2   3  1997.0                     Character\n",
              "3   4  1994.0  Paula Abdul's Get Up & Dance\n",
              "4   5  2004.0      The Rise and Fall of ECW"
            ]
          },
          "metadata": {},
          "execution_count": 11
        }
      ]
    },
    {
      "cell_type": "code",
      "source": [
        "reg_train = reg_train.merge(movies, how = 'left', left_on='movie', right_on ='id')\n",
        "reg_test = reg_test.merge(movies, how = 'left', left_on='movie', right_on ='id')\n",
        "\n",
        "print(f'Number of missing movie titles in train data: {reg_train.title.isna().sum()}')\n",
        "print(f'Number of missing movie titles in test data: {reg_test.title.isna().sum()}')"
      ],
      "metadata": {
        "colab": {
          "base_uri": "https://localhost:8080/"
        },
        "id": "6v1CL6ysYttV",
        "outputId": "27ab4290-ee3a-4052-cac5-ceac9c2a1896"
      },
      "id": "6v1CL6ysYttV",
      "execution_count": 12,
      "outputs": [
        {
          "output_type": "stream",
          "name": "stdout",
          "text": [
            "Number of missing movie titles in train data: 0\n",
            "Number of missing movie titles in test data: 0\n"
          ]
        }
      ]
    },
    {
      "cell_type": "markdown",
      "source": [
        "#### 2.1.2 Preparing data for Surprise library format\n",
        "At the end of the day, recommendation systems can be intuitively thought of as training the known ratings in order to predict the unknown ratings as accurate as possible.   \n",
        "We will be using surprise library in Python to perform KNN & matrix factorization methods to predict the unknown ratings"
      ],
      "metadata": {
        "id": "aE_s_SxTAbJR"
      },
      "id": "aE_s_SxTAbJR"
    },
    {
      "cell_type": "code",
      "source": [
        "!pip install scikit-surprise"
      ],
      "metadata": {
        "colab": {
          "base_uri": "https://localhost:8080/"
        },
        "id": "Kc-L7pps1JlZ",
        "outputId": "e93df753-bb54-445f-d880-f7f295e544b1"
      },
      "id": "Kc-L7pps1JlZ",
      "execution_count": 13,
      "outputs": [
        {
          "output_type": "stream",
          "name": "stdout",
          "text": [
            "Collecting scikit-surprise\n",
            "  Downloading scikit-surprise-1.1.1.tar.gz (11.8 MB)\n",
            "\u001b[K     |████████████████████████████████| 11.8 MB 6.3 MB/s \n",
            "\u001b[?25hRequirement already satisfied: joblib>=0.11 in /usr/local/lib/python3.7/dist-packages (from scikit-surprise) (1.1.0)\n",
            "Requirement already satisfied: numpy>=1.11.2 in /usr/local/lib/python3.7/dist-packages (from scikit-surprise) (1.19.5)\n",
            "Requirement already satisfied: scipy>=1.0.0 in /usr/local/lib/python3.7/dist-packages (from scikit-surprise) (1.4.1)\n",
            "Requirement already satisfied: six>=1.10.0 in /usr/local/lib/python3.7/dist-packages (from scikit-surprise) (1.15.0)\n",
            "Building wheels for collected packages: scikit-surprise\n",
            "  Building wheel for scikit-surprise (setup.py) ... \u001b[?25l\u001b[?25hdone\n",
            "  Created wheel for scikit-surprise: filename=scikit_surprise-1.1.1-cp37-cp37m-linux_x86_64.whl size=1619425 sha256=590ea0820e3b9c39013b7c7b7471218e2a96cdd67626b2e5e3488fb946ff52b7\n",
            "  Stored in directory: /root/.cache/pip/wheels/76/44/74/b498c42be47b2406bd27994e16c5188e337c657025ab400c1c\n",
            "Successfully built scikit-surprise\n",
            "Installing collected packages: scikit-surprise\n",
            "Successfully installed scikit-surprise-1.1.1\n"
          ]
        }
      ]
    },
    {
      "cell_type": "code",
      "source": [
        "from surprise import Reader, Dataset\n",
        "from surprise.model_selection import cross_validate, train_test_split\n",
        "\n",
        "reader = Reader(rating_scale=(1,5))\n",
        "trainset = Dataset.load_from_df(reg_train[['customer', 'title', 'rating']], reader)\n",
        "testset = Dataset.load_from_df(reg_test[['customer', 'title', 'rating']], reader)\n",
        "# Building full trainset which contains global averages, average ratings of users & items in order to generate the bias term in\n",
        "train_set = trainset.build_full_trainset()\n",
        "test_set = testset.build_full_trainset()"
      ],
      "metadata": {
        "id": "9sZYkd9Vfvdt"
      },
      "id": "9sZYkd9Vfvdt",
      "execution_count": 14,
      "outputs": []
    },
    {
      "cell_type": "markdown",
      "source": [
        "### 3 Non-parametric similarities (KNN inspired methods)\n",
        "In a collaborative filtering, we can leverage the similarity between items or between users to identify neighbours. This is often referred as non-parametric method since there are no parameters to be optimized/estimated. In this project, we will using the surprise library & its modules since it offers flexibility of KNN inspired methods & similarities measures.  \n",
        "\n",
        "In these groups of methods, we identify k-nearest neighbours to our target user (or item) & aggregate their weighted ratings for items based on the similarity metric. Some of the most common metrics are given below:\n",
        "\n",
        "\n",
        "*   Euclidean distance - Captures the Euclidean distance between two vectors (items or users represented in a space) \n",
        "*   Cosine Similarity - The angle between two vectors; used when we need to compare items with different norms \n",
        "*   Adjusted cosine - Normalizes the dot product using mean ratings per user. (Useful for user-user similarities) \n",
        "*   Pearson similarity - Instead of normalizing using mean ratings for each user, it leverages averaging ratings across all users for a particular item (Useful for item-item similarities)\n",
        "\n",
        "All these metrics more or less suffer from the curse of dimensionality in a very sparse metrics where similar users are hard to find. But, cosine similarity offers the best bet. The prediction for an unknown user in this method is estimated by:\n",
        "\n",
        "\n",
        "![Capture.JPG](data:image/jpeg;base64,/9j/4AAQSkZJRgABAQEAeAB4AAD/4RDiRXhpZgAATU0AKgAAAAgABAE7AAIAAAAIAAAISodpAAQAAAABAAAIUpydAAEAAAAQAAAQyuocAAcAAAgMAAAAPgAAAAAc6gAAAAgAAAAAAAAAAAAAAAAAAAAAAAAAAAAAAAAAAAAAAAAAAAAAAAAAAAAAAAAAAAAAAAAAAAAAAAAAAAAAAAAAAAAAAAAAAAAAAAAAAAAAAAAAAAAAAAAAAAAAAAAAAAAAAAAAAAAAAAAAAAAAAAAAAAAAAAAAAAAAAAAAAAAAAAAAAAAAAAAAAAAAAAAAAAAAAAAAAAAAAAAAAAAAAAAAAAAAAAAAAAAAAAAAAAAAAAAAAAAAAAAAAAAAAAAAAAAAAAAAAAAAAAAAAAAAAAAAAAAAAAAAAAAAAAAAAAAAAAAAAAAAAAAAAAAAAAAAAAAAAAAAAAAAAAAAAAAAAAAAAAAAAAAAAAAAAAAAAAAAAAAAAAAAAAAAAAAAAAAAAAAAAAAAAAAAAAAAAAAAAAAAAAAAAAAAAAAAAAAAAAAAAAAAAAAAAAAAAAAAAAAAAAAAAAAAAAAAAAAAAAAAAAAAAAAAAAAAAAAAAAAAAAAAAAAAAAAAAAAAAAAAAAAAAAAAAAAAAAAAAAAAAAAAAAAAAAAAAAAAAAAAAAAAAAAAAAAAAAAAAAAAAAAAAAAAAAAAAAAAAAAAAAAAAAAAAAAAAAAAAAAAAAAAAAAAAAAAAAAAAAAAAAAAAAAAAAAAAAAAAAAAAAAAAAAAAAAAAAAAAAAAAAAAAAAAAAAAAAAAAAAAAAAAAAAAAAAAAAAAAAAAAAAAAAAAAAAAAAAAAAAAAAAAAAAAAAAAAAAAAAAAAAAAAAAAAAAAAAAAAAAAAAAAAAAAAAAAAAAAAAAAAAAAAAAAAAAAAAAAAAAAAAAAAAAAAAAAAAAAAAAAAAAAAAAAAAAAAAAAAAAAAAAAAAAAAAAAAAAAAAAAAAAAAAAAAAAAAAAAAAAAAAAAAAAAAAAAAAAAAAAAAAAAAAAAAAAAAAAAAAAAAAAAAAAAAAAAAAAAAAAAAAAAAAAAAAAAAAAAAAAAAAAAAAAAAAAAAAAAAAAAAAAAAAAAAAAAAAAAAAAAAAAAAAAAAAAAAAAAAAAAAAAAAAAAAAAAAAAAAAAAAAAAAAAAAAAAAAAAAAAAAAAAAAAAAAAAAAAAAAAAAAAAAAAAAAAAAAAAAAAAAAAAAAAAAAAAAAAAAAAAAAAAAAAAAAAAAAAAAAAAAAAAAAAAAAAAAAAAAAAAAAAAAAAAAAAAAAAAAAAAAAAAAAAAAAAAAAAAAAAAAAAAAAAAAAAAAAAAAAAAAAAAAAAAAAAAAAAAAAAAAAAAAAAAAAAAAAAAAAAAAAAAAAAAAAAAAAAAAAAAAAAAAAAAAAAAAAAAAAAAAAAAAAAAAAAAAAAAAAAAAAAAAAAAAAAAAAAAAAAAAAAAAAAAAAAAAAAAAAAAAAAAAAAAAAAAAAAAAAAAAAAAAAAAAAAAAAAAAAAAAAAAAAAAAAAAAAAAAAAAAAAAAAAAAAAAAAAAAAAAAAAAAAAAAAAAAAAAAAAAAAAAAAAAAAAAAAAAAAAAAAAAAAAAAAAAAAAAAAAAAAAAAAAAAAAAAAAAAAAAAAAAAAAAAAAAAAAAAAAAAAAAAAAAAAAAAAAAAAAAAAAAAAAAAAAAAAAAAAAAAAAAAAAAAAAAAAAAAAAAAAAAAAAAAAAAAAAAAAAAAAAAAAAAAAAAAAAAAAAAAAAAAAAAAAAAAAAAAAAAAAAAAAAAAAAAAAAAAAAAAAAAAAAAAAAAAAAAAAAAAAAAAAAAAAAAAAAAAAAAAAAAAAAAAAAAAAAAAAAAAAAAAAAAAAAAAAAAAAAAAAAAAAAAAAAAAAAAAAAAAAAAAAAAAAAAAAAAAAAAAAAAAAAAAAAAAAAAAAAAAAAAAAAAAAAAAAAAAAAAAAAAAAAAAAAAAAAAAAAAAAAAAAAAAAAAAAAAAAAAAAAAAAAAAAAAAAAAAAAAAAAAAAAAAAAAAAAAAAAAAAAAAAAAAAAAAAAAAAAAAAAAAAAAAAAAAAAAAAAAAAAAAAAAAAAAAAAAAAAAAAAAAAAAAAAAAAAAAAAAAAAAAAAAAAAAAAAAAAAAAAAAAAAAAAAAAAAAAAAAAAAAAAAAAAAAAAAAAAAAAAAAAAAAAAAAAAAAAAAAAAAAAAAAAAAAAAAAAAAAAAAAAAAAAAAAAAAAAAAAAAAAAAAAAAAAAAAAAAAAAAAAAAAAAAAAAAAAAAAAAAAAAAAAAAAAAAAAAAAAAAAAAAAAAAAAAAAAAAAAAAAAAAAAAAAAAAAAAAAAAAAAAAAAAAAAAAAAAAAAAAAAAAAAAAAAAAAAAAAAAAAAAAAAAAAAAAAAAAAAAAAAAAAAAAAAAAAAAAAAAAAAAAAAAAAAAAAAAAAAAAAAAAAAAAAAAAAAAAAAAAAAAAAAAAAAAAAAAAAAAAAAAAAAAAAAAAAAAAAAAAAAAAAAAAAAAAAAAAAAAAAAAAAAAAAAAAAAAAAAAAAAAAAAAAAAAAAAAAAAAAAAAAAAAAAAAAAAAAAAAAAAAAAAAAAAAAAAAAAAAAAAAAAAAAAAAAAAAAAAAAAAAAAAAAAAAAAAAAAAAAAAAAAAAAAAAAAAAAAAAAAAAAAAAAAAAAAAAAAAAAAAAAAAAAAAAAAAAAAAAAAAAAAAAAAAAAAAAAAAAAAAAAAAAAAAAAAAAAAAAAAAAAAAAAAAAAAAAAAAAAAAAAAAAAAAAAAAAAAAAAAAAAAAAAAAAAAAAAAAAAAAAAAAAAAAAAAAAAAAAAAAAAAAAAAAAAAAAAAAAAAAAAAAAAAAAAAAAFdlbGNvbWUAAAWQAwACAAAAFAAAEKCQBAACAAAAFAAAELSSkQACAAAAAzg0AACSkgACAAAAAzg0AADqHAAHAAAIDAAACJQAAAAAHOoAAAAIAAAAAAAAAAAAAAAAAAAAAAAAAAAAAAAAAAAAAAAAAAAAAAAAAAAAAAAAAAAAAAAAAAAAAAAAAAAAAAAAAAAAAAAAAAAAAAAAAAAAAAAAAAAAAAAAAAAAAAAAAAAAAAAAAAAAAAAAAAAAAAAAAAAAAAAAAAAAAAAAAAAAAAAAAAAAAAAAAAAAAAAAAAAAAAAAAAAAAAAAAAAAAAAAAAAAAAAAAAAAAAAAAAAAAAAAAAAAAAAAAAAAAAAAAAAAAAAAAAAAAAAAAAAAAAAAAAAAAAAAAAAAAAAAAAAAAAAAAAAAAAAAAAAAAAAAAAAAAAAAAAAAAAAAAAAAAAAAAAAAAAAAAAAAAAAAAAAAAAAAAAAAAAAAAAAAAAAAAAAAAAAAAAAAAAAAAAAAAAAAAAAAAAAAAAAAAAAAAAAAAAAAAAAAAAAAAAAAAAAAAAAAAAAAAAAAAAAAAAAAAAAAAAAAAAAAAAAAAAAAAAAAAAAAAAAAAAAAAAAAAAAAAAAAAAAAAAAAAAAAAAAAAAAAAAAAAAAAAAAAAAAAAAAAAAAAAAAAAAAAAAAAAAAAAAAAAAAAAAAAAAAAAAAAAAAAAAAAAAAAAAAAAAAAAAAAAAAAAAAAAAAAAAAAAAAAAAAAAAAAAAAAAAAAAAAAAAAAAAAAAAAAAAAAAAAAAAAAAAAAAAAAAAAAAAAAAAAAAAAAAAAAAAAAAAAAAAAAAAAAAAAAAAAAAAAAAAAAAAAAAAAAAAAAAAAAAAAAAAAAAAAAAAAAAAAAAAAAAAAAAAAAAAAAAAAAAAAAAAAAAAAAAAAAAAAAAAAAAAAAAAAAAAAAAAAAAAAAAAAAAAAAAAAAAAAAAAAAAAAAAAAAAAAAAAAAAAAAAAAAAAAAAAAAAAAAAAAAAAAAAAAAAAAAAAAAAAAAAAAAAAAAAAAAAAAAAAAAAAAAAAAAAAAAAAAAAAAAAAAAAAAAAAAAAAAAAAAAAAAAAAAAAAAAAAAAAAAAAAAAAAAAAAAAAAAAAAAAAAAAAAAAAAAAAAAAAAAAAAAAAAAAAAAAAAAAAAAAAAAAAAAAAAAAAAAAAAAAAAAAAAAAAAAAAAAAAAAAAAAAAAAAAAAAAAAAAAAAAAAAAAAAAAAAAAAAAAAAAAAAAAAAAAAAAAAAAAAAAAAAAAAAAAAAAAAAAAAAAAAAAAAAAAAAAAAAAAAAAAAAAAAAAAAAAAAAAAAAAAAAAAAAAAAAAAAAAAAAAAAAAAAAAAAAAAAAAAAAAAAAAAAAAAAAAAAAAAAAAAAAAAAAAAAAAAAAAAAAAAAAAAAAAAAAAAAAAAAAAAAAAAAAAAAAAAAAAAAAAAAAAAAAAAAAAAAAAAAAAAAAAAAAAAAAAAAAAAAAAAAAAAAAAAAAAAAAAAAAAAAAAAAAAAAAAAAAAAAAAAAAAAAAAAAAAAAAAAAAAAAAAAAAAAAAAAAAAAAAAAAAAAAAAAAAAAAAAAAAAAAAAAAAAAAAAAAAAAAAAAAAAAAAAAAAAAAAAAAAAAAAAAAAAAAAAAAAAAAAAAAAAAAAAAAAAAAAAAAAAAAAAAAAAAAAAAAAAAAAAAAAAAAAAAAAAAAAAAAAAAAAAAAAAAAAAAAAAAAAAAAAAAAAAAAAAAAAAAAAAAAAAAAAAAAAAAAAAAAAAAAAAAAAAAAAAAAAAAAAAAAAAAAAAAAAAAAAAAAAAAAAAAAAAAAAAAAAAAAAAAAAAAAAAAAAAAAAAAAAAAAAAAAAAAAAAAAAAAAAAAAAAAAAAAAAAAAAAAAAAAAAAAAAAAAAAAAAAAAAAAAAAAAAAAAAAAAAAAAAAAAAAAAAAAAAAAAAAAAAAAAAAAAAAAAAAAAAAAAAAAAAAAAAAAAAAAAAAAAAAAAAAAAAAAAAAAAAAAAAAAAAAAAAAAAAAAAAAAAAAAAAAAAAAAAAAAAAAAAAAAAAAAAAAAAAAAAAAAAAAAAAAAAAAAAAAAAAAAAAAAAAAAAAAAAAAAAAAAAAAAAAAAAAAAAAAAAAAAAAAAAAAAAAAAAAAAAAAAAAAAAAAAAAAAAAAAAAAAAAAAAAAAAAAAAAAAAAAAAAAAAAAAAAAAAAAAAAAAAAAAAAAAAAAAAAAAAAAAAAAAAAAAAAAAAAAAAAAAAAAAAAAAAAAAAAAAAAAAAAAAAAAAAAAAAAAAAAAAAAAAAAAAAAAAAAAAAAAAAAAAAAAAAAAAAAAAAAAAAAAAAAAAAAAAAAAAAAAAAAAAAAAAAAAAAAAAAAAAAAAAAAAAAAAAAAAAAAAAAAAAAAAAAAAAAAAAAAAAAAAAAAAAAAAAAAAAAAAAAAAAAAAAAAAAAAAAAAAAAAAAAAAAAAAAAAAAAAAAAAAAAAAAAAAAAAAAAAAAAAAAAAAAAAAAAAAAAAAAAAAAAAAAAAAAAAAAAAAAAAAAAAAAAAAAAAAAAAAAAAAAAAAAAAAAAAAAAAAAAAAAAAAAAAAAAAAAAAAAAAAAAAAAAAAAAAAAAAAAAAAAAAAAAAAAAAAAAAAAAAAAAAAAAAAAAAAAAAAAAAAAAAAAAAAAAAAAAAAAAAAAAAAAAAAAAAAAAAAAAAAAAAAAAAAAAAAAAAAAAAAAAAAAAAAAAAAAAAAAAAAAAAAAAAAAAAAAAAAAAAAAAAAAAAAAAAAAAAAAAAAAAAAAAAAAAAAAAAAAAAAAAAAAAAAAAAAAAAAAAAAAAAAAAAAAAAAAAAAAAAAAAAAAAAAAAAAAAAAAAAAAAyMDIxOjEyOjI4IDE4OjQ5OjUzADIwMjE6MTI6MjggMTg6NDk6NTMAAABXAGUAbABjAG8AbQBlAAAA/+ELGmh0dHA6Ly9ucy5hZG9iZS5jb20veGFwLzEuMC8APD94cGFja2V0IGJlZ2luPSfvu78nIGlkPSdXNU0wTXBDZWhpSHpyZVN6TlRjemtjOWQnPz4NCjx4OnhtcG1ldGEgeG1sbnM6eD0iYWRvYmU6bnM6bWV0YS8iPjxyZGY6UkRGIHhtbG5zOnJkZj0iaHR0cDovL3d3dy53My5vcmcvMTk5OS8wMi8yMi1yZGYtc3ludGF4LW5zIyI+PHJkZjpEZXNjcmlwdGlvbiByZGY6YWJvdXQ9InV1aWQ6ZmFmNWJkZDUtYmEzZC0xMWRhLWFkMzEtZDMzZDc1MTgyZjFiIiB4bWxuczpkYz0iaHR0cDovL3B1cmwub3JnL2RjL2VsZW1lbnRzLzEuMS8iLz48cmRmOkRlc2NyaXB0aW9uIHJkZjphYm91dD0idXVpZDpmYWY1YmRkNS1iYTNkLTExZGEtYWQzMS1kMzNkNzUxODJmMWIiIHhtbG5zOnhtcD0iaHR0cDovL25zLmFkb2JlLmNvbS94YXAvMS4wLyI+PHhtcDpDcmVhdGVEYXRlPjIwMjEtMTItMjhUMTg6NDk6NTMuODQwPC94bXA6Q3JlYXRlRGF0ZT48L3JkZjpEZXNjcmlwdGlvbj48cmRmOkRlc2NyaXB0aW9uIHJkZjphYm91dD0idXVpZDpmYWY1YmRkNS1iYTNkLTExZGEtYWQzMS1kMzNkNzUxODJmMWIiIHhtbG5zOmRjPSJodHRwOi8vcHVybC5vcmcvZGMvZWxlbWVudHMvMS4xLyI+PGRjOmNyZWF0b3I+PHJkZjpTZXEgeG1sbnM6cmRmPSJodHRwOi8vd3d3LnczLm9yZy8xOTk5LzAyLzIyLXJkZi1zeW50YXgtbnMjIj48cmRmOmxpPldlbGNvbWU8L3JkZjpsaT48L3JkZjpTZXE+DQoJCQk8L2RjOmNyZWF0b3I+PC9yZGY6RGVzY3JpcHRpb24+PC9yZGY6UkRGPjwveDp4bXBtZXRhPg0KICAgICAgICAgICAgICAgICAgICAgICAgICAgICAgICAgICAgICAgICAgICAgICAgICAgICAgICAgICAgICAgICAgICAgICAgICAgICAgICAgICAgICAgICAgICAgICAgICAgIAogICAgICAgICAgICAgICAgICAgICAgICAgICAgICAgICAgICAgICAgICAgICAgICAgICAgICAgICAgICAgICAgICAgICAgICAgICAgICAgICAgICAgICAgICAgICAgICAgICAgCiAgICAgICAgICAgICAgICAgICAgICAgICAgICAgICAgICAgICAgICAgICAgICAgICAgICAgICAgICAgICAgICAgICAgICAgICAgICAgICAgICAgICAgICAgICAgICAgICAgICAKICAgICAgICAgICAgICAgICAgICAgICAgICAgICAgICAgICAgICAgICAgICAgICAgICAgICAgICAgICAgICAgICAgICAgICAgICAgICAgICAgICAgICAgICAgICAgICAgICAgIAogICAgICAgICAgICAgICAgICAgICAgICAgICAgICAgICAgICAgICAgICAgICAgICAgICAgICAgICAgICAgICAgICAgICAgICAgICAgICAgICAgICAgICAgICAgICAgICAgICAgCiAgICAgICAgICAgICAgICAgICAgICAgICAgICAgICAgICAgICAgICAgICAgICAgICAgICAgICAgICAgICAgICAgICAgICAgICAgICAgICAgICAgICAgICAgICAgICAgICAgICAKICAgICAgICAgICAgICAgICAgICAgICAgICAgICAgICAgICAgICAgICAgICAgICAgICAgICAgICAgICAgICAgICAgICAgICAgICAgICAgICAgICAgICAgICAgICAgICAgICAgIAogICAgICAgICAgICAgICAgICAgICAgICAgICAgICAgICAgICAgICAgICAgICAgICAgICAgICAgICAgICAgICAgICAgICAgICAgICAgICAgICAgICAgICAgICAgICAgICAgICAgCiAgICAgICAgICAgICAgICAgICAgICAgICAgICAgICAgICAgICAgICAgICAgICAgICAgICAgICAgICAgICAgICAgICAgICAgICAgICAgICAgICAgICAgICAgICAgICAgICAgICAKICAgICAgICAgICAgICAgICAgICAgICAgICAgICAgICAgICAgICAgICAgICAgICAgICAgICAgICAgICAgICAgICAgICAgICAgICAgICAgICAgICAgICAgICAgICAgICAgICAgIAogICAgICAgICAgICAgICAgICAgICAgICAgICAgICAgICAgICAgICAgICAgICAgICAgICAgICAgICAgICAgICAgICAgICAgICAgICAgICAgICAgICAgICAgICAgICAgICAgICAgCiAgICAgICAgICAgICAgICAgICAgICAgICAgICAgICAgICAgICAgICAgICAgICAgICAgICAgICAgICAgICAgICAgICAgICAgICAgICAgICAgICAgICAgICAgICAgICAgICAgICAKICAgICAgICAgICAgICAgICAgICAgICAgICAgICAgICAgICAgICAgICAgICAgICAgICAgICAgICAgICAgICAgICAgICAgICAgICAgICAgICAgICAgICAgICAgICAgICAgICAgIAogICAgICAgICAgICAgICAgICAgICAgICAgICAgICAgICAgICAgICAgICAgICAgICAgICAgICAgICAgICAgICAgICAgICAgICAgICAgICAgICAgICAgICAgICAgICAgICAgICAgCiAgICAgICAgICAgICAgICAgICAgICAgICAgICAgICAgICAgICAgICAgICAgICAgICAgICAgICAgICAgICAgICAgICAgICAgICAgICAgICAgICAgICAgICAgICAgICAgICAgICAKICAgICAgICAgICAgICAgICAgICAgICAgICAgICAgICAgICAgICAgICAgICAgICAgICAgICAgICAgICAgICAgICAgICAgICAgICAgICAgICAgICAgICAgICAgICAgICAgICAgIAogICAgICAgICAgICAgICAgICAgICAgICAgICAgICAgICAgICAgICAgICAgICAgICAgICAgICAgICAgICAgICAgICAgICAgICAgICAgICAgICAgICAgICAgICAgICAgICAgICAgCiAgICAgICAgICAgICAgICAgICAgICAgICAgICAgICAgICAgICAgICAgICAgICAgICAgICAgICAgICAgICAgICAgICAgICAgICAgICAgICAgICAgICAgICAgICAgICAgICAgICAKICAgICAgICAgICAgICAgICAgICAgICAgICAgICAgICAgICAgICAgICAgICAgICAgICAgICAgICAgICAgICAgICAgICAgICAgICAgICAgICAgICAgICAgICAgICAgICAgICAgIAogICAgICAgICAgICAgICAgICAgICAgICAgICAgICAgICAgICAgICAgICAgICAgICAgICAgICAgICAgICAgICAgICAgICAgICAgICAgICAgICAgICAgICAgICAgICAgICAgICAgCiAgICAgICAgICAgICAgICAgICAgICAgICAgICA8P3hwYWNrZXQgZW5kPSd3Jz8+/9sAQwAHBQUGBQQHBgUGCAcHCAoRCwoJCQoVDxAMERgVGhkYFRgXGx4nIRsdJR0XGCIuIiUoKSssKxogLzMvKjInKisq/9sAQwEHCAgKCQoUCwsUKhwYHCoqKioqKioqKioqKioqKioqKioqKioqKioqKioqKioqKioqKioqKioqKioqKioqKioq/8AAEQgAlgFwAwEiAAIRAQMRAf/EAB8AAAEFAQEBAQEBAAAAAAAAAAABAgMEBQYHCAkKC//EALUQAAIBAwMCBAMFBQQEAAABfQECAwAEEQUSITFBBhNRYQcicRQygZGhCCNCscEVUtHwJDNicoIJChYXGBkaJSYnKCkqNDU2Nzg5OkNERUZHSElKU1RVVldYWVpjZGVmZ2hpanN0dXZ3eHl6g4SFhoeIiYqSk5SVlpeYmZqio6Slpqeoqaqys7S1tre4ubrCw8TFxsfIycrS09TV1tfY2drh4uPk5ebn6Onq8fLz9PX29/j5+v/EAB8BAAMBAQEBAQEBAQEAAAAAAAABAgMEBQYHCAkKC//EALURAAIBAgQEAwQHBQQEAAECdwABAgMRBAUhMQYSQVEHYXETIjKBCBRCkaGxwQkjM1LwFWJy0QoWJDThJfEXGBkaJicoKSo1Njc4OTpDREVGR0hJSlNUVVZXWFlaY2RlZmdoaWpzdHV2d3h5eoKDhIWGh4iJipKTlJWWl5iZmqKjpKWmp6ipqrKztLW2t7i5usLDxMXGx8jJytLT1NXW19jZ2uLj5OXm5+jp6vLz9PX29/j5+v/aAAwDAQACEQMRAD8A+jqKKKACiiigAooooAKKKKACiiigAooooAKKKKACiiigAooooAKKKKACiiigAooooAKKKKACiiigAooooAKKKKACiiigAooooAKKKKACiiigAooooAKKKKACiiigAooooAKKKKACiiigAooooAKKKKACiiigAooooAQ5wcde1ee6L4p8UX/izUPDmq3OkaZqFr88CnT5ZFuYv76nzx+X+Bx6HXHfEDwpPrVnBq2ht5GvaW3m2kq8GQDkxn1B9/5E0tnd7D3VkarWvisKdmr6OW7A6VKB/wClFZ2g614kTxRNo3i62sE8yHzrG5sFcJMFOHU7mJ3DKnHHfrWl4Q8QjxT4XtdUNu9tJICssTqRtdThsZ6jI6/1raKqWBKglehI6VVrMndC0UUUhhRRXlx8Z34vBZ6trVzoOsNfBFtLuzQWkkXmdEk8snlP4i2MnsKFq7Bsrndx6xcyeLJtIbSLpLaO3Ey6iR+6dicbB7/jng8d61q46HUtUT4sT6I+pSy2EmlG7SJo4gYnMoX5WCAkAdM5685rM0G+8R6pq/imwm8QzLDpM3l28y20HmsSpI3fJtI47KCfUUr2V/Jv7nYdtben5HolUNa1a30LRrnUrzPlW6biq9XPQKPckgD615wvi3xJL8Ix4yfU0juYiMWsdunlSqJRGd+QWyeTlSoHHFb/AI5nN5B4UgYbYr7WLYyr1BABfH0yB+VU4u9vNL7xXVr+v4HWaW99JpsMmqpFHduu6SOLO2PPO3J6kDgnuRnA6VbrnfGeo3ulaFLeWk/2WC3ikluLhQrOoVflVAwIyzEDJB4z3IrEl8S69Bp3gyylaJdW1iZGuyIxxEq7pOOxwR+uKW708vxDZff+B3tFFcz451S/0fQJ72zn+yQW8Mks1woVn3AYjRQwIyzEZJBwAe5BCbsrjSu7HTVi6XrUsuu32i6ksaXlsBPE0Yws8DEhWAJOCCCp9xnvgY6X3iT7X4OE91CjXkbf2lbCEZciLduz1GCAOMcsKNfc2vxU8KSx8NdQ3dvJjuoRXH6iqtaVvUm91dev9fI7Kiq2oXqabptxezJJJHbxNIyxJuZgBnAHc1DourQ67ottqdrFNFDcpvRJ02OB7ikMv0V5/qereJ/+FgWOkWt6lrHfeezQmJH8m3TAWUHBO9ju6kgZGV4Oeg0C71HT9Lgg8ZahZjUp53WECRVMi5+Veihm57AdqFqrg9HY6CisfUfEVtb2w/s2ayvbt5/IjtzepFvcMA65OeVzkjGe3etigAooooAKKKKACiiigAooooAKKKKACiiigAooooAKKKKACiiigAooooAKKKKACue1SeXXdQk0LTpGjgjx/aV1GcFFIz5KH++w6n+FT6kV0Nc0vw/8PI0hjhvkMjmR9mqXS7mJyScSdSaOuozoLW2gsrWK2tIlhghQJHGgwFUcACsseJbSbxWug2RW5uEhaa6ZH4tlGAA3+0SenXHNUbjwB4dkt3W4hv5I8ZZW1O6bI+nmc0eC/D/hbTLBtR8IWnlQXyjMpaUlwpIHEhyOc+mae7uxbLQ6eiiikAh5FcYPAl5N4Xi8OalrUd3pild+6yxOQG3YD7yAM8fdJA7967SigDlv+EW1IeOT4jTVrQH7MbNbc2LECHfuHzeby2e+Me1V9K8H6vpV5rV1Frdk8usN5ku7TX2o/T5R53TBPBPXBz2PY0UraWDrc4Bfhxfr8PT4QGu2/wBiLf67+z28zbv8zH+txnd3x07d6t+LNKv4vB9jcO6Xt5ol3De/6PAY/MSM/MApZjnYT35IrtKOtO7vf5/cGm3r+O5ia/pFp4z8JTWH2lltr6NXjni57hlb3HA4rH1DwNfarqtrqN7roFxBbva4gs9iLG4wxQbyVcjPzEke1dXZWFtp1t9nsYhDCGZhGpO1STk4HYZPQcVYo0voGttTlNSs5k8f6E+n6ldqqROtxYLIfI8lVYB2X+9vZACfT2Naninw9D4p8O3Gk3EzwLNtYSIMlWVgwOD1GR0rXoo6B1MnT9IuItQ/tDVbxLy7WHyIzFD5UcSZBbapZjliBk57DpWRJEdY+KVvLHzb6FaOJHHTz5sYT6hBk/7wrrar2VhbafAYrOIRoztI3JJZmOSxJ5JJ7mjrf+v61DpYsUUUUAYUPhwr47ufEc1yJC9mtpBDsx5ShtzHOecn2rP8XaeJdc0O6eznmtkug13JDE8pURqzRjYoJxvIJIHYZ7V1tFHbyDv5nmV/oNxDqmmzx6JKftt/LqN0kKnG5TmCJyMhMlgzMeMqeuBXptFFGysG7uFFFFABRRRQAUUUUAFFFFABRRRQAUUUUAFFV76+ttNsZby/mWC3hXc7seAP6n271V0TXbPXrV5bQTRSRttmt7iMxywnqAyHkZHI9RQBpUUUUAFFFFABRRRQBj6t4mstH1C1s7iOeSS5kjjHkoCELttXdkg8kHpk/KT2qGHxTDeGSGxs7hrxbuS0WCYCPLRgFnJ5wmCDnk8jjJxS+INJvb/UtHvbHyJP7OneZre4kKLITGyg7grYIznp3qtL4WIjs7lo7W/vIZZZJ0uU+SXzSC4GQdpBC7Tg8Lg9cgXn/W3/AAQfl/W//ANy1kv3Y/bba3hXHBhuGkOfxRa8/fUr7RfiBHqrX10+g31/JpbwS3DyRwyYXa4DEhcyB14wABXZW8Jt0mfSvD8Vpc7PlMpiiR+ehaPew9fu9qyJvCd3qnw6uNB1UW0V7IHdZYJWdPOLFxJkqpHznOMdO5o2d/6/qwbq39f1chhiuLfw74i1bT31G8uJXuY7KBrqaYAL8gCozEcupbIHQ+lQ+EY7jw5pOonVBqS/2XbCMrMf9FZI1OHhGBjIHPX3Oc1Yv2ufDlj4X0VZITDJLHDczNPJG7FRuZgVI4JBznOSQCOa6bWLI6lod9Yg4NzbyQgntuUj+tKV4xdvT7uo42bV/X7+n4HO2utw+GfB8Gq6ws1xd3sRvLnygC2du5vvEAKowoGfQDk1rnU9O1m+n0NklkZrNLiUFdoVHJCjOchuCfbFYslhN4s+GNnZ27RxT7IFmimJC74nXzImIBI5Qr0P0qxo+iavY+LNT1nUZrOO3vApdInLFVRNqpllGAPmbI6k9BVStzNdP0/r8vMlXsu/9f1/TL3hG/nvdFeK9kMt1Y3MtnLIeshjYqGPuV2k/Wtyuc8ExN/Y1zfMpUalfT3kYI/5Zu3yH8VCn8a6OjXr/T6j6uwUUUUgCiiigAooooAKKKKACiiigAooooAKKKKACiiigAooooAKKKKACiiigAooooAKKKKACiiigDkPFnjSLQbxIH0ltQiSaBJCrgMJJCfLWNSMMw2Z5K445q/4d1ufVtT1SK80V9Pns2SJpsllmGCcBiq525PTI54JzVPxRo99rPi7wyqW+7TLK4e8uZSwwHVf3YxnJ5Jrprv7R9jm+xGMXGw+UZc7Q2OM45xmhbXfn+n/AAQe9iaoftdsb02YuIvtQj8wwbxvCZxu29cZ4zXn1p4s1Y6Rp7vfK/2/W3hhuJo0UiziyXZsAKOEbnHAP41reEb+6v8AxLrTX1xbTmFkto3SNFYsg3SqjABmjVnVRnJz9aFr/Xkv8wen9ef/AADr3cRxs7biFBJ2qWP4Acmsb/hLNO/59tY/8Et5/wDGq2XUvGyq7ISCAy4yvuM8Vjf2DqP/AENesf8Afqz/APjFAEkHiaxubiOGODVA0jBQZNJukUE+rNGAB7k4rXrIg0a+huI5JPEuqTqrAmKSO1CuPQ7YQcfQg1r0AFFY8/hHw3c3Ek9z4f0uWaVi8kkllGzOxOSSSMkk96Z/whfhb/oWtH/8AIv/AImgDborE/4Qvwt/0LWj/wDgBF/8TR/whfhb/oWtH/8AACL/AOJoA1J7O2upIXubaGZ4H3xNJGGMbeqk9D7ip6xP+EL8Lf8AQtaP/wCAEX/xNVr/AMO+CNLt/tGp6P4fs4dwXzLi1hjXJ7ZIAzQB0EcEMLSNDEkbStvkKqBvbAGT6nAAz7UTQRXMDw3EayxSKVdHXKsD1BHcVxv/ABa3/qUP/JWj/i1v/Uof+StAHagAAADAHQUtc/b+FPB95bR3FpoGiTwyLuSWKzhZXHqCBgipf+EL8Lf9C1o//gBF/wDE0AbdFYn/AAhfhb/oWtH/APACL/4mj/hC/C3/AELWj/8AgBF/8TQBt0Vif8IX4W/6FrR//ACL/wCJo/4Qvwt/0LWj/wDgBF/8TQBt0Vif8IX4W/6FrR//AAAi/wDiaP8AhC/C3/QtaP8A+AEX/wATQBt0Vz9x4T8IWsPm3WgaJDHkLvksoVGScAZI6kkCpf8AhC/C3/QtaP8A+AEX/wATQBt0Vif8IX4W/wCha0f/AMAIv/iaP+EL8Lf9C1o//gBF/wDE0AbdFYn/AAhfhb/oWtH/APACL/4mop/Cng+1jElzoGiQoWC7pLKFRknAGSOpJAoA6CisT/hC/C3/AELWj/8AgBF/8TR/whfhb/oWtH/8AIv/AImgDborE/4Qvwt/0LWj/wDgBF/8TV3TtF0vR/M/snTbOx83HmfZoFj34zjO0DOMn8zQBeooooAKKKKACiiigAooooAKKKKACiiigAooooAwG8EeH3aItYMRC7PGhuJdqFiSwC7sBWycqBg9xV7TtB03SrieewthDJcMzud7Hlm3NgEkLk8kDGa0aKA3CiiigAooooAKKKKACiiigArP1zRbPxDotzpepR77e4Ta3qp7MPcHkVoUUmrqzGnbU8+8A61eaRqc3gbxLJm+sV3WNwel1b9se4H6DHY12+oaZY6ratbanaQ3cLDBSaMMP1rkvGWjQ+J/EOlWenNJDqmnTLcyX8JA+yRf3T6lscL7Enjg9vT+JXf9eYtnoY/hnQR4a0ptMgmMlpHM7Wqty0UbHOwnvgk4PpitiiigAqtf6ha6XZtdX8whhUgFiCcknAAA5JJOAByas1ynxCOnt4ft4NV+0JDPexItxavtktn5YSjg/d25+maTGaKeJtKvGurVHvBNBB5ssJsp0lCHgMFKBj7YBNZHhvVPDXhvwLHc6fqN9daRHLIDdTQyysp3EtuATKqDkZIA/Osvw1qVxYeKbsX3iCx13So7AO2sFI0Nth+InlX5TnJPJz3474Gi6xpqfAvWrV9QtVuG+1IsJmUOWcuUG3OcsASPXHFDdk2u36gld2ff9D0MeOvDfl20raksdvdcQ3MkUiQucZx5pUJn2zkEEdRVyy8S6VqGpnT7e4cXfl+aIZoJIi6ZxuXeo3D3GRXlviDVNJl+F/gq2S+s3aK6szNEsykoEQiQsM8AE856Z5rd1bXdJf4z+H7iPVLNoEsZUeVbhSqlxlATnGWBBA75GKtr3rebX3K5N/dv5L87G7LL/bXxOWxf5rTRLVbkp2a4kJCk/wC6gOPdq2LvxLpNjqkOnXV4I7maRYkXYxXewyqlgNqsQOASCe1YWhobf4seKUkPNzbWc0Y9VCsh/UVn+Jo7G1+JOg/2j5dlpqma/knmbbHNdbQigseNwABA/KpX2V/X9dPkhvd/L8l+p28eqWU2qz6bFcI15bxrJLCOqK3Qn64q3Xm/gLUxeeNPEF00EhutQvGBVwVa3t4kAjZlPI3bhgd8H0rr/D3ia28R/bRb2t3ayWU5hlju4tjZxkMBk8GjovS4dWSy+JNJg1mPSpbsLdyv5apsYrv27thfG0NjnaTnHamQ6ho3iq11LT4JkvIoXe0vI9pG1sYK8gZ+o4rk9ZWx0/4raU2pGKw023tZ72KaVtqTXbttbk9WC8gdfSul8LWjLHqGpywG3k1S7a4EbJtZUChE3DsSqhiD0LUJXWv9a2/zB6PT+v60K3gLUri98OyWt9IZbvS7qWwmkJ5cxnAY+5Xb+NdPXG/D4F5PE10P9XPrlx5Z9Qu1c/mD+VdlT3Sb6pfkGzaXd/mFFFFIAooooAKKKKACiiigAooooAKKKKACiiigAooooAKKKKACiiigAooooAKKKKACiiigArO1661K00aeXQ7A399jEMO9UGT/ABEsQMDrjOTWjVe/u/sNhNdeTJOIULmOMqGIHXG4gdOeSKT21GtzldHu9Y0ix8lPCGpzTSMZLi4kvLTfPIern97+Q6AAAcCnal4j8YC3YaR4HmaYr8rXWoW6qp9SFc5+mRVrT/HOn6p4RufENja3kkFqXE9uVRZo9nLZBcLwOevT34qr4i8TXVrHoDQx3mny317iS1eOOSWSJUZmXALDLYUDBz83am/PyEu/r+BoeC9O1Gw8PB9eOdWvJWubzBBAdjwoxkYChRxxxXQVkTeII4tBt9Ra0uY5LookFnMnlytIxwqEHoe59ACe1aqligLgBscgHIB+tNiQ6is+/wBVXTbyzjuYyILuTyROG4SQ/dUj0bkA+uB3rQpDCiiigAooooAwdY0m4Gu2WvaUge7t1NvPCWC/aIGOSATxuUgMM8dR3zW9RRR0sHW4Vn6ZphsJL2eafz7i8nM0j7doAwFVQMngKAPc5PetCigAqlqz366bKNJiWS8cbIy7ALGTxvb1A64HJxirtFG4GdoOjwaBodtptszOsK/NI33pGJyzH3JJP41o0UUPUAooooAKKKKACiiigAooooAKKKKACiiigAooooAKKKKACiiigAooooAKKKKACiiigArze5/tGdvFkSa1fCRXhsrYxSsp+0sd+UGTsHzovGPlUk+tekVV/s2x/tA332K3+2EYNx5S+ZjGMbsZ6Udbgc5bW0+patqRvbGy1CS1uBFGl5Of3SbBtITy2A3ZJ3Dk5x2wLWvRmHwk2npbwWj30iWaxWzfKvmuFYj5V/hLHp2NbNzptrdzCaWMiYLtE0TtG+3rt3KQce2cVXuPDuj3qxDUNNt74w58t72MTsuTnhnyf1o7XD0OD1myn0bx++k2kROneK/KLBfuxyRMPN/76iB/Gun1bR9J8WaxNbXDzO9lbNCXgmiKwtIynpksrjywRkAY9a6N7eGSSKSSKN3hJMbMoJQkYJB7cHFYmiaFcaX4i1q9cWi29/KjxCEEOAF6NwAPmLHjOSxPFC7eoPuvIp6pAbfxR4StHmlmijkuG8yZ9zO6wkAk9zy1Z+qald6X48u55dQm+yWGlTX00RciMgkLGgTOMjYx3dSWx04rptd0qTUYbaa0ZEvbGcXFsz/dLAEFWI5AZWZSe2c84qzc6Xp9/JHNf2FrcSouFeWFXKjqQCR60nd/j+X9fcPRfh+Zw1zdTXHwWMt1dPc6hCkUksjklhP5iSBcn0LAcemO1eiDoM1i6hoEd1DY6daw29rpcE6zzQxJt3bGDIgUDABbBJ9sY5yNuqbT1RKulZhRRRSGFFFFABRRRQAUUUUAFFFFABRRRQAUUUUAFFFFABRRRQAUUUUAFFFFABRRRQAUUUUAFFFFABRRRQAUUUUAFFFFABRRRQAUUUUAFFFFABRRRQAUUUUAFFFFABRRRQAUUUUAFFFFABRRRQAUUUUAFFFFABRRRQAUUUUAFFFFABRRRQAUUUUAFFFFABRRRQAUUUUAFFFFABRRRQAUUUUAFFFFABRRRQAUUUUAFFFFABRRRQAUUUUAFFFFABRRRQAUUUUAFFFFABRRRQAUUUUAFFFFABRRRQAUUUUAFFFFABRRRQB//9k=)\n",
        "\n",
        "where u is the unknown user while v represents the k-nearest neighbours. sim(u,v) is the similarity measure between the users as mentioned above. The same formula can be tweaked for item-item similarities. \n",
        "\n",
        "For detailed documentation of the surprise modules on k-NN inspired models, check out https://buomsoo-kim.github.io/recommender%20systems/2020/09/06/Recommender-systems-collab-filtering-8.md/\n"
      ],
      "metadata": {
        "id": "BdnFTpfY2lKS"
      },
      "id": "BdnFTpfY2lKS"
    },
    {
      "cell_type": "markdown",
      "source": [
        "#### 3.1 KNN Basic\n",
        "In the simplest form, the similarity metric between all users are calculated using their raw ratings for movies. Here, we have used cosine as our metric & fixed user_based as True. If we wish to change the method to estimate similarities between items, we can do it by tweaking the parameter to False. \n",
        "\n"
      ],
      "metadata": {
        "id": "B6uwR6VbTxAm"
      },
      "id": "B6uwR6VbTxAm"
    },
    {
      "cell_type": "code",
      "source": [
        "RMSE = []\n",
        "MAE = []\n",
        "\n",
        "from surprise import KNNBasic, KNNWithMeans, KNNWithZScore, KNNBaseline\n",
        "sim_options = {'name': 'cosine','user_based': 'True'}\n",
        "knn_list = [30, 40, 50, 60, 70, 80]\n",
        "cv_results = []\n",
        "for k in knn_list:\n",
        "  clf = KNNBasic(k= k, sim_options = sim_options)\n",
        "  results = cross_validate(clf, trainset, measures=['RMSE', 'MAE'], cv=3, verbose=False)\n",
        "  temp = pd.DataFrame.from_dict(results).mean(axis=0)\n",
        "  RMSE.append(temp['test_rmse'])\n",
        "  MAE.append(temp['test_mae'])\n",
        "\n",
        "knnbasic_summary = pd.DataFrame(\n",
        "    {'k': knn_list,\n",
        "     'RMSE': RMSE,\n",
        "     'MAE': MAE\n",
        "     })"
      ],
      "metadata": {
        "colab": {
          "base_uri": "https://localhost:8080/"
        },
        "id": "f2QisDv2AgPR",
        "outputId": "bafd607b-a0ae-4503-dee1-0ff6ba558d10"
      },
      "id": "f2QisDv2AgPR",
      "execution_count": 35,
      "outputs": [
        {
          "output_type": "stream",
          "name": "stdout",
          "text": [
            "Computing the cosine similarity matrix...\n",
            "Done computing similarity matrix.\n",
            "Computing the cosine similarity matrix...\n",
            "Done computing similarity matrix.\n",
            "Computing the cosine similarity matrix...\n",
            "Done computing similarity matrix.\n",
            "Computing the cosine similarity matrix...\n",
            "Done computing similarity matrix.\n",
            "Computing the cosine similarity matrix...\n",
            "Done computing similarity matrix.\n",
            "Computing the cosine similarity matrix...\n",
            "Done computing similarity matrix.\n",
            "Computing the cosine similarity matrix...\n",
            "Done computing similarity matrix.\n",
            "Computing the cosine similarity matrix...\n",
            "Done computing similarity matrix.\n",
            "Computing the cosine similarity matrix...\n",
            "Done computing similarity matrix.\n",
            "Computing the cosine similarity matrix...\n",
            "Done computing similarity matrix.\n",
            "Computing the cosine similarity matrix...\n",
            "Done computing similarity matrix.\n",
            "Computing the cosine similarity matrix...\n",
            "Done computing similarity matrix.\n",
            "Computing the cosine similarity matrix...\n",
            "Done computing similarity matrix.\n",
            "Computing the cosine similarity matrix...\n",
            "Done computing similarity matrix.\n",
            "Computing the cosine similarity matrix...\n",
            "Done computing similarity matrix.\n",
            "Computing the cosine similarity matrix...\n",
            "Done computing similarity matrix.\n",
            "Computing the cosine similarity matrix...\n",
            "Done computing similarity matrix.\n",
            "Computing the cosine similarity matrix...\n",
            "Done computing similarity matrix.\n"
          ]
        }
      ]
    },
    {
      "cell_type": "markdown",
      "source": [
        "#### 3.2 KNN Z Score\n",
        "In a real world, the simple KNN method might not work well since users's rating is quite subjective & cannot be compared. For example, I tend to be very choosy about movies so only my favorite 5 movies will get 5/5 while someone else might be very lenient with his ratings.  \n",
        "An effective way to consider these differences is by rate centerization & normalization using Surprise models KNNMeans() & KNNZScore(). KNNMeans centers the raw ratings using the mean ratings for users while Zscore goes one step further to normalize it. \n",
        "\n",
        "![Capture.JPG](data:image/jpeg;base64,/9j/4AAQSkZJRgABAQEAeAB4AAD/4RDiRXhpZgAATU0AKgAAAAgABAE7AAIAAAAIAAAISodpAAQAAAABAAAIUpydAAEAAAAQAAAQyuocAAcAAAgMAAAAPgAAAAAc6gAAAAgAAAAAAAAAAAAAAAAAAAAAAAAAAAAAAAAAAAAAAAAAAAAAAAAAAAAAAAAAAAAAAAAAAAAAAAAAAAAAAAAAAAAAAAAAAAAAAAAAAAAAAAAAAAAAAAAAAAAAAAAAAAAAAAAAAAAAAAAAAAAAAAAAAAAAAAAAAAAAAAAAAAAAAAAAAAAAAAAAAAAAAAAAAAAAAAAAAAAAAAAAAAAAAAAAAAAAAAAAAAAAAAAAAAAAAAAAAAAAAAAAAAAAAAAAAAAAAAAAAAAAAAAAAAAAAAAAAAAAAAAAAAAAAAAAAAAAAAAAAAAAAAAAAAAAAAAAAAAAAAAAAAAAAAAAAAAAAAAAAAAAAAAAAAAAAAAAAAAAAAAAAAAAAAAAAAAAAAAAAAAAAAAAAAAAAAAAAAAAAAAAAAAAAAAAAAAAAAAAAAAAAAAAAAAAAAAAAAAAAAAAAAAAAAAAAAAAAAAAAAAAAAAAAAAAAAAAAAAAAAAAAAAAAAAAAAAAAAAAAAAAAAAAAAAAAAAAAAAAAAAAAAAAAAAAAAAAAAAAAAAAAAAAAAAAAAAAAAAAAAAAAAAAAAAAAAAAAAAAAAAAAAAAAAAAAAAAAAAAAAAAAAAAAAAAAAAAAAAAAAAAAAAAAAAAAAAAAAAAAAAAAAAAAAAAAAAAAAAAAAAAAAAAAAAAAAAAAAAAAAAAAAAAAAAAAAAAAAAAAAAAAAAAAAAAAAAAAAAAAAAAAAAAAAAAAAAAAAAAAAAAAAAAAAAAAAAAAAAAAAAAAAAAAAAAAAAAAAAAAAAAAAAAAAAAAAAAAAAAAAAAAAAAAAAAAAAAAAAAAAAAAAAAAAAAAAAAAAAAAAAAAAAAAAAAAAAAAAAAAAAAAAAAAAAAAAAAAAAAAAAAAAAAAAAAAAAAAAAAAAAAAAAAAAAAAAAAAAAAAAAAAAAAAAAAAAAAAAAAAAAAAAAAAAAAAAAAAAAAAAAAAAAAAAAAAAAAAAAAAAAAAAAAAAAAAAAAAAAAAAAAAAAAAAAAAAAAAAAAAAAAAAAAAAAAAAAAAAAAAAAAAAAAAAAAAAAAAAAAAAAAAAAAAAAAAAAAAAAAAAAAAAAAAAAAAAAAAAAAAAAAAAAAAAAAAAAAAAAAAAAAAAAAAAAAAAAAAAAAAAAAAAAAAAAAAAAAAAAAAAAAAAAAAAAAAAAAAAAAAAAAAAAAAAAAAAAAAAAAAAAAAAAAAAAAAAAAAAAAAAAAAAAAAAAAAAAAAAAAAAAAAAAAAAAAAAAAAAAAAAAAAAAAAAAAAAAAAAAAAAAAAAAAAAAAAAAAAAAAAAAAAAAAAAAAAAAAAAAAAAAAAAAAAAAAAAAAAAAAAAAAAAAAAAAAAAAAAAAAAAAAAAAAAAAAAAAAAAAAAAAAAAAAAAAAAAAAAAAAAAAAAAAAAAAAAAAAAAAAAAAAAAAAAAAAAAAAAAAAAAAAAAAAAAAAAAAAAAAAAAAAAAAAAAAAAAAAAAAAAAAAAAAAAAAAAAAAAAAAAAAAAAAAAAAAAAAAAAAAAAAAAAAAAAAAAAAAAAAAAAAAAAAAAAAAAAAAAAAAAAAAAAAAAAAAAAAAAAAAAAAAAAAAAAAAAAAAAAAAAAAAAAAAAAAAAAAAAAAAAAAAAAAAAAAAAAAAAAAAAAAAAAAAAAAAAAAAAAAAAAAAAAAAAAAAAAAAAAAAAAAAAAAAAAAAAAAAAAAAAAAAAAAAAAAAAAAAAAAAAAAAAAAAAAAAAAAAAAAAAAAAAAAAAAAAAAAAAAAAAAAAAAAAAAAAAAAAAAAAAAAAAAAAAAAAAAAAAAAAAAAAAAAAAAAAAAAAAAAAAAAAAAAAAAAAAAAAAAAAAAAAAAAAAAAAAAAAAAAAAAAAAAAAAAAAAAAAAAAAAAAAAAAAAAAAAAAAAAAAAAAAAAAAAAAAAAAAAAAAAAAAAAAAAAAAAAAAAAAAAAAAAAAAAAAAAAAAAAAAAAAAAAAAAAAAAAAAAAAAAAAAAAAAAAAAAAAAAAAAAAAAAAAAAAAAAAAAAAAAAAAAAAAAAAAAAAAAAAAAAAAAAAAAAAAAAAAAAAAAAAAAAAAAAAAAAAAAAAAAAAAAAAAAAAAAAAAAAAAAAAAAAAAAAAAAAAAAAAAAAAAAAAAAAAAAAAAAAAAAAAAAAAAAAAAAAAAAAAAAAAAAAAAAAAAAAAAAAAAAAAAAAAAAAAAAAAAAAAAAAAAAAAAAAAAAAAAAAAAAAAAAAAAAAAAAAAAAAAAAAAAAAAAAAAAAAAAAAAAAAAAAAAAAAAAAAAAAAAAAAAAAAAAAAAAAAAAAAAAAAAAAAAAAAAAAAAAAAAAAAAAAAAAAAAAAAAAAAAAAAAAAAAAAAAAAAAAAAAAAAAAAAAAAAAAAAAAAAAAAAAAAAAAAAAAAAAAAAAAAAAAAAAAAAAAAAAAAAAAAAAAAAAAAAAAAAAAAAAAAAAAAAAAAAAAAAAAAAAAAAAAAAAAAAAAAAAAAAAAAAAAAAAAAAAAAAAAAAAAAAAAAAAAAAAAAAAAAAAAAAAAAAAAAAAAAAAAAAAAAAAAAAAAAAAAAAAAAAAAAAAAAAAAAAAAAAAAAAAAAAAAAAAAAAAAAAAAAAAAAAAAAAAAAAAAAAAAAAAAAAAAAAAAAAAAAAAAAAAAAAAAAAAAAAAAAAAAAAAAAAAAAAAAAAAAAAAAAAAAAAAAAAAAAAAAAAAAAAAAAAAAAAAAAAAAAAAAAAAAAAAAAAAAAAAAAAAAAAAAAAFdlbGNvbWUAAAWQAwACAAAAFAAAEKCQBAACAAAAFAAAELSSkQACAAAAAzU0AACSkgACAAAAAzU0AADqHAAHAAAIDAAACJQAAAAAHOoAAAAIAAAAAAAAAAAAAAAAAAAAAAAAAAAAAAAAAAAAAAAAAAAAAAAAAAAAAAAAAAAAAAAAAAAAAAAAAAAAAAAAAAAAAAAAAAAAAAAAAAAAAAAAAAAAAAAAAAAAAAAAAAAAAAAAAAAAAAAAAAAAAAAAAAAAAAAAAAAAAAAAAAAAAAAAAAAAAAAAAAAAAAAAAAAAAAAAAAAAAAAAAAAAAAAAAAAAAAAAAAAAAAAAAAAAAAAAAAAAAAAAAAAAAAAAAAAAAAAAAAAAAAAAAAAAAAAAAAAAAAAAAAAAAAAAAAAAAAAAAAAAAAAAAAAAAAAAAAAAAAAAAAAAAAAAAAAAAAAAAAAAAAAAAAAAAAAAAAAAAAAAAAAAAAAAAAAAAAAAAAAAAAAAAAAAAAAAAAAAAAAAAAAAAAAAAAAAAAAAAAAAAAAAAAAAAAAAAAAAAAAAAAAAAAAAAAAAAAAAAAAAAAAAAAAAAAAAAAAAAAAAAAAAAAAAAAAAAAAAAAAAAAAAAAAAAAAAAAAAAAAAAAAAAAAAAAAAAAAAAAAAAAAAAAAAAAAAAAAAAAAAAAAAAAAAAAAAAAAAAAAAAAAAAAAAAAAAAAAAAAAAAAAAAAAAAAAAAAAAAAAAAAAAAAAAAAAAAAAAAAAAAAAAAAAAAAAAAAAAAAAAAAAAAAAAAAAAAAAAAAAAAAAAAAAAAAAAAAAAAAAAAAAAAAAAAAAAAAAAAAAAAAAAAAAAAAAAAAAAAAAAAAAAAAAAAAAAAAAAAAAAAAAAAAAAAAAAAAAAAAAAAAAAAAAAAAAAAAAAAAAAAAAAAAAAAAAAAAAAAAAAAAAAAAAAAAAAAAAAAAAAAAAAAAAAAAAAAAAAAAAAAAAAAAAAAAAAAAAAAAAAAAAAAAAAAAAAAAAAAAAAAAAAAAAAAAAAAAAAAAAAAAAAAAAAAAAAAAAAAAAAAAAAAAAAAAAAAAAAAAAAAAAAAAAAAAAAAAAAAAAAAAAAAAAAAAAAAAAAAAAAAAAAAAAAAAAAAAAAAAAAAAAAAAAAAAAAAAAAAAAAAAAAAAAAAAAAAAAAAAAAAAAAAAAAAAAAAAAAAAAAAAAAAAAAAAAAAAAAAAAAAAAAAAAAAAAAAAAAAAAAAAAAAAAAAAAAAAAAAAAAAAAAAAAAAAAAAAAAAAAAAAAAAAAAAAAAAAAAAAAAAAAAAAAAAAAAAAAAAAAAAAAAAAAAAAAAAAAAAAAAAAAAAAAAAAAAAAAAAAAAAAAAAAAAAAAAAAAAAAAAAAAAAAAAAAAAAAAAAAAAAAAAAAAAAAAAAAAAAAAAAAAAAAAAAAAAAAAAAAAAAAAAAAAAAAAAAAAAAAAAAAAAAAAAAAAAAAAAAAAAAAAAAAAAAAAAAAAAAAAAAAAAAAAAAAAAAAAAAAAAAAAAAAAAAAAAAAAAAAAAAAAAAAAAAAAAAAAAAAAAAAAAAAAAAAAAAAAAAAAAAAAAAAAAAAAAAAAAAAAAAAAAAAAAAAAAAAAAAAAAAAAAAAAAAAAAAAAAAAAAAAAAAAAAAAAAAAAAAAAAAAAAAAAAAAAAAAAAAAAAAAAAAAAAAAAAAAAAAAAAAAAAAAAAAAAAAAAAAAAAAAAAAAAAAAAAAAAAAAAAAAAAAAAAAAAAAAAAAAAAAAAAAAAAAAAAAAAAAAAAAAAAAAAAAAAAAAAAAAAAAAAAAAAAAAAAAAAAAAAAAAAAAAAAAAAAAAAAAAAAAAAAAAAAAAAAAAAAAAAAAAAAAAAAAAAAAAAAAAAAAAAAAAAAAAAAAAAAAAAAAAAAAAAAAAAAAAAAAAAAAAAAAAAAAAAAAAAAAAAAAAAAAAAAAAAAAAAAAAAAAAAAAAAAAAAAAAAAAAAAAAAAAAAAAAAAAAAAAAAAAAAAAAAAAAAAAAAAAAAAAAAAAAAAAAAAAAAAAAAAAAAAAAAAAAAAAAAAAAAAAAAAAAAAAAAAAAAAAAAAAAAAAAAAAAAAAAAAAAAAAAAAAAAAAAAAAAAAAAAAAAAAAAAAAAAAAAAAAAAAAAAAAAAAAAAAAAAAAAAAAAAAAAAAAAAAAAAAAAAAAAAAAAAAAAAAAAAAAAAAAAAAAAAAAAAAAAAAAAAAAAAAAAAAAAAAAAAAAAAAAAAAAAAAAAAAAAAAAAAAAAAAAAAAAAAAAAAAAAAAAAAAAAAAAAAAAAAAAAAAAAAAAAAAAAAAAAAAAAAAAAAAAAAAAAAAAAAAAAAAAAAAAAAAAAAAAAAAAAAAAAAAAAAAAAAAAAAAAAAAAAAAAAAAAAAAAAAAAAAAAAAAAAAAAAAAAAAAAAAAAAAAAAAAAAAAAAAAAAAAAAAAAAAAAAAAAAAAAAAAAAAAAAAAAAAAAAAAAAAAAAAAAAAAAAAAAAAAAAAAAAAAAAAAAAAAAAAAAAAAAAAAAAAAAAAAAAAAAAAAAAAAAAAAAAAAAAAAAAAAAAAAAAAAAAAAAAAAAAAAAAAAAAAAAAAAAAAAAAAAAAAAAAAAAAAAAAAAAAAAAAAAAAAAAAAAAAAAAAAAAAAAAAAAAAAAAAAAAAAAAAAAAAAAAAAAAAAAAAAAAAAAAAAAAAAAAAAAAAAAAAAAAAAAAAAAAAAAAAAAAAAAAAAAAAAAAAAAAAAAAAAAAAAAAAAAAAAAAAAAAAAAAAAAAAAAAAAAAAAAAAAAAAAAAAAAAAAAAAAAAAAAAAAAAAAAAAAAAAAAAAAAAAAAAAAAAAAAAAAAAAAAAAAAAAAAAAAAAAAyMDIxOjEyOjI4IDIwOjM3OjE5ADIwMjE6MTI6MjggMjA6Mzc6MTkAAABXAGUAbABjAG8AbQBlAAAA/+ELGmh0dHA6Ly9ucy5hZG9iZS5jb20veGFwLzEuMC8APD94cGFja2V0IGJlZ2luPSfvu78nIGlkPSdXNU0wTXBDZWhpSHpyZVN6TlRjemtjOWQnPz4NCjx4OnhtcG1ldGEgeG1sbnM6eD0iYWRvYmU6bnM6bWV0YS8iPjxyZGY6UkRGIHhtbG5zOnJkZj0iaHR0cDovL3d3dy53My5vcmcvMTk5OS8wMi8yMi1yZGYtc3ludGF4LW5zIyI+PHJkZjpEZXNjcmlwdGlvbiByZGY6YWJvdXQ9InV1aWQ6ZmFmNWJkZDUtYmEzZC0xMWRhLWFkMzEtZDMzZDc1MTgyZjFiIiB4bWxuczpkYz0iaHR0cDovL3B1cmwub3JnL2RjL2VsZW1lbnRzLzEuMS8iLz48cmRmOkRlc2NyaXB0aW9uIHJkZjphYm91dD0idXVpZDpmYWY1YmRkNS1iYTNkLTExZGEtYWQzMS1kMzNkNzUxODJmMWIiIHhtbG5zOnhtcD0iaHR0cDovL25zLmFkb2JlLmNvbS94YXAvMS4wLyI+PHhtcDpDcmVhdGVEYXRlPjIwMjEtMTItMjhUMjA6Mzc6MTkuNTM2PC94bXA6Q3JlYXRlRGF0ZT48L3JkZjpEZXNjcmlwdGlvbj48cmRmOkRlc2NyaXB0aW9uIHJkZjphYm91dD0idXVpZDpmYWY1YmRkNS1iYTNkLTExZGEtYWQzMS1kMzNkNzUxODJmMWIiIHhtbG5zOmRjPSJodHRwOi8vcHVybC5vcmcvZGMvZWxlbWVudHMvMS4xLyI+PGRjOmNyZWF0b3I+PHJkZjpTZXEgeG1sbnM6cmRmPSJodHRwOi8vd3d3LnczLm9yZy8xOTk5LzAyLzIyLXJkZi1zeW50YXgtbnMjIj48cmRmOmxpPldlbGNvbWU8L3JkZjpsaT48L3JkZjpTZXE+DQoJCQk8L2RjOmNyZWF0b3I+PC9yZGY6RGVzY3JpcHRpb24+PC9yZGY6UkRGPjwveDp4bXBtZXRhPg0KICAgICAgICAgICAgICAgICAgICAgICAgICAgICAgICAgICAgICAgICAgICAgICAgICAgICAgICAgICAgICAgICAgICAgICAgICAgICAgICAgICAgICAgICAgICAgICAgICAgIAogICAgICAgICAgICAgICAgICAgICAgICAgICAgICAgICAgICAgICAgICAgICAgICAgICAgICAgICAgICAgICAgICAgICAgICAgICAgICAgICAgICAgICAgICAgICAgICAgICAgCiAgICAgICAgICAgICAgICAgICAgICAgICAgICAgICAgICAgICAgICAgICAgICAgICAgICAgICAgICAgICAgICAgICAgICAgICAgICAgICAgICAgICAgICAgICAgICAgICAgICAKICAgICAgICAgICAgICAgICAgICAgICAgICAgICAgICAgICAgICAgICAgICAgICAgICAgICAgICAgICAgICAgICAgICAgICAgICAgICAgICAgICAgICAgICAgICAgICAgICAgIAogICAgICAgICAgICAgICAgICAgICAgICAgICAgICAgICAgICAgICAgICAgICAgICAgICAgICAgICAgICAgICAgICAgICAgICAgICAgICAgICAgICAgICAgICAgICAgICAgICAgCiAgICAgICAgICAgICAgICAgICAgICAgICAgICAgICAgICAgICAgICAgICAgICAgICAgICAgICAgICAgICAgICAgICAgICAgICAgICAgICAgICAgICAgICAgICAgICAgICAgICAKICAgICAgICAgICAgICAgICAgICAgICAgICAgICAgICAgICAgICAgICAgICAgICAgICAgICAgICAgICAgICAgICAgICAgICAgICAgICAgICAgICAgICAgICAgICAgICAgICAgIAogICAgICAgICAgICAgICAgICAgICAgICAgICAgICAgICAgICAgICAgICAgICAgICAgICAgICAgICAgICAgICAgICAgICAgICAgICAgICAgICAgICAgICAgICAgICAgICAgICAgCiAgICAgICAgICAgICAgICAgICAgICAgICAgICAgICAgICAgICAgICAgICAgICAgICAgICAgICAgICAgICAgICAgICAgICAgICAgICAgICAgICAgICAgICAgICAgICAgICAgICAKICAgICAgICAgICAgICAgICAgICAgICAgICAgICAgICAgICAgICAgICAgICAgICAgICAgICAgICAgICAgICAgICAgICAgICAgICAgICAgICAgICAgICAgICAgICAgICAgICAgIAogICAgICAgICAgICAgICAgICAgICAgICAgICAgICAgICAgICAgICAgICAgICAgICAgICAgICAgICAgICAgICAgICAgICAgICAgICAgICAgICAgICAgICAgICAgICAgICAgICAgCiAgICAgICAgICAgICAgICAgICAgICAgICAgICAgICAgICAgICAgICAgICAgICAgICAgICAgICAgICAgICAgICAgICAgICAgICAgICAgICAgICAgICAgICAgICAgICAgICAgICAKICAgICAgICAgICAgICAgICAgICAgICAgICAgICAgICAgICAgICAgICAgICAgICAgICAgICAgICAgICAgICAgICAgICAgICAgICAgICAgICAgICAgICAgICAgICAgICAgICAgIAogICAgICAgICAgICAgICAgICAgICAgICAgICAgICAgICAgICAgICAgICAgICAgICAgICAgICAgICAgICAgICAgICAgICAgICAgICAgICAgICAgICAgICAgICAgICAgICAgICAgCiAgICAgICAgICAgICAgICAgICAgICAgICAgICAgICAgICAgICAgICAgICAgICAgICAgICAgICAgICAgICAgICAgICAgICAgICAgICAgICAgICAgICAgICAgICAgICAgICAgICAKICAgICAgICAgICAgICAgICAgICAgICAgICAgICAgICAgICAgICAgICAgICAgICAgICAgICAgICAgICAgICAgICAgICAgICAgICAgICAgICAgICAgICAgICAgICAgICAgICAgIAogICAgICAgICAgICAgICAgICAgICAgICAgICAgICAgICAgICAgICAgICAgICAgICAgICAgICAgICAgICAgICAgICAgICAgICAgICAgICAgICAgICAgICAgICAgICAgICAgICAgCiAgICAgICAgICAgICAgICAgICAgICAgICAgICAgICAgICAgICAgICAgICAgICAgICAgICAgICAgICAgICAgICAgICAgICAgICAgICAgICAgICAgICAgICAgICAgICAgICAgICAKICAgICAgICAgICAgICAgICAgICAgICAgICAgICAgICAgICAgICAgICAgICAgICAgICAgICAgICAgICAgICAgICAgICAgICAgICAgICAgICAgICAgICAgICAgICAgICAgICAgIAogICAgICAgICAgICAgICAgICAgICAgICAgICAgICAgICAgICAgICAgICAgICAgICAgICAgICAgICAgICAgICAgICAgICAgICAgICAgICAgICAgICAgICAgICAgICAgICAgICAgCiAgICAgICAgICAgICAgICAgICAgICAgICAgICA8P3hwYWNrZXQgZW5kPSd3Jz8+/9sAQwAHBQUGBQQHBgUGCAcHCAoRCwoJCQoVDxAMERgVGhkYFRgXGx4nIRsdJR0XGCIuIiUoKSssKxogLzMvKjInKisq/9sAQwEHCAgKCQoUCwsUKhwYHCoqKioqKioqKioqKioqKioqKioqKioqKioqKioqKioqKioqKioqKioqKioqKioqKioq/8AAEQgAnwIuAwEiAAIRAQMRAf/EAB8AAAEFAQEBAQEBAAAAAAAAAAABAgMEBQYHCAkKC//EALUQAAIBAwMCBAMFBQQEAAABfQECAwAEEQUSITFBBhNRYQcicRQygZGhCCNCscEVUtHwJDNicoIJChYXGBkaJSYnKCkqNDU2Nzg5OkNERUZHSElKU1RVVldYWVpjZGVmZ2hpanN0dXZ3eHl6g4SFhoeIiYqSk5SVlpeYmZqio6Slpqeoqaqys7S1tre4ubrCw8TFxsfIycrS09TV1tfY2drh4uPk5ebn6Onq8fLz9PX29/j5+v/EAB8BAAMBAQEBAQEBAQEAAAAAAAABAgMEBQYHCAkKC//EALURAAIBAgQEAwQHBQQEAAECdwABAgMRBAUhMQYSQVEHYXETIjKBCBRCkaGxwQkjM1LwFWJy0QoWJDThJfEXGBkaJicoKSo1Njc4OTpDREVGR0hJSlNUVVZXWFlaY2RlZmdoaWpzdHV2d3h5eoKDhIWGh4iJipKTlJWWl5iZmqKjpKWmp6ipqrKztLW2t7i5usLDxMXGx8jJytLT1NXW19jZ2uLj5OXm5+jp6vLz9PX29/j5+v/aAAwDAQACEQMRAD8A+jqKKKACiiigAooooAKKKKACiiigAooooAKKKKACiiigAooooAKKKKACiiigAooooAKKKKACiiigAooooAKKKKACiiigAooooAKKKKACiiigAooooAKKKKACiiigAooooAKKKKACiiigAooooAKKKKACiiigAooooAKKKKACiiigAooooAKKKKACiiigAooooAKKKKACiiigAooooAKKKKACiiigAooooAKKKKACiiigAooooAKKKKACiiigDhPGnivXfDHiHTlB0+30K9YRNfTWzytbyejASKMHjn0z6Vvi28UMoK6zo5BGQRpMvP8A5M1d1vRrPxBo1zpmpRiS3uE2sO6nsw9CDyDXI/D2/wBT0y/vPBevCSa40tA9rd7TtmtycLk9iOn5j+GiPb+v6X5A+5PrOr+M/Dtzb3l6mkX+irKq3kttbyxTQxk4L7TIwwM57/TvXa5z0oZQylWAZSMEEdaAMDA4FHQOotFFFABWT4gutbtbe1bw9p8F9K1yizrNLsCRfxMOeo49foa5rxZeanbeJw5stS1TR47UB7fR7to54JSx+dkRlZgQOOccGsPVNR8z4baNqmk65qk8q6ikJne4kikIaY7o5FDYJAwvOenHBoWtvVfnYHon6foer0V594vS7j+JXhi3stU1C0i1JphdRxXT7HCIMAITtXjPIAOTnrzTdLgup/ibrmgyarqR0q2t4p0tzeSFg7Af8tc+YB1OA2KFrb5/gD0/D8dD0OsDw1qtxr8l5qiybdMMrQWUQUfOqHDSk9eWBAHTA9TXO+ENY1C6+HuvtdXMt1Np893BBLK26Qqi5XJ6k89a2fBEUkfww0hNPKLMdPUxl+VDlc5OO2TR3fkvxDy83+B1FFebaJrN5pw8Y6pLqNxdafpa+RH9olL+ZcRpmRhn7oLEDauBz0rqPA011J4L019Vu2ub54VlneRssC/zgH04YcUb/h+If19x0NFVtQS7l06ePTpUhunQrFLIuQjH+LHfHXFecafdXt54N8ZXsesahHZrM8WnzeezyqYlwWViSfnfsMY5xilff0uO2x2HiLVrjQLyx1B5N2lySra3cZUfui5wkoPX7xAIPGCD256CuN8bW8q/B/UIdQkMtxFp6+ZIx5aRQpz9dwrqNMkebSbSSX77wIzZ9SozVbXXb9f+GZN72ff+v1LVZ+uavb6Dod3ql3kxW0ZcqOrHso9ycD8ag07V7681/UrC50ae0trTb5N67gpc5HOBjjH1PvjpWJ8TCW0HTYG/1U+r2kcv+75mf5gVO9vO34lbX8jotEXUBpML6xKHvJR5kqqoCxE87F9l6ZPJ61oVg+L7zULDQ3uNPl+zRwq8tzcgIWijRGb5QwIJLBV6HgmsPwxceMtQi0LVtSvrU2FzbGa+iKKgUFfk2jbnceCTux14GOXu3/X9bC2R3VFUotZ0ydYWg1G0kW4ZkhKTqfMZeWC4PJGDnHSotJ1b+1pLt4Vt3s4pQkFzBdLMJ+AWOF+7gnGCSaANKiq97cy2tqZYLKe9cEAQwMgY+/zsq/rWZ/b2o/8AQqax/wB/bP8A+P0AbdFUtOvri9Vzc6Xd6eVIAFy0TF/p5bv+uKzPHOuyeHPBeo6jbMFuUj2QEgH94xCrwevJzj2pPQa1Z0FFcbrmt6xpieFNKhnRtU1K5jjupGjByiKDMQOg/Kunk1bToZp4Zb+1SW3j82ZGmUNEn95hngc9TVPQla2M/wAVX17pGknVrE70sT5tzbFQfOh/jweoYD5h9MHrWtbXEV3axXFu4eKZA6MP4lIyDUF95N5otxhlkgmt2+ZSCGUr1B9MVhfDWZ5fhpojzdRbBefQEgfoBSXW/S36/wCQ30+f6f5mhcX1xL4us9NtJNkUMD3V5hQdwPyRpz0ydzcf3K2a57wn/psd/rr/APMTuC0J9IE+SP8AAgFv+B1zMDXnjTQ9T8RXuuajpOnRGYWMWnz+SFjjyDI7DliSDxnAxSbsvlcaV3+B6PRXDfDi3kt/Btpr2tarqEk1zbbpjf3zvEi7jhgGOFyADn3rr4dTsLmSKO3vbeV5ovOiWOVWMkecbwAeVyeo4qmrOxKd1ctUUUUhhRRRQAUUUUAFFFFABRRRQAUUUUAFFFFABRRRQAUUUUAFFFFABRRRQAUUUUAFFFFABRRRQAUUUUAFFFFABRRRQBma3q50yCOO2i+06hdN5dpbZxvbuSeyqOSew9yBRomjLpMEryyfab66bzLu6YYMr47DsoHAXsPxNQap4S0fWNSW/v4rlrpY/KWSK9miwuc4ARwOtVv+ED0L+7qH/g2uv/jlCBlvxH4ls/DdgstwyyXMzCO1tA4D3EhOAo/EjJ7VrrkqNwwccgHOK4bSvBvg1PGdwtpotwNS0vyp/tU11JIuWztxmQ5I29x6V27zRxyRpJIivISEVmALEDJAHfgZo6B1H0UUyKaOZS0MiyKGKkowIBBwR9QRigDGuPDKS67Pq9pqd/Y3dxEkMhgaMqVXOPldGGeevX9c0b7wBp97o9vpi39/b2sM5uWWJoyZpt27zHZkJJ3EnjA9q6qigDmb/wAFrqOsWGp3OuaobrTwRbuotwEJUBjjysEtjnPHpilg8GLbeIbvWodb1Nb28j8uVsQEFQMKAPK428Y+nOea6WigDnvD/g+28OwXlvb397c2947ySw3PlFS7/ebKoDk46Zx7VX8B79O0d/Dt4cXekOYef+WkJJMUg9ivH1UjtXU1GYIjcCcxIZlUoJNo3BSckZ64yBx7Uf1/kBzNz8PtLubXUbNrq+jsNRma4ns45VWMytjLA7d3UA43bc9qg8QeELAeBb/TWgvNSedhIMN+9lm4VCSgAAGFHQAAZPSuxopW0sO+tyvYW72mm21vK/mPDCkbOf4iAATWLY+C9P09vLhuLtrEXJuksHdfJSXduyMLuIDcgFiM846V0VFU3d8xKVlY5Xx0jatp8Hhq1JM+qSqJdv8Ayyt1YNI59BgBfcsK6hFCIqqMKowB6CmiCJbhp1iQTOoVpAo3MBnAJ9Bk/nUlLoPqFYPjTRp9c8KXVrZY+2RlZ7bP/PWNg6j8SMfjW9RSY0cxqluPHvgF7exuvsX29FWRmTc0WGG9CMjDDBU1ty6dbvo505oRJb+T5XlZwGUDG3jt2qxHBFC0hhiSMyNvcqoG9sYyfU4A59qkpvrbqJdPI850PQf7S0fTYNT0qbzYJLm91DzoWiLzSB1Mascbs7zypxhF55FbHw7hu4dDnfULGa2ubqdrqczIULSOclQpAICrsXPQ4OOlddRT/r+vw+4AooopAFcB8SYpta1Tw54ZtJvJkvLtrl5Nm4IsS5yRkZGT0z2rv6YYYmmWZo0MqgqrlRuAPUA0dUHRnI6p4Iv9Y1e21O910LdQwyW+IbTaixyDDGMFyVfGfmLMOnHFULvRjb+JdYih0qWRZ9PW1sN0TyRO0pYys78heduQSOFAHYV6BRR5Duc34hf+xPBY0zTV33c0AsLGIdXcrtB+gGWJ7AGodQtG8P8AgK00LT5D9olji06Bx13MNrP+A3P+FdM0ETzpM0SNLGCqSFRuUHGQD2zgflSvFHIyNJGrNG25Cy5KnBGR6HBI/Gh63v13/r7xLS1un9f5DLS1isrOG1t12QwRrGijsoGAKwR4I08Wslj9pvP7KklaVtNEiiHJbcRkLv2k5O3dj2xxXSUUbu7BaKyMjxHaO/ha7jsLUTXEEJktIVO0eYgzHgD0YDA9hWN4W0aGO40uaCzlgh0vTfsqSTwNFJJI5Vn4YA4G3r0Jc+hrsKKFo7/11/zDpYKKKKACiiigAooooAKKKKACiiigAooooAKKKKACisW/8V6Vp2sR6dcyuJGwJZVQmK3LfcEj9ELHpn/CtqjzAKKKKACiiigAooooAKKKKACiiigAooooAKKKKACqWrX7abpslzHAZ2UgBQcAc8szYO1QOScHgd6u1T1fTl1fRbzTpJXiW7geEyJ1UMCMj86Ur20GrX1Odh8dN9jsby80mS3trvTJNQL+cGKbCvyYwM5DqQeOo464v2msyTtGZda0VGkYf6PH+8Zc/wAIfzBuPvtH0pbfwyGs5YtVuFuXe0FkrQxeSscYH8I3NhicEnPZeOKu241eBY4pha3YXAa4MjRMw9dgVhnHuAT6VTtfT+tf8rE621OX+IkOqXLW6eHb27tdQtreW9xBO6rKsZXEbIDtO4t3HbFTWF5B4v1fRdQtbm8jgbTjdTRQXssabiwVFZVYA4IkzxztweK17Gz1b/hKry/1C3sktpIEggMNy7uoVmPKmMD5t3ODxtHXrWLpfhyTwJpniS/tJYGWSRri2WUtsghALbSB6FpDgdeORniU+VXfr/X4fd5lWu7L0/r+upVg8M6o/jiXVNR0wXVvcX7TITdbPsvl7EikwrfMCgY7SDzgfLk1r6fd/aPEXiLVJIpLg6aVsreKNdzYEayOFHqzMB77V9K0vC0z3HhXT5piDNJCGlAmaXa5+8u5iW4ORgk4xjtVPSYzpfi/WbSYbU1J1vrZuzkIqSL9QVU/Rqq3K+Xt+en6XJun73f+vzsVLfx15tjHLLp22aXVxpaRpPuV2z8zhtoyBhu3Vfxq1G/9n/EZ7aL5YdUsTcMg6ebEyqW+pV1B/wB0Vlr8PbmOHT7eHW/Kg0+eaWHZa4f97uyS2/74DnawAwecHtq28R1Hx9Jex5NtplmbQSdmldgzgHvtCJn3bHY0LdfP8v8AMb2dv61/yOjooopAFFFFABRRRQAUUUUAFFFFABRRRQAUUUUAFFFFABRRRQAUUUUAFFFFABRRRQAUUUUAFFFFABRRRQAUUUUAFFFFABRRRQAUUUUAFFFFABRRRQAVU1TUI9K0q5vpld0t4y5RBlnPZR7k8fjVumuWWNii7mAJCg9T6UnsNbnnzePp2t9TUeEmuDa3gtL1IJfNWV2wMLiPLnHXcFAwBk5FehDoOMe1ct8O9GvdH8K/8TeHydRvbmW7ukyCQ7t6j2Ao8Salq9p4m0O00+5SOO9uVQxbA29FDNKWJHGFChdpHJOewquy9Ce79TqJJEhiaSV1SNAWZmOAoHUk02CeG6t457aVJoZFDJJGwZXB6EEcEV5xqPirVb3wvq11bXkA8zUJLWygEaO8iFvJiXaykFWcOST2Uge3odhsGnW4iaFlWNQDAAE4GPlxxiktVf0/zG9HYg1DWbbTJES5ivXLjI+zWE9wB9TGjAfjVP8A4SzTv+fbWP8AwS3n/wAaq5qGnXN7IjW2sXunhRgrbJAwb3PmRsfyxVP+wdR/6GvWP+/Vn/8AGKANGw1CHUrczW6XCKG24uLaSBs/7siqce+MVX8Q6zF4e8O3urXCeYlpEZNm7G89lz2ycD8asWFrNZ25juL+4v2LZ824WMMB6fu0UY/DNcV8WJZ7rSdL0Gyh+0XGqXyDyAwXzI4/nYZPA6L1pPsuo13Zt6j4uGm6Zoc89g5utYnhgS1WTmNnGTk45C/T8q6SvP8AxBp/iTV/E2kapZ6MYYNPjmEEM88W9J3XasjgMV2Dg/KWbg8VJc+I9Y0rXNb+2Xcc9rpeltcyxrGAokJPlAHAbJVCTkkZbA6U21a/r/X4fiJJ6fL+vxO8orM8O3FzdeHLCW/mWa8aBPtDKAP3mPmGBwCDkYovfDWhaldG51HRdOu52ABlntEdiB05IzTaadhJpq5V8M3E076158ryeXqksab2J2qAuFGeg56Vu1w/hnwn4dnfWfP0DS5PL1SVE32UZ2qAuFGRwOeldlaWdtYWqW1jbxW0EYwkUKBFXvwBwKS+Fei/IOr9X+Zz2o+Lbr+1rjTPDOjPrN1ZgG6P2hYIoSRkJvIOW9gOO5qHwb4u1XxXH9ql0GKwscujS/bxI6upwV2bB+earaTpuueHU1y0sdN+1XGoX8t1b3zTIsI8zGPMBO8FfQKc+vNamieH5PC/gtNM0+5RrmNWd7qZeDIxy74/E4HsBSWiu+34/wDAKe9l3/D/AIJ0VUdR1rS9H8v+1tSs7Hzc+X9pnWPfjGcbiM4yPzFcVpXizVZ7Lw19ovFB1S7nneaVEUizj3Fd2AFBOU5AHWvQ6qwjE/4TTwt/0Muj/wDgfF/8VR/wmnhb/oZdH/8AA+L/AOKrbopAYn/CaeFv+hl0f/wPi/8AiqZN4v8ACVxC8M/iHRZYpFKuj3sRVgeoILcit6igDAg8W+EbaBIbbxBosMUahUjjvYlVR6AA8CpP+E08Lf8AQyaP/wCB8X/xVbdFAGJ/wmnhb/oZdH/8D4v/AIqj/hNPCw6eJNH/APA+L/4qtuigDE/4TTwt/wBDLo//AIHxf/FUf8Jp4W/6GXR//A+L/wCKrbooAxP+E08Lf9DLo/8A4Hxf/FUf8Jp4W/6GXR//AAPi/wDiq26pajrGmaQqNq2o2lishIQ3M6xhiOuNxGaAKP8Awmnhb/oZdH/8D4v/AIqj/hNPC3/Qy6P/AOB8X/xVH/CaeFv+hl0f/wAD4v8A4qj/AITTwt/0Muj/APgfF/8AFUAH/CaeFv8AoZdH/wDA+L/4qj/hNPC3/Qy6P/4Hxf8AxVbSsrqGQhlYZBByCKWgDE/4TTwt/wBDLo//AIHxf/FUf8Jp4W/6GXR//A+L/wCKrbooAxP+E08Lf9DLo/8A4Hxf/FUf8Jp4W/6GXR//AAPi/wDiq2JZY4IXlmdY40UszucBQOpJ7CiKWOeFJYJFkjcBkdGyGB6EEdaAMf8A4TTwt/0Muj/+B8X/AMVR/wAJp4W/6GXR/wDwPi/+KrbooAxP+E08Lf8AQy6P/wCB8X/xVH/CaeFv+hl0f/wPi/8Aiq0bjUbW1u7a1mlxPdMVhjALM2BknA6ADqTwOPUVaoAxP+E08Lf9DLo//gfF/wDFUf8ACaeFv+hl0f8A8D4v/iq26KAMT/hNPC3/AEMuj/8AgfF/8VR/wmnhb/oZdH/8D4v/AIqtuqt7qNrp3km9l8pZ5RCjlTt3noCegz0GcckDqRQBnf8ACaeFv+hl0f8A8D4v/iqP+E08Lf8AQy6P/wCB8X/xVbdFAGJ/wmnhb/oZdH/8D4v/AIqj/hNPC3/Qy6P/AOB8X/xVbdFAGJ/wmnhb/oZdH/8AA+L/AOKo/wCE08Lf9DLo/wD4Hxf/ABVbdFAGJ/wmnhb/AKGXR/8AwPi/+Ko/4TTwt/0Muj/+B8X/AMVW3RQBif8ACaeFv+hl0f8A8D4v/iqfB4u8N3NxHBbeINLlmlYJHHHexszsTgAAHJJPatiigAooooAKKKKACiiigAooooAKKKKACiiigAooooAKo6jo9lqrQPexO0luxaGSOV43QkYOGQg8g4xmr1FAGDH4J8PRWf2WLT9kQmWdds0gKOpJBVt2VALNgAgfMeOa2oIIra3jgt41jijUIiKMBQBgAVJRQAUUUUAFZ11oVlea9Y6vcKzXVikiQfN8q7xhjj1wMVo0UAFY+peFdG1eeeXULQyNcxLFOFmdFlVc7QyqwDYycEjI7VsUUAV7Gxt9Os0tbOPy4kJIBYsSSckknJJJJJJ5OasUUUAFFFFABSEBlIYZBGCD3paKAMCLwToEMls6WLZteIA1xKwjGd20AtjbkA7enA4rfoooAKKKKACiiigAooooAKKKKACiiigArC8YeFrbxd4em065Plyj95bzjrDIOjD+R9jW7RSauhp2OL+H3im61OC40LxAPK1/ST5dyp/5bKOBIPXPGfqD3FdFrXh/SvENi9rrFjDdRsCAXUbl91bqD7iua1DRodd+JdhqektJby6RlL+8iI2y5HFvj+I85J7A46kY7em/eV3/AF5/MS912Rn6Dp0ukaFa6fPcG5NqnlLKRgsg4XPvtwD71oUUU27u7DYKzdW1u30hrWOSOW4ubyXyre3hC75WAJONxCjABOSRWlXIeOrSDUJdLs9Q0m6vbFpJJJbmzSQy2bKo2upTnqcYwc+nFSxk194gstT0TW7fUdD1B4rJPLvrR/KDlGTcSCJMEbeeGz6c1WHi7RvDPgLTNUtNLvk0RoU8vyghMCnAUMGfJJz1G73NZNhDqem6F4mt5Jta1LSpYfK003ttLJctI0bBht279udoBYAfzOTrUV3dfAuy0ODS9UfUlSGJrf8As6fIZGUtk7MYx0OcHnGcGn1+7/g/cHb5/p/XyO3uPHdhZ31nbXthqVudQUmyZ4ARcnj5QFYspORw4Xrzir2leJrbVNYvNKa2ubK/s1V5Le5CZKN0YFGZSPxrkfE92174y8IX9rp+qS21g8sly40y4/dhlAXI2ZJyDwBkd6n0ySQfGXU75rHUEtLmyjtYrh7CZUaRWGRuK4A4+8eD2NNdPV/h/Viel/Jfn/lqaPhmU6v418R6pKdws5l0y2z/AAKgDSY+rNz9BV9fGWmt4jt9HEdwZLp5YobgIPKd4h+8UHO7jpnGMgjPFZ3gZPset+LbB/8AWLq7XOD/AHZUVlP6H8qrXVvNp3xRfU7jTLqWzi0zytP+yWzSL5rPlwdowjH1bAx3pL7Pp+l/zKf2rd/1t/XkdRpmu2Wr32o2tkXZ9OmEE7FcLvxkgHvjvWlXnvw5j1nTtKvlvNJmjupJLi8uhMpjMlwznbGjHhhtXO4ZHzDnrXU+F9bn1/Rftd7p7adcpM8M1s0m/YynB+bAzR/l/X4i6/Mgs/GWnXuvLpcEdwXkiklhm2Dy5ljba23B3dcjJABxwTTLa+sPH3g278mGeKC5EtsyXMex0dSRnGTggjI/xrFiiudH+JGs6hcaVdTI1lDb6ULW3ZkKjJdNwG2P58feIFdNotkdC8Nql66mVRJcXTr0MjEu5Htkn8Kl/Bd9v6/Aeqlp/Wn+ZV8CavNrngfTb27Ja4MZjmJ6l0JQk/Urn8a6GuR+F9vJB8O9OaVSrXHmXGD6PIzD9CK66tJfEyVbpsFFFFSMKKKKACiiigAooooAKKKKACiiigAooooAKKKKACiiigAooooAKKKKACiiigAooooAKKKKACiiigAooooAKKKKACiiigAooooAKKKKACiiigAooooAKKKKACiiigAooooAKxPFVxrUOk+X4dsJbq5mcI0kckamBO7jewBbHQdM9ffQudV0+ymEN5fW1vKV3BJZlViPXBPSq+s65Do+hyaqYJr23jUOfshRiV9RuYA9uhyc8Ck7W1GtzF07UNU0rT4rOy8E6ikMQwM3tqSx6lifN5JOSSepNVda8QeOpLSSLQPBbRTMMLPdX9udnvsD8/n+dao8ZWcvhWz1+xs7y9tbtkRY4RGJEZm2AEM4Gdx28E8+3NY3iPxDd23jLRorS3uTcCzlnbT2u1hWV2IWONzuKZ4cjrkjim97MS2ujp/DemSaR4csrK4cyXCR5nkJyXlb5nbPuxJrUrJvtWmhutOsLeFRfXxLFHO5YY1ALscdcZCj1LCtam9XcS2Cisu61WSx1+zs7lE+zXwZIJRnKzKCxRvqoJB/2SO4rUpDCiiigAooooAx7jRpE8Sw6zpzpHK8Yt7yN87ZogcqeOjqSceoJHoRsUUUdLB1uIwypAJUkdR2qrpemw6Tp8dpbF2VSWZ5DlpGYlmZj3JJJP1q3RQAVleINMuNa07+zo5lgtrhtl24J3mLuq+7dCewJ71q0UAMhijt4UhhQJHGoVFUYCgDAFPoooAKKKKACiiigAooooAKKKKACiiigAooooAKKKKACiiigAooooAKKKKACiiigAooooAKKKKACiiigAooooAKKKKACiiigAooooAKKKKACiiigAooooAKKKKACiiigAooooAbInmROgdkLKRuXqvuPevMdE0uzvo5LGIN9rPiAXBhDkPax25Ch3HYsqdT94yA16hRQtHf+t0weqt/W1jlvDiX4huolvLKO+FxI12kloxk3FjhifMGQVxtOMbcAdKt6/vnbSNNldWkurxGlKjaCsQMpOMnjKKOp+9Wtc2Fpe7ftlrBcbfu+bGGx+dVn8P6NLdw3Umk2L3EAURTNbIXj29NrYyMdsULoHc4TSrS40r4gzeEhE39nPef21bt/CseDlPwl2EfjXVNpeg+KLm/lltBc4eOB7hLkEOY8sApRyV2lzkEKee4rda3ha4E7QxmYIYxIVG4KTkrnrjIHHtWL4T0O50G0vYbkWoE15JNGLYEAKT8oOQMYUKuAMAL1NC2t2/4H6A97/13/MrlBF8ULdcBY/7GdYVHQYmXdj8NtcXr0y6LfeM2iuGiu3tYbS3DviSbzcs8x6ZC7yN3RQmOMV6VqOlC9vbK9hl8m6spCUfbuDI3DoRxwRj6EA84wdGlbSz8/wAXf9bD2d15fh/wxxWqvDJoHhQWIcKNTtUty4wzKu4FvoUBP0NdrWfcaULvXLW/uJd0dmreRCF4WRhguT3O3gDtluuRjQqr7+bv+X+RNrW8lb+vvCiiikMKKKKACiiigAooooAKKKKACiiigAooooAKKKKACiiigAooooAKKKKACiiigAooooAKKKKACiiigAooooAKKKKACiiigAooooAKKKKACiiigAooooAKKKKACiiigAooooAKKKKACiiigAooooAKKKKACiiigAooooAKKKKACiiigAooooAKKKKACiiigAooooAKKKKACiiigAooooAKKKKACiiigAooooAKKKKACiiigAooooAKKKKACiiigAooooAKKKKACiiigAooooAKKKKACiiigAooooAKKKKACiiigAooooAKKKKACiiigAooooAKKKKACiiigAooooAKKKKACiiigAooooAKKKKACiiigAooooAKKKKACiiigAooooAKKKKACiiigAooooAKKKKACiiigAooooAKKKKACiiigAooooAKKKKACiiigAooooA//9k=)"
      ],
      "metadata": {
        "id": "bwRR49R6ZKJZ"
      },
      "id": "bwRR49R6ZKJZ"
    },
    {
      "cell_type": "code",
      "source": [
        "RMSE = []\n",
        "MAE = []\n",
        "cv_results = []\n",
        "\n",
        "for k in knn_list:\n",
        "  clf = KNNWithZScore(k= k, sim_options = sim_options)\n",
        "  results = cross_validate(clf, trainset, measures=['RMSE', 'MAE'], cv=3, verbose=False)\n",
        "  temp = pd.DataFrame.from_dict(results).mean(axis=0)\n",
        "  RMSE.append(temp['test_rmse'])\n",
        "  MAE.append(temp['test_mae'])\n",
        "\n",
        "knnzscore_summary = pd.DataFrame(\n",
        "    {'k': knn_list,\n",
        "     'RMSE': RMSE,\n",
        "     'MAE': MAE\n",
        "     })"
      ],
      "metadata": {
        "colab": {
          "base_uri": "https://localhost:8080/"
        },
        "outputId": "21d538e0-d69f-4f30-e4bb-0e48b0ed53ab",
        "id": "y9OWvIlddvIy"
      },
      "execution_count": 36,
      "outputs": [
        {
          "output_type": "stream",
          "name": "stdout",
          "text": [
            "Computing the cosine similarity matrix...\n",
            "Done computing similarity matrix.\n",
            "Computing the cosine similarity matrix...\n",
            "Done computing similarity matrix.\n",
            "Computing the cosine similarity matrix...\n",
            "Done computing similarity matrix.\n",
            "Computing the cosine similarity matrix...\n",
            "Done computing similarity matrix.\n",
            "Computing the cosine similarity matrix...\n",
            "Done computing similarity matrix.\n",
            "Computing the cosine similarity matrix...\n",
            "Done computing similarity matrix.\n",
            "Computing the cosine similarity matrix...\n",
            "Done computing similarity matrix.\n",
            "Computing the cosine similarity matrix...\n",
            "Done computing similarity matrix.\n",
            "Computing the cosine similarity matrix...\n",
            "Done computing similarity matrix.\n",
            "Computing the cosine similarity matrix...\n",
            "Done computing similarity matrix.\n",
            "Computing the cosine similarity matrix...\n",
            "Done computing similarity matrix.\n",
            "Computing the cosine similarity matrix...\n",
            "Done computing similarity matrix.\n",
            "Computing the cosine similarity matrix...\n",
            "Done computing similarity matrix.\n",
            "Computing the cosine similarity matrix...\n",
            "Done computing similarity matrix.\n",
            "Computing the cosine similarity matrix...\n",
            "Done computing similarity matrix.\n",
            "Computing the cosine similarity matrix...\n",
            "Done computing similarity matrix.\n",
            "Computing the cosine similarity matrix...\n",
            "Done computing similarity matrix.\n",
            "Computing the cosine similarity matrix...\n",
            "Done computing similarity matrix.\n"
          ]
        }
      ],
      "id": "y9OWvIlddvIy"
    },
    {
      "cell_type": "markdown",
      "source": [
        "#### 3.3 KNN with baseline estimates  \n",
        "Going one step further, KNN with baseline estimates combines both user & item biases in the final prediction. So, a tough user's ratings might get pushed down while a popular hit film such as Intersteller might get its ratings bumped up owing to its high average rating.   ![Capture.JPG](data:image/jpeg;base64,/9j/4AAQSkZJRgABAQEAeAB4AAD/4RDiRXhpZgAATU0AKgAAAAgABAE7AAIAAAAIAAAISodpAAQAAAABAAAIUpydAAEAAAAQAAAQyuocAAcAAAgMAAAAPgAAAAAc6gAAAAgAAAAAAAAAAAAAAAAAAAAAAAAAAAAAAAAAAAAAAAAAAAAAAAAAAAAAAAAAAAAAAAAAAAAAAAAAAAAAAAAAAAAAAAAAAAAAAAAAAAAAAAAAAAAAAAAAAAAAAAAAAAAAAAAAAAAAAAAAAAAAAAAAAAAAAAAAAAAAAAAAAAAAAAAAAAAAAAAAAAAAAAAAAAAAAAAAAAAAAAAAAAAAAAAAAAAAAAAAAAAAAAAAAAAAAAAAAAAAAAAAAAAAAAAAAAAAAAAAAAAAAAAAAAAAAAAAAAAAAAAAAAAAAAAAAAAAAAAAAAAAAAAAAAAAAAAAAAAAAAAAAAAAAAAAAAAAAAAAAAAAAAAAAAAAAAAAAAAAAAAAAAAAAAAAAAAAAAAAAAAAAAAAAAAAAAAAAAAAAAAAAAAAAAAAAAAAAAAAAAAAAAAAAAAAAAAAAAAAAAAAAAAAAAAAAAAAAAAAAAAAAAAAAAAAAAAAAAAAAAAAAAAAAAAAAAAAAAAAAAAAAAAAAAAAAAAAAAAAAAAAAAAAAAAAAAAAAAAAAAAAAAAAAAAAAAAAAAAAAAAAAAAAAAAAAAAAAAAAAAAAAAAAAAAAAAAAAAAAAAAAAAAAAAAAAAAAAAAAAAAAAAAAAAAAAAAAAAAAAAAAAAAAAAAAAAAAAAAAAAAAAAAAAAAAAAAAAAAAAAAAAAAAAAAAAAAAAAAAAAAAAAAAAAAAAAAAAAAAAAAAAAAAAAAAAAAAAAAAAAAAAAAAAAAAAAAAAAAAAAAAAAAAAAAAAAAAAAAAAAAAAAAAAAAAAAAAAAAAAAAAAAAAAAAAAAAAAAAAAAAAAAAAAAAAAAAAAAAAAAAAAAAAAAAAAAAAAAAAAAAAAAAAAAAAAAAAAAAAAAAAAAAAAAAAAAAAAAAAAAAAAAAAAAAAAAAAAAAAAAAAAAAAAAAAAAAAAAAAAAAAAAAAAAAAAAAAAAAAAAAAAAAAAAAAAAAAAAAAAAAAAAAAAAAAAAAAAAAAAAAAAAAAAAAAAAAAAAAAAAAAAAAAAAAAAAAAAAAAAAAAAAAAAAAAAAAAAAAAAAAAAAAAAAAAAAAAAAAAAAAAAAAAAAAAAAAAAAAAAAAAAAAAAAAAAAAAAAAAAAAAAAAAAAAAAAAAAAAAAAAAAAAAAAAAAAAAAAAAAAAAAAAAAAAAAAAAAAAAAAAAAAAAAAAAAAAAAAAAAAAAAAAAAAAAAAAAAAAAAAAAAAAAAAAAAAAAAAAAAAAAAAAAAAAAAAAAAAAAAAAAAAAAAAAAAAAAAAAAAAAAAAAAAAAAAAAAAAAAAAAAAAAAAAAAAAAAAAAAAAAAAAAAAAAAAAAAAAAAAAAAAAAAAAAAAAAAAAAAAAAAAAAAAAAAAAAAAAAAAAAAAAAAAAAAAAAAAAAAAAAAAAAAAAAAAAAAAAAAAAAAAAAAAAAAAAAAAAAAAAAAAAAAAAAAAAAAAAAAAAAAAAAAAAAAAAAAAAAAAAAAAAAAAAAAAAAAAAAAAAAAAAAAAAAAAAAAAAAAAAAAAAAAAAAAAAAAAAAAAAAAAAAAAAAAAAAAAAAAAAAAAAAAAAAAAAAAAAAAAAAAAAAAAAAAAAAAAAAAAAAAAAAAAAAAAAAAAAAAAAAAAAAAAAAAAAAAAAAAAAAAAAAAAAAAAAAAAAAAAAAAAAAAAAAAAAAAAAAAAAAAAAAAAAAAAAAAAAAAAAAAAAAAAAAAAAAAAAAAAAAAAAAAAAAAAAAAAAAAAAAAAAAAAAAAAAAAAAAAAAAAAAAAAAAAAAAAAAAAAAAAAAAAAAAAAAAAAAAAAAAAAAAAAAAAAAAAAAAAAAAAAAAAAAAAAAAAAAAAAAAAAAAAAAAAAAAAAAAAAAAAAAAAAAAAAAAAAAAAAAAAAAAAAAAAAAAAAAAAAAAAAAAAAAAAAAAAAAAAAAAAAAAAAAAAAAAAAAAAAAAAAAAAAAAAAAAAAAAAAAAAAAAAAAAAAAAAAAAAAAAAAAAAAAAAAAAAAAAAAAAAAAAAAAAAAAAAAAAAAAAAAAAAAAAAAAAAAAAAAAAAAAAAAAAAAAAAAAAAAAAAAAAAAAAAAAAAAAAAAAAAAAAAAAAAAAAAAAAAAAAAAAAAAAAAAAAAAAAAAAAAAAAAAAAAAAAAAAAAAAAAAAAAAAAAAAAAAAAAAAAAAAAAAAAAAAAAAAAAAAAAAAAAAAAAAAAAAAAAAAAAAAAAAAAAAAAAAAAAAAAAAAAAAAAAAAAAAAAAAAAAAAAAAAAAAAAAAAAAAAAAAAAAAAAAAAAAAAAAAAAAAAAAAAAAAAAAAAAAAAAAAAAAAAAAAAAAAAAAAAAAAAAAAAAAAAAAAAAAAAAAAAAAAAAAAAAAAAAAAAAAAAAAAAAAAAAAAAAAAAAAAAAAAAAAAAAAAAAAAAAAAAAAAAAAAAAAAAAAAAAAAAAAAAAAAAAAAAAAAAAAAAAAAAAAAAAAAAAAAAAAAAAAAAAAAAAAAAAAAAAAAAAAAAAAAAAAAAAAAAAAAAAAAAAAAAAAAAAAAAAAAAAAAAAAAAAAAAAAAAAAAAAAAAAAAAAAAAAAAAAAAAAAAAAAAAAAAAAAAAAAAAAAAAAAAAAAAAAAAAAAAAAAAAAAAAAAAAAAAAAAAAAAAAAAAAAAAAAAAAAAAAAAAAAAAAAAAAAAAAAAAAAAAAAAAAAAAAAAAAAAAAAAAAAAAAAAAAAAAAAAAAAAAAAAAAAAAAAAAAAAAAAAAAAAAAAAAAAAAFdlbGNvbWUAAAWQAwACAAAAFAAAEKCQBAACAAAAFAAAELSSkQACAAAAAzUyAACSkgACAAAAAzUyAADqHAAHAAAIDAAACJQAAAAAHOoAAAAIAAAAAAAAAAAAAAAAAAAAAAAAAAAAAAAAAAAAAAAAAAAAAAAAAAAAAAAAAAAAAAAAAAAAAAAAAAAAAAAAAAAAAAAAAAAAAAAAAAAAAAAAAAAAAAAAAAAAAAAAAAAAAAAAAAAAAAAAAAAAAAAAAAAAAAAAAAAAAAAAAAAAAAAAAAAAAAAAAAAAAAAAAAAAAAAAAAAAAAAAAAAAAAAAAAAAAAAAAAAAAAAAAAAAAAAAAAAAAAAAAAAAAAAAAAAAAAAAAAAAAAAAAAAAAAAAAAAAAAAAAAAAAAAAAAAAAAAAAAAAAAAAAAAAAAAAAAAAAAAAAAAAAAAAAAAAAAAAAAAAAAAAAAAAAAAAAAAAAAAAAAAAAAAAAAAAAAAAAAAAAAAAAAAAAAAAAAAAAAAAAAAAAAAAAAAAAAAAAAAAAAAAAAAAAAAAAAAAAAAAAAAAAAAAAAAAAAAAAAAAAAAAAAAAAAAAAAAAAAAAAAAAAAAAAAAAAAAAAAAAAAAAAAAAAAAAAAAAAAAAAAAAAAAAAAAAAAAAAAAAAAAAAAAAAAAAAAAAAAAAAAAAAAAAAAAAAAAAAAAAAAAAAAAAAAAAAAAAAAAAAAAAAAAAAAAAAAAAAAAAAAAAAAAAAAAAAAAAAAAAAAAAAAAAAAAAAAAAAAAAAAAAAAAAAAAAAAAAAAAAAAAAAAAAAAAAAAAAAAAAAAAAAAAAAAAAAAAAAAAAAAAAAAAAAAAAAAAAAAAAAAAAAAAAAAAAAAAAAAAAAAAAAAAAAAAAAAAAAAAAAAAAAAAAAAAAAAAAAAAAAAAAAAAAAAAAAAAAAAAAAAAAAAAAAAAAAAAAAAAAAAAAAAAAAAAAAAAAAAAAAAAAAAAAAAAAAAAAAAAAAAAAAAAAAAAAAAAAAAAAAAAAAAAAAAAAAAAAAAAAAAAAAAAAAAAAAAAAAAAAAAAAAAAAAAAAAAAAAAAAAAAAAAAAAAAAAAAAAAAAAAAAAAAAAAAAAAAAAAAAAAAAAAAAAAAAAAAAAAAAAAAAAAAAAAAAAAAAAAAAAAAAAAAAAAAAAAAAAAAAAAAAAAAAAAAAAAAAAAAAAAAAAAAAAAAAAAAAAAAAAAAAAAAAAAAAAAAAAAAAAAAAAAAAAAAAAAAAAAAAAAAAAAAAAAAAAAAAAAAAAAAAAAAAAAAAAAAAAAAAAAAAAAAAAAAAAAAAAAAAAAAAAAAAAAAAAAAAAAAAAAAAAAAAAAAAAAAAAAAAAAAAAAAAAAAAAAAAAAAAAAAAAAAAAAAAAAAAAAAAAAAAAAAAAAAAAAAAAAAAAAAAAAAAAAAAAAAAAAAAAAAAAAAAAAAAAAAAAAAAAAAAAAAAAAAAAAAAAAAAAAAAAAAAAAAAAAAAAAAAAAAAAAAAAAAAAAAAAAAAAAAAAAAAAAAAAAAAAAAAAAAAAAAAAAAAAAAAAAAAAAAAAAAAAAAAAAAAAAAAAAAAAAAAAAAAAAAAAAAAAAAAAAAAAAAAAAAAAAAAAAAAAAAAAAAAAAAAAAAAAAAAAAAAAAAAAAAAAAAAAAAAAAAAAAAAAAAAAAAAAAAAAAAAAAAAAAAAAAAAAAAAAAAAAAAAAAAAAAAAAAAAAAAAAAAAAAAAAAAAAAAAAAAAAAAAAAAAAAAAAAAAAAAAAAAAAAAAAAAAAAAAAAAAAAAAAAAAAAAAAAAAAAAAAAAAAAAAAAAAAAAAAAAAAAAAAAAAAAAAAAAAAAAAAAAAAAAAAAAAAAAAAAAAAAAAAAAAAAAAAAAAAAAAAAAAAAAAAAAAAAAAAAAAAAAAAAAAAAAAAAAAAAAAAAAAAAAAAAAAAAAAAAAAAAAAAAAAAAAAAAAAAAAAAAAAAAAAAAAAAAAAAAAAAAAAAAAAAAAAAAAAAAAAAAAAAAAAAAAAAAAAAAAAAAAAAAAAAAAAAAAAAAAAAAAAAAAAAAAAAAAAAAAAAAAAAAAAAAAAAAAAAAAAAAAAAAAAAAAAAAAAAAAAAAAAAAAAAAAAAAAAAAAAAAAAAAAAAAAAAAAAAAAAAAAAAAAAAAAAAAAAAAAAAAAAAAAAAAAAAAAAAAAAAAAAAAAAAAAAAAAAAAAAAAAAAAAAAAAAAAAAAAAAAAAAAAAAAAAAAAAAAAAAAAAAAAAAAAAAAAAAAAAAAAAAAAAAAAAAAAAAAAAAAAAAAAAAAAAAAAAAAAAAAAAAAAAAAAAAAAAAAAAAAAAAAAAAAAAAAAAAAAAAAAAAAAAAAAAAAAAAAAAAAAAAAAAAAAAAAAAAAAAAAAAAAAAAAAAAAAAAAAAAAAAAAAAAAAAAAAAAAAAAAAAAAAAAAAAAAAAAAAAAAAAAAAAAAAAAAAAAAAAAAAAAAAAAAAAAAAAAAAAAAAAAAAAAAAAAAAAAAAAAAAAAAAAAAAAAAAAAAAAAAAAAAAAAAAAAAAAAAAAAAAAAAAAAAAAAAAAAAAAAAAAAAAAAAAAAAAAAAAAAAAAAAAAAAAAAAAAAAAAAAAAAAAAAAAAAAAAAAAAAAAAAAAAAAAAAAAAAAAAAAAAAAAAAAAAAAAAAAAAAAAAAAAAAAAAAAAAAAAAAAAAAAAAAAAAAAAAAAAAAAAAAAAAAAAAAAAAAAAAAAAAAAAAAAAAAAAAAAAAAAAAAAAAAAAAAAAAAAAAAAAAAAAAAAAAAAAAAAAAAAAAAAAAAAAAAAAAAAAAAAAAAAAAAAAAAAAAAAAAAAAAAAAAAAAAAAAAAAAAAAAAAAAAAAAAyMDIxOjEyOjI4IDIwOjQzOjIyADIwMjE6MTI6MjggMjA6NDM6MjIAAABXAGUAbABjAG8AbQBlAAAA/+ELGmh0dHA6Ly9ucy5hZG9iZS5jb20veGFwLzEuMC8APD94cGFja2V0IGJlZ2luPSfvu78nIGlkPSdXNU0wTXBDZWhpSHpyZVN6TlRjemtjOWQnPz4NCjx4OnhtcG1ldGEgeG1sbnM6eD0iYWRvYmU6bnM6bWV0YS8iPjxyZGY6UkRGIHhtbG5zOnJkZj0iaHR0cDovL3d3dy53My5vcmcvMTk5OS8wMi8yMi1yZGYtc3ludGF4LW5zIyI+PHJkZjpEZXNjcmlwdGlvbiByZGY6YWJvdXQ9InV1aWQ6ZmFmNWJkZDUtYmEzZC0xMWRhLWFkMzEtZDMzZDc1MTgyZjFiIiB4bWxuczpkYz0iaHR0cDovL3B1cmwub3JnL2RjL2VsZW1lbnRzLzEuMS8iLz48cmRmOkRlc2NyaXB0aW9uIHJkZjphYm91dD0idXVpZDpmYWY1YmRkNS1iYTNkLTExZGEtYWQzMS1kMzNkNzUxODJmMWIiIHhtbG5zOnhtcD0iaHR0cDovL25zLmFkb2JlLmNvbS94YXAvMS4wLyI+PHhtcDpDcmVhdGVEYXRlPjIwMjEtMTItMjhUMjA6NDM6MjIuNTE4PC94bXA6Q3JlYXRlRGF0ZT48L3JkZjpEZXNjcmlwdGlvbj48cmRmOkRlc2NyaXB0aW9uIHJkZjphYm91dD0idXVpZDpmYWY1YmRkNS1iYTNkLTExZGEtYWQzMS1kMzNkNzUxODJmMWIiIHhtbG5zOmRjPSJodHRwOi8vcHVybC5vcmcvZGMvZWxlbWVudHMvMS4xLyI+PGRjOmNyZWF0b3I+PHJkZjpTZXEgeG1sbnM6cmRmPSJodHRwOi8vd3d3LnczLm9yZy8xOTk5LzAyLzIyLXJkZi1zeW50YXgtbnMjIj48cmRmOmxpPldlbGNvbWU8L3JkZjpsaT48L3JkZjpTZXE+DQoJCQk8L2RjOmNyZWF0b3I+PC9yZGY6RGVzY3JpcHRpb24+PC9yZGY6UkRGPjwveDp4bXBtZXRhPg0KICAgICAgICAgICAgICAgICAgICAgICAgICAgICAgICAgICAgICAgICAgICAgICAgICAgICAgICAgICAgICAgICAgICAgICAgICAgICAgICAgICAgICAgICAgICAgICAgICAgIAogICAgICAgICAgICAgICAgICAgICAgICAgICAgICAgICAgICAgICAgICAgICAgICAgICAgICAgICAgICAgICAgICAgICAgICAgICAgICAgICAgICAgICAgICAgICAgICAgICAgCiAgICAgICAgICAgICAgICAgICAgICAgICAgICAgICAgICAgICAgICAgICAgICAgICAgICAgICAgICAgICAgICAgICAgICAgICAgICAgICAgICAgICAgICAgICAgICAgICAgICAKICAgICAgICAgICAgICAgICAgICAgICAgICAgICAgICAgICAgICAgICAgICAgICAgICAgICAgICAgICAgICAgICAgICAgICAgICAgICAgICAgICAgICAgICAgICAgICAgICAgIAogICAgICAgICAgICAgICAgICAgICAgICAgICAgICAgICAgICAgICAgICAgICAgICAgICAgICAgICAgICAgICAgICAgICAgICAgICAgICAgICAgICAgICAgICAgICAgICAgICAgCiAgICAgICAgICAgICAgICAgICAgICAgICAgICAgICAgICAgICAgICAgICAgICAgICAgICAgICAgICAgICAgICAgICAgICAgICAgICAgICAgICAgICAgICAgICAgICAgICAgICAKICAgICAgICAgICAgICAgICAgICAgICAgICAgICAgICAgICAgICAgICAgICAgICAgICAgICAgICAgICAgICAgICAgICAgICAgICAgICAgICAgICAgICAgICAgICAgICAgICAgIAogICAgICAgICAgICAgICAgICAgICAgICAgICAgICAgICAgICAgICAgICAgICAgICAgICAgICAgICAgICAgICAgICAgICAgICAgICAgICAgICAgICAgICAgICAgICAgICAgICAgCiAgICAgICAgICAgICAgICAgICAgICAgICAgICAgICAgICAgICAgICAgICAgICAgICAgICAgICAgICAgICAgICAgICAgICAgICAgICAgICAgICAgICAgICAgICAgICAgICAgICAKICAgICAgICAgICAgICAgICAgICAgICAgICAgICAgICAgICAgICAgICAgICAgICAgICAgICAgICAgICAgICAgICAgICAgICAgICAgICAgICAgICAgICAgICAgICAgICAgICAgIAogICAgICAgICAgICAgICAgICAgICAgICAgICAgICAgICAgICAgICAgICAgICAgICAgICAgICAgICAgICAgICAgICAgICAgICAgICAgICAgICAgICAgICAgICAgICAgICAgICAgCiAgICAgICAgICAgICAgICAgICAgICAgICAgICAgICAgICAgICAgICAgICAgICAgICAgICAgICAgICAgICAgICAgICAgICAgICAgICAgICAgICAgICAgICAgICAgICAgICAgICAKICAgICAgICAgICAgICAgICAgICAgICAgICAgICAgICAgICAgICAgICAgICAgICAgICAgICAgICAgICAgICAgICAgICAgICAgICAgICAgICAgICAgICAgICAgICAgICAgICAgIAogICAgICAgICAgICAgICAgICAgICAgICAgICAgICAgICAgICAgICAgICAgICAgICAgICAgICAgICAgICAgICAgICAgICAgICAgICAgICAgICAgICAgICAgICAgICAgICAgICAgCiAgICAgICAgICAgICAgICAgICAgICAgICAgICAgICAgICAgICAgICAgICAgICAgICAgICAgICAgICAgICAgICAgICAgICAgICAgICAgICAgICAgICAgICAgICAgICAgICAgICAKICAgICAgICAgICAgICAgICAgICAgICAgICAgICAgICAgICAgICAgICAgICAgICAgICAgICAgICAgICAgICAgICAgICAgICAgICAgICAgICAgICAgICAgICAgICAgICAgICAgIAogICAgICAgICAgICAgICAgICAgICAgICAgICAgICAgICAgICAgICAgICAgICAgICAgICAgICAgICAgICAgICAgICAgICAgICAgICAgICAgICAgICAgICAgICAgICAgICAgICAgCiAgICAgICAgICAgICAgICAgICAgICAgICAgICAgICAgICAgICAgICAgICAgICAgICAgICAgICAgICAgICAgICAgICAgICAgICAgICAgICAgICAgICAgICAgICAgICAgICAgICAKICAgICAgICAgICAgICAgICAgICAgICAgICAgICAgICAgICAgICAgICAgICAgICAgICAgICAgICAgICAgICAgICAgICAgICAgICAgICAgICAgICAgICAgICAgICAgICAgICAgIAogICAgICAgICAgICAgICAgICAgICAgICAgICAgICAgICAgICAgICAgICAgICAgICAgICAgICAgICAgICAgICAgICAgICAgICAgICAgICAgICAgICAgICAgICAgICAgICAgICAgCiAgICAgICAgICAgICAgICAgICAgICAgICAgICA8P3hwYWNrZXQgZW5kPSd3Jz8+/9sAQwAHBQUGBQQHBgUGCAcHCAoRCwoJCQoVDxAMERgVGhkYFRgXGx4nIRsdJR0XGCIuIiUoKSssKxogLzMvKjInKisq/9sAQwEHCAgKCQoUCwsUKhwYHCoqKioqKioqKioqKioqKioqKioqKioqKioqKioqKioqKioqKioqKioqKioqKioqKioq/8AAEQgAqAIIAwEiAAIRAQMRAf/EAB8AAAEFAQEBAQEBAAAAAAAAAAABAgMEBQYHCAkKC//EALUQAAIBAwMCBAMFBQQEAAABfQECAwAEEQUSITFBBhNRYQcicRQygZGhCCNCscEVUtHwJDNicoIJChYXGBkaJSYnKCkqNDU2Nzg5OkNERUZHSElKU1RVVldYWVpjZGVmZ2hpanN0dXZ3eHl6g4SFhoeIiYqSk5SVlpeYmZqio6Slpqeoqaqys7S1tre4ubrCw8TFxsfIycrS09TV1tfY2drh4uPk5ebn6Onq8fLz9PX29/j5+v/EAB8BAAMBAQEBAQEBAQEAAAAAAAABAgMEBQYHCAkKC//EALURAAIBAgQEAwQHBQQEAAECdwABAgMRBAUhMQYSQVEHYXETIjKBCBRCkaGxwQkjM1LwFWJy0QoWJDThJfEXGBkaJicoKSo1Njc4OTpDREVGR0hJSlNUVVZXWFlaY2RlZmdoaWpzdHV2d3h5eoKDhIWGh4iJipKTlJWWl5iZmqKjpKWmp6ipqrKztLW2t7i5usLDxMXGx8jJytLT1NXW19jZ2uLj5OXm5+jp6vLz9PX29/j5+v/aAAwDAQACEQMRAD8A+jqKKKACiiigAooooAKKKKACiiigAooooAKKKKACiiigAooooAKKKKACiiigAooooAKKKKACiiigAooooAKKKKACiiigAooooAKKKKACiiigAooooAKKKKACiiigAooooAKKKKACiiigAooooAKKKKACiiigAooooAKKKKACiiigAooooAKKKKACiiigAooooAKKKKACiiigAooooAKKKKACiiigAooooAKKKKACvKb2Gbwx8RBbeJNS1e40LWGxZXP9qXEYtZc/6ttsgGOeM9sehr1asbxXoWn+IvDV3YauVS3ZC/nNx5JAyHB7Y/lmk9HzDWugw+EtPIwLrWB7jWrv/wCO1l6b4d1bw74vjnttW1LVNIvI2jmgvrppjauPmV1LHlTgr6jI69pvhzNq83gu2/t0rI6Epbz85nhHCSEEZGR68kYJ611VU9GTutQooopDCiivHNZtZorDV9R1DR7bxDpE11LKdXtZQl5aIHwVw6k/JgjA4wPQmjrqHQ9Nkg10+LIpo7u1Ghi2KyW5Q+aZc8MDjpjHf8O9a1efTQ2f/C6NEu7OCOM3mlTSu6oFaXpgt6nGBzVHw54d0mf4peL7SWwgazhS22WmweSCyZJ8v7ueuDjjJ9aNbW9fwYd36fiken1k+JtbTw74bvNTZPMaFMRx/wDPSQnaq/ixFeV6Vp1tc/BLWdQu1a5u7VpxazTOXa2CN8ojJ5QD2xXTeJ55rv4d+FprljJ515p7XDMfvZIJJ/HFFr6en4hs/v8AwO00SzubHSYY7+5kurxh5lxK7ZzIeTgdlHQAdAK0KxPFywr4bubm8dvslohuZ4QOLhUUnyz/ALJOMjuOOhrzuSG6tfhh4W0IXDrca9exvIEbb5cLN5rBfRQCox9aL3f3fiFrL7/wPX6Kz4tc0qU2apqFvuvk32qNIFadcZyqnk8VkfEAxW/hO6v7pi9vZRtK1qVylw20qiv6ruIOO+BSk+VXHFXdjp65lL+bR/Ha6XcTSS2erxPPaeYxYxTJjzIwT/CQQwHbBxxXP2vh4JpfgLT5pppNQs5BdFhIfkjCFnyP7u4og+oFanjPI8WeDTH/AK3+0XA/3fKbd+lU1aVvO39fP8ib3jfyv/X9dTsqKZKZBC5hVWkCnYGOAT2yazvDs2tT6LHJ4mtra11As2+O2YsgGeO57e5pDKHinUpxeaZoOnTNDd6rKytMn3oYEG6Rh6HGFB7Fs9q6GNBFGqLnaoAG5iTx7nk1x95k/GfTPM+4NHmMf+95i5/TFZPxL01rrVtHjS5k+16hewW1t5fytaopZpZEbOQxyoJGOAKFsvN/rYHu/Jfpc9IorlLXStF8BTalqst7NDb3rKfJ2blj2KSdqoMk4DEscnAye5q/c+L9Eg+0J9uUywwpMVETtlXUshAUEsMKSducAEnFDaSuFnc3KKo6Jcz3uh2d1dy200s8SyNJaBhE2RkFd3OMEdaTUZtWidP7JsrK5Ug7zc3jwFT2wFifP6U3o7AtVcv0VifavFP/AEBtH/8ABtL/API1atq1y9qjXsUUM5HzpDKZFU+zFVJ/IUgOU8QapqkHxF8O6VpmoSJDeCSW7g8uNlEcYzkEruG48de3GK7GvOjp9jrvxX1291uCOaz0SxhgWOcZQ7wZGYqeCAM9fr2o+HviGHTfBVvLrtw1tDeXchsEkVmKQFwqA4B2ruYAE4HI9qI6q3z+96fgEtHf+tr/ANfI9FrnPGN3c6LYR6/aSSFdPcG6twxKzQEgPx03L94HrwR0Jpmq+M9PjtbqHTNRtlv4bj7L/pUMpjjl3KDv2jIHzgbsgZI5q34yCnwJrYmwR/Z82fTPlmpbtHmRUVeXKzZjkWWJZI2DI6hlI7g06sfwiZD4K0Uz58z7BBuz6+WK2K0kuWTRnF3imFFFFSUFFFFABRRRQAUUUUAFFFFABRRRQAUUUUAFFFFABRRRQAUUUUAFFFFABRRRQAUUUUAFFFFABRRRQAUUUUAFcBqvjDw7q+uy6ZqGtWdvpdhIBcJJMAbuUc7Mf881PX+8eOgOe/qlFrGmT6i+nw6jaSXsYJe2SdTIuOuVzkUdQ6GO/wARPCEcZY+IbDC9llBP5CszR/iBB4u8ZRab4Yd30+0jae8umi2iXjaqKGGRyck4H3eK6mDXNKur6SxtNTsp7yLO+3juFaRcdcqDkY+lU/DXiSHxDYJMfIguH3sLZbgSN5YcqJMYBw2M9O9C3B7G3RUEN7b3FxPBBIJJLdgsoUHCMRnGemcYOOoyPUU+aZLeCSaXdsjUs21SxwOeg5P4UASVgr4K0FEkjWzkEMshklgF1L5UrE5JePdtbJ9Qe3pW1BPFdW8c9tIssMqh0kQ5VgehB9Kko2YGLN4T0i41tNXljuft0f3JVvp12D+6FD4CnuoGD3FRW/grRbW8uLu3S9jublds8w1K53yDGBuPmZOB0Pbtit+igDm4/APh6HS5tNitrlLKZt0luNQuAjnnORv755HfjOcCjWPCFtc+CrnQtMaSEbQ1sZp3l8p0IKYLkkKCo4HAHSukooDqZWlXkfiDQcX1sFkZTBe2kq/cfGHQjuOePUEHvVI+A/DrRQxvYyOLcYgZrqYtCuMbUYvlVwcbQQPauiooeruC0VjndY8Ow32taFJBp8Krp8vmfagADCij5Y1HXk49gFPtW3eWdvqFlLaXsKT28ylJI3GQwPap6KOlg63M7TNC0/SCTYxOHKCPfNM8zBB0UM5JCj0HFY6W51/x5FqIX/QNFjkhhcjiW4fhyPUKo259SR2NdTRR1uHSwUUUUAcz4rspodR0rxFZxNNJpUjieJBlpLeQYfAHUrgMB3wa05dK0zVtQ07WXQTzWiM1pKHO0CQAEgZwcjvWnRQtP6/r+rgc/wCNdJuNZ8MT2tjAk87FBtJAZo9w8xVY8AlNw6gc1keIvD+patpGpz21gI7q8WG0ihLR+ZDbKSHIOdoYiSTjd0IGe1dvRQBT0qKaHSreK4hjgdECiGLlY1H3Vz3wMAnpmrlFFNu7uJKysFFFFIZk3/hjSNTvXur203yyII5dsrosyjosiqQrgejA1Q8T6PNdTaNJY2C3ENneJJPDFsRzGisUC7iBgPtOM9q6WigDgdX8N6tPcWN1Dp8M0s2oNfXi71G1lXFujEkbkUhS2M8rwDmtfxkk+q6anhu0ObnU8JO6jiGAEeY59Mj5QO5Psa6eijpboHW/UZDClvBHDCoWONQiqOwAwBT6KKNw2CiiigAooooAKKKKACiiigAooooAKKKKACiiigAooqvfXLWdjLPHby3TouVhhALOewGePxPAoAsUVj6HfaxO0sHiDTo7W4X50ktpDJC6HouTg7l6EYweo4OBsUAFFFFABRRRQAUUVzlp4nuLjx5deHJNPjVba2+0m6juS/BbCqVKDDEc9Tj3o62Dpc6OiiigAooooAKKjguIbqFZraVJomzh42DKcHB5HuKkoA53xXrep6ObEaXbQSm5uI4B52TvZnA2DBBHy723cgbehzxTl8SamuoXdjKkSZ1E2tvPbwPKViEIkYlRnLjO30BOcHGDu6vosGsfZGllmgls5xcQSwldyOAR0YEEEMRyKY2gWv8AZ8VvHJNHJDMbhLlWHmCU53PnGCTuORjGDjGKF5/1t/wQfl/W/wDwBNNl3XG032pXBC9Lqz8pT758pefbP4VwviiOW31Kfxzahnk0fUVgYL/HaKoSVfwdnP4GvQRbai6yJNqEaqykK8FttkQ9jlmZSfquKq6f4dgstCuNJuLq51C3uDJvN1s3ESElh8ir1JJ555o13X9f1+o9NmZVjdR3Xh/Xdatru2gGoSyC2ubiTZGAqiGMlvQsuf8AgVR+F/DNx4QhujItjNbQWwEE6x/6QQEUlGbA+XcrEZJ6gcbcU3XdJn0XQtA0/QTqZgs7qGJltDlmjXkl8AZzt284XL5PQY7F0EkbI4+VgQRQ9ny+n3L/AIIl05vX8f8AgHD2eq3WhfCi01e3WJ5ZLY31zNNllDOpkJKggsSxCgA9x2Fa2l+Ib698R22l3FrFEw0pLy82kkxyuwAQe3D9faodK0EXfgqXwtrMcypaj7L5i8eZGDmN1bGD8u3PXBBBqxb+FLOw1uXXZry+urnaGfzSpDFFZVbaiDkKzAAcc5xnmm2uZvp/wH/XyFra3X/gr/gjPCDmGbXdNX/VWOpusI7Kjqsu0ewLmulrD8LWE9tZ3d5exmK51K7e7eJusYOFRT7hFXPvmtylskvJfkPq/V/mFFFFABRRRQAUUUUAFFFFABRRRQAUUUUAFFFFABRRRQAUUUUAFFFFABRRRQAUUUUAFFFFABRRRQAUUUUAFFFFABRRRQAUUUUAFFFFABRRRQAVw/xD1vXtFgjuNHlWBS8MMCsiOLqeSTBRgQSFCAnjBJbrxXcVheIPDh17VdFuJLkR2+mXX2p4dmfNcDCc54weeho6r1DoxmhW3iW31m+/ty9gurApH9mKqqvvx8/AUYXPABLHgc10FMlj82F4w7Rl1K70OGXPce9eOS3VrY6VeWTTfZ/tniIJcW4b5obeEjlh6uIxyfvF+9F9bf1ul+obK/8AW3/APW5b4xapb2YtLmQTI7m4RAYo9uOGbPBOeAAehq3Xn/h14H+J+qyolwsghWHbIBvYt+9d5PZdyRr16YHc16BR0QdWYrXXicMdmkaSVzwTqsoJH0+z0LdeJyw36PpIXPJGqykgfT7PQ3g3ww7Fn8OaSzMckmxiJJ/75oXwb4YRgyeHNJVlOQRYxAg/980LzB+RtV5LZS3zt458Z2uqPZJHM8VuFiRxL5C4XJYH5ScDC4PvXrVcd/wgKvYT6PLqJOhT3TXT2aQ7ZGy28xmXd9zd2Cg9t1LW+nb/ACHdW17m94b1OXWfDGm6lcRCKW7tkldB0BZQeParOo3p07T5boWtxdmMAiC1TfI/OMAEj19a4fXBaaL8RLK8lYwRW2nz3EeTjzXAWNYIwOoAyQgzy2a5mGa2n8MeF1uHuJZZLoyzz9VyP9IkER7yMxWP1yGA71Wkndf1q1+hNnFWf9aXPZwcqDgjPY9qybjxLY2tzJBLBqjPG20mLSbqRT9GWMgj3BrWU7lBIK5GcHqKWkPocP4M8TWNt4TtYpINULK0uTHpN068ysfvLGQa7WKRZoUlQMFdQwDoVYA+oOCD7HmsnwpYXOm+Gba0vY/LnRpCy7gcZkYjkcdCK2aOgjLvPENlY3b288OpM6YyYNLuZkORnh0jKnr2PtUH/CWad/z7ax/4Jbz/AONVt0UDMT/hLNO/59tY/wDBLef/ABqj/hLNO/59tY/8Et5/8arbooAxP+Es07/n21j/AMEt5/8AGqP+Es07/n21j/wS3n/xqtuigDE/4SzTv+fbWP8AwS3n/wAao/4SzTv+fbWP/BLef/Gq26KAMT/hLNO/59tY/wDBLef/ABqj/hLNO/59tY/8Et5/8arbooAxP+Es07/n21j/AMEt5/8AGqP+Es07/n21j/wS3n/xqqOoeOraw8Wr4c/snUp7+SPzIvL8lUmXGcqzyLnGDx14NXv7e1H/AKFTWP8Av7Z//H6Olw8g/wCEs07/AJ9tY/8ABLef/GqP+Es07/n21j/wS3n/AMarPXx9bR+IrPRtS0XV9NnvH8uGW6hj8pmxnG9XYE9uM9RXV0dLh1sYn/CWad/z7ax/4Jbz/wCNUf8ACWad/wA+2sf+CW8/+NVt0UAYn/CWad/z7ax/4Jbz/wCNUf8ACWad/wA+2sf+CW8/+NVt1Q1HW9N0ia0h1K7jt5L2XybdXz+8f0H+e4oAp/8ACWad/wA+2sf+CW8/+NUf8JZp3/PtrH/glvP/AI1W3RQBif8ACWad/wA+2sf+CW8/+NUf8JZp3/PtrH/glvP/AI1W3VCw1e31K8vILRXdLOTypJ8DYZP4kU5ySvGeMZOM5BwAU/8AhLNO/wCfbWP/AAS3n/xqj/hLNO/59tY/8Et5/wDGq26KAMT/AISzTv8An21j/wAEt5/8ao/4SzTv+fbWP/BLef8AxqtuigDE/wCEs07/AJ9tY/8ABLef/GqP+Es07/n21j/wS3n/AMaq4+r28WuR6VOHinmiMsDMBsmA+8FOfvLwSDjg5GecX6AMT/hLNO/59tY/8Et5/wDGqP8AhLNO/wCfbWP/AAS3n/xqtuigDE/4SzTv+fbWP/BLef8Axqj/AISzTv8An21j/wAEt5/8arbooAxP+Es07/n21j/wS3n/AMao/wCEs07/AJ9tY/8ABLef/Gq26KAM7T9ctNSuGhtor9GVd5Nzp88C4yB96RFBPPTOfyrRoooAKKKKACiiigAooooAKKKKACiiigAooooAKKKKACiiigAooooAKKKKACiiigAooooAKKKKACiiigAooooAKKKKACiiigAooooAKKKKACiiigDlfHnhI+J9HSSwk+z6vYN59hcKcFXHO3PocD8cHtTvAni0eKdFb7Wn2fVbJvIv7YjBSQcZx6HB/Udq29V1SDSNPa6udzchI4kGXlc8KijuSeKzPDnh/wCw3l7rWoRQjV9TIa48ofLEoGFjB74HVu556YAI9e36/wBbg+nf9DV1LTLXVrUW99HvRZFlUg4KOpyrA9iCKt1Wvr+20yza6vpRFCpCliCeSQAABySSQMVZoAKKKKAObu/FMn/CS3OiaXa2093awpLIt1d+QX3ZwIwEbdwOegGRWbq3iZ47fwzear4agYahdwxKlzL++spnJ5CmPsB1yD296h8QeHm1zW9RXxB4W/tex+RdPuLaWKOaMbBuBJdDt3E45POeMYrNv/DviSLw34V01rG41S40q+ivLidbiLARWY+WC7qWYKQM4A96I9L90N9fT9DotS8X3+neNLXw8ujR3D30bSW0yXeBhevmAp8o4PQt7ZPFM0/xlqOpatqej22hxjUtLYefvvcQEMMriTZuJPpsHQ5NVNRs9ZuvidpGtxaFefYrO2eCVjNb7suOoHmdBnnvwcA1H4ftNa03xn4m1a58PXv2fVPJaBVmtiw8tCCGHm4BOeOSPXFJXt8n+en4CfW3l/wTTt/GkWqfDa78TWcLQNFbTP5TnJSRARjPcZHWpPDHleHvhtYTziR/KshcS7BueR2G9sepLMfzrn/C/hvVrf4V6n4b1TTZbW5eG4COZY3SQybiANjk5HGcge2a6vwXeLf+B9HnTr9kjRh/dZV2sPwIIqtNbeX6g918/wBLFHTvGwnh199RsPsn9hjMzRzeaj/JvKhsD5h0I6A9zW3oWp/21oNlqfkNb/a4VmETNkqGGRz9K86n8L+Jl8CazoFvpu+9v72S4mvftEYSdGcH5ed24gAYYKOvNdDql74l0HwO97YWtkktq5b7LdHPlWqjATKHBfAHcjJIGeKS1V/T/g/15MGtbLz/AOAdRqmoLpemy3bxSTbMBYohlpGJAVR9SQK5U+P5x4X1vVU0UzS6PdNbzQw3OUfbjcyuVHAB5+Xt+Ndj88lv8v7t2XjPO04rgvDfhvWLfwnb+GdQsTAouWkv70zIy3KeYXwgBLEtwDuC4GevFHVr+v6/pBdWTL/xFmNt4SttdjDRz6Zd292meCAXCsp+quQa7EHIBHQ1yHxNT7X4RXSoxum1O8gtY1HcmQMfyVSfwrrwNqgDoBimtn6/og7X3t/X6i0UUUgCiiigAooooAKKKKACiiigAooooAKKKKACiiigAooooAKKKKACiiigAooooAKKKKACiiigAooooAKKKKACiiigAooooAKKKKACiiigAooooAKKKKACiiorm6t7K3ae8njt4U+9JK4VV+pPFAEtFVV1OwdyiX1szCEXBUTKSIj0fr9336VFb61Z3TKLcXLq5wsgtJdje4fbtI984oAyNW8O6zfeI4tTs9btYI7eMpb282nmYRE/efPmrlj0zjgcDqcv/szxd/0M2n/+Cc//AB6s/wAb+LNU8L3tpNZw21zYBfNvkaJjJFCHRWdWD4/jGBt7E1qvf6pceK4LTT7mxOnG1FzKWtmeTBYBQGEgHzfMQdvG3vmharQHoYo8C61feI9P1LxH4sbU7axm86OxSxEEZcD5Tw55B5yQT2ruK858M6tNL481c2gsYI7y/bzPtBZZJoo1MSmLHBO9Hznk5PHc9ZZapLf65qO2VYtO00+QxIH7yXaGcknoqggfUtnpQn7q+/8Ar8ge7+42qKqxapYT28U8F9bSQzP5cUiTKVd/7oIOCeDwPSqGlalO2tahpF+wee12TQyhQPNhfO0kDjIKsp+gPegDZooooAKKKKACszTNGTSby8a0lK2t1J532YrxHIfvMp7BupHrk9606KACq97YW2oRJFeR+bGkiyhCxALKcjIHXBwcHjirFFABRRRQBmyaOlx4gi1S7lMptoylrDtwsJb77+7EcZ7Djua0qKKACiiigAooooAKKKKACiiigAooooAKKKKACiiigAooooAKKKKACiiigAooooAKKKKACiiigAooooAKKKKACiiigAooooAKKKKACiiigAooooAKKKKACiiigArA8bWk934QvvsNu9xeRxM1uiZ3BypXcAOpAYkD1x3xW/RSaurDTs7nCS+HftlnPLpNlJbx21hBZWweHypZ0SQO67XAwCFCjcMElu1b9neW0k0OfEE/mMR/otwIY5Cf7pQxhgfbg1uUVVybaHKWq2/iPXNcju7S8W3ltUs0+02csKvHhi5UuoByXx6/LnpWP4RXUPCPhXVL3xJFPJLYt9khZIss9vDkI2CRx8zHJIGO9eh1S1fTIdZ0i5065eRIbmMxu0RAYA+mQR+Yqdbaf1/Wv3lddf6/r9Cvo9jZyafp96bK0W4EO9JI7QRFN43NtXJKZJ5GT9TWP4ctI7iy8R2F1GJWGrTs8bEjcG2yJn2IK/UV09pbraWcVujySCJQoeRtzNjuT61DHpkMWry6jCzpLPGI5kBG2Tb91iP7wBIyOx5zgYb3dvP/AD/QlbK/9f1c8z0q21KEeFo5NI1CWS3uJ72+32zopupCQAWK4AG9ju6YA5rs4QZfijdPHysGkRpIR/eaVio/JT+ddLVOw02GwkupUZ5JrqUyzSyEFmPQDjoAAAB7euTT639f8v69EHT+u9y5RRRSGFFFFABRRRQAUUUUAFFFFABRRRQAUUUUAFFFFABRRRQAUUUUAFFFFABRRRQAUUUUAFFFFABRRRQAUUUUAFFFFABRRRQAUUUUAFFFFABRRRQAUUUUAFFFFABRRRQAUUUUAFFFFABRRRQAUUUUAFFFFABRRRQAUUUUAFFFFABRRRQAUUUUAFFFFABRRRQAUUUUAFFFFABRRRQAUUUUAFFFFABRRRQAUUUUAFFFFABRRRQAUUUUAFFFFABRRRQAUUUUAFFFFABRRRQAUUUUAFFFFABRRRQAUUUUAFFFFABRRRQAUUUUAFFFFABRRRQAUUUUAFFFFABRRRQAUUUUAFFFFABRRRQAUUUUAFFFFABRRRQAUUUUAFFFFABRRRQAUUUUAFFFFABRRRQAUUUUAFFFFABRRRQAUUUUAFFFFABRRRQAUUUUAFFFFABRRRQAUUUUAFFFFABRRRQAUUUUAFFFFABRRRQAUUUUAFFFFABRRRQAUUUUAFFFFABRRRQAUUUUAFFFFABRRRQAUUUUAFFFFABRRRQAUUUUAFFFFABRRRQAUUUUAFFFFABRRRQAUUUUAFFFFABRRRQAUUUUAFFFFABRRRQAUUUUAf/Z)\n"
      ],
      "metadata": {
        "id": "gLteqj70eHjb"
      },
      "id": "gLteqj70eHjb"
    },
    {
      "cell_type": "code",
      "source": [
        "RMSE = []\n",
        "MAE = []\n",
        "cv_results = []\n",
        "\n",
        "for k in knn_list:\n",
        "  clf = KNNBaseline(k= k, sim_options = sim_options)\n",
        "  results = cross_validate(clf, trainset, measures=['RMSE', 'MAE'], cv=3, verbose=False)\n",
        "  temp = pd.DataFrame.from_dict(results).mean(axis=0)\n",
        "  RMSE.append(temp['test_rmse'])\n",
        "  MAE.append(temp['test_mae'])\n",
        "\n",
        "knnbaseline_summary = pd.DataFrame(\n",
        "    {'k': knn_list,\n",
        "     'RMSE': RMSE,\n",
        "     'MAE': MAE\n",
        "     })"
      ],
      "metadata": {
        "colab": {
          "base_uri": "https://localhost:8080/"
        },
        "id": "DEJxKX08e8RM",
        "outputId": "bdab57ae-d099-4e19-c113-565ecac2cbdc"
      },
      "id": "DEJxKX08e8RM",
      "execution_count": 37,
      "outputs": [
        {
          "output_type": "stream",
          "name": "stdout",
          "text": [
            "Estimating biases using als...\n",
            "Computing the cosine similarity matrix...\n",
            "Done computing similarity matrix.\n",
            "Estimating biases using als...\n",
            "Computing the cosine similarity matrix...\n",
            "Done computing similarity matrix.\n",
            "Estimating biases using als...\n",
            "Computing the cosine similarity matrix...\n",
            "Done computing similarity matrix.\n",
            "Estimating biases using als...\n",
            "Computing the cosine similarity matrix...\n",
            "Done computing similarity matrix.\n",
            "Estimating biases using als...\n",
            "Computing the cosine similarity matrix...\n",
            "Done computing similarity matrix.\n",
            "Estimating biases using als...\n",
            "Computing the cosine similarity matrix...\n",
            "Done computing similarity matrix.\n",
            "Estimating biases using als...\n",
            "Computing the cosine similarity matrix...\n",
            "Done computing similarity matrix.\n",
            "Estimating biases using als...\n",
            "Computing the cosine similarity matrix...\n",
            "Done computing similarity matrix.\n",
            "Estimating biases using als...\n",
            "Computing the cosine similarity matrix...\n",
            "Done computing similarity matrix.\n",
            "Estimating biases using als...\n",
            "Computing the cosine similarity matrix...\n",
            "Done computing similarity matrix.\n",
            "Estimating biases using als...\n",
            "Computing the cosine similarity matrix...\n",
            "Done computing similarity matrix.\n",
            "Estimating biases using als...\n",
            "Computing the cosine similarity matrix...\n",
            "Done computing similarity matrix.\n",
            "Estimating biases using als...\n",
            "Computing the cosine similarity matrix...\n",
            "Done computing similarity matrix.\n",
            "Estimating biases using als...\n",
            "Computing the cosine similarity matrix...\n",
            "Done computing similarity matrix.\n",
            "Estimating biases using als...\n",
            "Computing the cosine similarity matrix...\n",
            "Done computing similarity matrix.\n",
            "Estimating biases using als...\n",
            "Computing the cosine similarity matrix...\n",
            "Done computing similarity matrix.\n",
            "Estimating biases using als...\n",
            "Computing the cosine similarity matrix...\n",
            "Done computing similarity matrix.\n",
            "Estimating biases using als...\n",
            "Computing the cosine similarity matrix...\n",
            "Done computing similarity matrix.\n"
          ]
        }
      ]
    },
    {
      "cell_type": "markdown",
      "source": [
        "#### 3.4 Choosing the optimum number of neighbours \n"
      ],
      "metadata": {
        "id": "WA3zty24qaiy"
      },
      "id": "WA3zty24qaiy"
    },
    {
      "cell_type": "code",
      "source": [
        "style.use('ggplot')\n",
        "sns.set_context('paper')\n",
        "\n",
        "plt.figure(figsize=(20,6))\n",
        "\n",
        "plt.subplot(1, 2, 1)\n",
        "plt.title('K Neighbors vs RMSE', loc='center', fontsize=15)\n",
        "plt.plot(knnbasic_summary['k'], knnbasic_summary['RMSE'], label='KNN Basic', color='lightcoral', marker='o')\n",
        "plt.plot(knnzscore_summary['k'], knnzscore_summary['RMSE'], label='KNN ZScore', color='indianred', marker='o')\n",
        "plt.plot(knnbaseline_summary['k'], knnbaseline_summary['RMSE'], label='KNN Baseline', color='darkred', marker='o')\n",
        "plt.xlabel('K Neighbor', fontsize=15)\n",
        "plt.ylabel('RMSE Value', fontsize=15)\n",
        "plt.legend()\n",
        "plt.grid(ls='dotted')\n",
        "\n",
        "plt.subplot(1, 2, 2)\n",
        "plt.title('K Neighbors vs MAE', loc='center', fontsize=15)\n",
        "plt.plot(knnbasic_summary['k'], knnbasic_summary['MAE'], label='KNN Basic', color='lightcoral', marker='o')\n",
        "plt.plot(knnzscore_summary['k'], knnzscore_summary['MAE'], label='KNN ZScore', color='indianred', marker='o')\n",
        "plt.plot(knnbaseline_summary['k'], knnbaseline_summary['MAE'], label='KNN Baseline', color='darkred', marker='o')\n",
        "plt.xlabel('K Neighbor', fontsize=15)\n",
        "plt.ylabel('MAE Value', fontsize=15)\n",
        "plt.legend()\n",
        "plt.grid(ls='dotted')\n",
        "\n",
        "plt.show()"
      ],
      "metadata": {
        "colab": {
          "base_uri": "https://localhost:8080/",
          "height": 411
        },
        "id": "Nsd5G8GHqhe4",
        "outputId": "05fe7e9d-bcb0-464d-ef2c-149b4b7caa60"
      },
      "id": "Nsd5G8GHqhe4",
      "execution_count": 40,
      "outputs": [
        {
          "output_type": "display_data",
          "data": {
            "image/png": "[encoded data removed]",
            "text/plain": [
              "<Figure size 1440x432 with 2 Axes>"
            ]
          },
          "metadata": {}
        }
      ]
    },
    {
      "cell_type": "markdown",
      "source": [
        "Based on the results, both RMSE & MAE are significantly lower for Baseline as compared to KNNZscore & KNNBasic. For Basic & Zscore, the MAE slighly increases when k-neighbours change from 70 to 80. So, we will fix the optimum k as 70 for these two methods."
      ],
      "metadata": {
        "id": "E9WnIASjwuHD"
      },
      "id": "E9WnIASjwuHD"
    },
    {
      "cell_type": "markdown",
      "source": [
        "### 4.0 Matrix Factorization methods\n",
        "In real world, using memory based approach will be too time-consuming, especially in a very sparse matrix with a lot of users & items. Matrix factorization offers a way out through its dimensionality reduction method. The most famous algorithm is the one Simon Funk used for the original Netflix Prize competition in 2009.  \n",
        "SVD or Singular Vector Decomposition reduces the ratings matrix into pre-established k number of latent features. While in real implementation, latent features don't carry any meaning, it can be intuitively interpreted as features such as genre, number of awards, duration, time-period, actors etc\n",
        "\n",
        "SVD is just a fancy word to decompose a user-item vector into components along axes which carries the most information. Matrix U contains the user-latent feature relationship, which can be considered as the normalized representation of users in the changed principal axes. Matrix V contains the item-latent feature relationship."
      ],
      "metadata": {
        "id": "cvih1oc3ZAWh"
      },
      "id": "cvih1oc3ZAWh"
    },
    {
      "cell_type": "code",
      "source": [
        "from surprise import SVD, SVDpp, NMF, NormalPredictor\n",
        "from surprise.model_selection import GridSearchCV\n",
        "\n",
        "param_grid = {'n_factors':[50,100], 'lr_all':[0.005,0.01],'reg_all':[0.02,0.1]}\n",
        "gs = GridSearchCV(SVD, param_grid, measures=['rmse' , 'mae'], cv = 5)\n",
        "gs.fit(trainset)\n",
        "params_svd = gs.best_params['rmse']"
      ],
      "metadata": {
        "id": "AzWRbJ4_Yiy2"
      },
      "id": "AzWRbJ4_Yiy2",
      "execution_count": null,
      "outputs": []
    },
    {
      "cell_type": "markdown",
      "source": [
        "#### 4.2 SVD++\n",
        "SVDpp is an extention of the simple SVD algorithm, where we also consider the implicit ratings of users. That is, irrespective of the actual rating,  propensity is considered if the user takes the effort to rate. It is a binary matrix where any explicit rating is given 1 & no rating is given 0. "
      ],
      "metadata": {
        "id": "8O92plf-iPgy"
      },
      "id": "8O92plf-iPgy"
    },
    {
      "cell_type": "code",
      "source": [
        "from surprise import SVDpp\n",
        "gs = GridSearchCV(SVDpp, param_grid, measures=['rmse' , 'mae'], cv = 5)\n",
        "gs.fit(trainset)\n",
        "params_svdpp = gs.best_params['rmse']"
      ],
      "metadata": {
        "id": "Zmnl63USsCo6"
      },
      "id": "Zmnl63USsCo6",
      "execution_count": null,
      "outputs": []
    },
    {
      "cell_type": "markdown",
      "source": [
        "#### 4.3 NMF (Non-Negative Matrix Factorization)\n",
        "NMF is an extension to the normal MF with an added constraint that all weights in the latent matrix should be positive. The initial weights are randomly assigned & the cost function i.e difference between actual rating & predicted (dot product of user-latent matrix U & product-latent matrix V) is optimized using ALS/SGD."
      ],
      "metadata": {
        "id": "4cS0sNizinQ8"
      },
      "id": "4cS0sNizinQ8"
    },
    {
      "cell_type": "code",
      "source": [
        "from surprise import NMF\n",
        "param_grid = {'n_factors':[30,50], 'reg_pu':[0.05, 0.2],'reg_qi':[0.05, 0.2], 'biased' : [True]}\n",
        "gs = GridSearchCV(NMF, param_grid, measures=['rmse' , 'mae'], cv = 5)\n",
        "gs.fit(trainset)\n",
        "params_nmf = gs.best_params['rmse']"
      ],
      "metadata": {
        "id": "suX2Qbvk96xD"
      },
      "id": "suX2Qbvk96xD",
      "execution_count": null,
      "outputs": []
    },
    {
      "cell_type": "code",
      "source": [
        "print(params_svd)\n",
        "print(params_svdpp)\n",
        "print(params_nmf)"
      ],
      "metadata": {
        "colab": {
          "base_uri": "https://localhost:8080/"
        },
        "id": "5FmTyzaMllBI",
        "outputId": "be5cd807-a144-40ce-f93d-80461fb0614b"
      },
      "id": "5FmTyzaMllBI",
      "execution_count": null,
      "outputs": [
        {
          "output_type": "stream",
          "name": "stdout",
          "text": [
            "{'n_factors': 100, 'lr_all': 0.01, 'reg_all': 0.1}\n",
            "{'n_factors': 50, 'lr_all': 0.005, 'reg_all': 0.02}\n",
            "{'n_factors': 30, 'reg_pu': 0.05, 'reg_qi': 0.2, 'biased': True}\n"
          ]
        }
      ]
    },
    {
      "cell_type": "markdown",
      "source": [
        "### 5.0 Comparing the performance of all algorithms"
      ],
      "metadata": {
        "id": "dGqjB6v9jOkX"
      },
      "id": "dGqjB6v9jOkX"
    },
    {
      "cell_type": "code",
      "source": [
        "estimator_list = {\n",
        "    'SVD' : SVD(), 'Tuned SVD' : SVD(n_factors=100, lr_all=0.01, reg_all=0.1) ,\n",
        "  'SVD++' : SVDpp(), 'Tuned SVD++' : SVDpp(n_factors=50, lr_all=0.005, reg_all=0.02),\n",
        "  'NMF': NMF(biased = True), 'Tuned NMF': NMF(n_factors=30, reg_pu=0.05, reg_qi = 0.2, biased = True),\n",
        "  'KNN Basic' : KNNBasic(k = 70, sim_options = sim_options),\n",
        "  'KNN ZScore' : KNNWithZScore(k = 70, sim_options = sim_options),\n",
        "  'KNN Baseline' : KNNBaseline(k = 80, sim_options = sim_options)\n",
        "  }"
      ],
      "metadata": {
        "id": "5YUs-Flbv48b"
      },
      "id": "5YUs-Flbv48b",
      "execution_count": 42,
      "outputs": []
    },
    {
      "cell_type": "code",
      "source": [
        "estimator_name = []\n",
        "RMSE = []\n",
        "MAE = []\n",
        "run_time = []\n",
        "\n",
        "for name, estimator in estimator_list.items():\n",
        "  # Perform cross validation\n",
        "  print(f'{name}: Evaluating the algorithm')\n",
        "  results = cross_validate(estimator, trainset, measures=['RMSE', 'MAE'], cv=5, verbose=False)\n",
        "  # Get results & append algorithm name\n",
        "  temp = pd.DataFrame.from_dict(results).mean(axis=0)\n",
        "  estimator_name.append(name)\n",
        "  RMSE.append(temp['test_rmse'])\n",
        "  MAE.append(temp['test_mae'])\n",
        "  run_time.append(temp['fit_time']+ temp['test_time'])\n",
        "  print('Appended the results to the list')\n",
        "  print('')"
      ],
      "metadata": {
        "colab": {
          "base_uri": "https://localhost:8080/"
        },
        "id": "2wqZ_tKRmFg-",
        "outputId": "44c4b651-1160-49b9-92d6-cf2f16697bfd"
      },
      "id": "2wqZ_tKRmFg-",
      "execution_count": 43,
      "outputs": [
        {
          "output_type": "stream",
          "name": "stdout",
          "text": [
            "SVD: Evaluating the algorithm\n",
            "Appended the results to the list\n",
            "\n",
            "Tuned SVD: Evaluating the algorithm\n",
            "Appended the results to the list\n",
            "\n",
            "SVD++: Evaluating the algorithm\n",
            "Appended the results to the list\n",
            "\n",
            "Tuned SVD++: Evaluating the algorithm\n",
            "Appended the results to the list\n",
            "\n",
            "NMF: Evaluating the algorithm\n",
            "Appended the results to the list\n",
            "\n",
            "Tuned NMF: Evaluating the algorithm\n",
            "Appended the results to the list\n",
            "\n",
            "KNN Basic: Evaluating the algorithm\n",
            "Computing the cosine similarity matrix...\n",
            "Done computing similarity matrix.\n",
            "Computing the cosine similarity matrix...\n",
            "Done computing similarity matrix.\n",
            "Computing the cosine similarity matrix...\n",
            "Done computing similarity matrix.\n",
            "Computing the cosine similarity matrix...\n",
            "Done computing similarity matrix.\n",
            "Computing the cosine similarity matrix...\n",
            "Done computing similarity matrix.\n",
            "Appended the results to the list\n",
            "\n",
            "KNN ZScore: Evaluating the algorithm\n",
            "Computing the cosine similarity matrix...\n",
            "Done computing similarity matrix.\n",
            "Computing the cosine similarity matrix...\n",
            "Done computing similarity matrix.\n",
            "Computing the cosine similarity matrix...\n",
            "Done computing similarity matrix.\n",
            "Computing the cosine similarity matrix...\n",
            "Done computing similarity matrix.\n",
            "Computing the cosine similarity matrix...\n",
            "Done computing similarity matrix.\n",
            "Appended the results to the list\n",
            "\n",
            "KNN Baseline: Evaluating the algorithm\n",
            "Estimating biases using als...\n",
            "Computing the cosine similarity matrix...\n",
            "Done computing similarity matrix.\n",
            "Estimating biases using als...\n",
            "Computing the cosine similarity matrix...\n",
            "Done computing similarity matrix.\n",
            "Estimating biases using als...\n",
            "Computing the cosine similarity matrix...\n",
            "Done computing similarity matrix.\n",
            "Estimating biases using als...\n",
            "Computing the cosine similarity matrix...\n",
            "Done computing similarity matrix.\n",
            "Estimating biases using als...\n",
            "Computing the cosine similarity matrix...\n",
            "Done computing similarity matrix.\n",
            "Appended the results to the list\n",
            "\n"
          ]
        }
      ]
    },
    {
      "cell_type": "code",
      "source": [
        "evaluation_summary = pd.DataFrame(\n",
        "    {'name': estimator_name,\n",
        "     'RMSE': RMSE,\n",
        "     'MAE': MAE,\n",
        "     'run_time' : run_time\n",
        "    })\n",
        "evaluation_summary = evaluation_summary.sort_values(by = 'RMSE', ascending = True)"
      ],
      "metadata": {
        "id": "afCxvDA5590K"
      },
      "id": "afCxvDA5590K",
      "execution_count": 49,
      "outputs": []
    },
    {
      "cell_type": "code",
      "source": [
        "plt.figure(figsize=(22,8))\n",
        "\n",
        "plt.subplot(1, 2, 1)\n",
        "plt.title('Comparison of Algorithms on RMSE', loc='center', fontsize=15)\n",
        "sns.barplot(evaluation_summary['name'], evaluation_summary['RMSE'], palette = ('flare'), alpha = 0.7)\n",
        "plt.xlabel('Algorithms', fontsize=15)\n",
        "plt.ylabel('RMSE Value', fontsize=15)\n",
        "plt.legend()\n",
        "#plt.grid(ls='dashed')\n",
        "\n",
        "plt.subplot(1, 2, 2)\n",
        "plt.title('Comparison of Algorithms on Run Time', loc='center', fontsize=15)\n",
        "sns.barplot(evaluation_summary['name'], evaluation_summary['run_time'], palette = ('Blues_d'), alpha = 0.7)\n",
        "plt.xlabel('Algorithms', fontsize=15)\n",
        "plt.ylabel('Run Time', fontsize=15)\n",
        "plt.legend()\n",
        "#plt.grid(ls='dashed')\n",
        "\n",
        "plt.show()"
      ],
      "metadata": {
        "colab": {
          "base_uri": "https://localhost:8080/",
          "height": 644
        },
        "id": "HWtsa3mc1HnV",
        "outputId": "d933afee-6077-46c4-f951-5e88f50043e7"
      },
      "id": "HWtsa3mc1HnV",
      "execution_count": 55,
      "outputs": [
        {
          "output_type": "stream",
          "name": "stderr",
          "text": [
            "/usr/local/lib/python3.7/dist-packages/seaborn/_decorators.py:43: FutureWarning: Pass the following variables as keyword args: x, y. From version 0.12, the only valid positional argument will be `data`, and passing other arguments without an explicit keyword will result in an error or misinterpretation.\n",
            "  FutureWarning\n",
            "No handles with labels found to put in legend.\n",
            "/usr/local/lib/python3.7/dist-packages/seaborn/_decorators.py:43: FutureWarning: Pass the following variables as keyword args: x, y. From version 0.12, the only valid positional argument will be `data`, and passing other arguments without an explicit keyword will result in an error or misinterpretation.\n",
            "  FutureWarning\n",
            "No handles with labels found to put in legend.\n"
          ]
        },
        {
          "output_type": "display_data",
          "data": {
            "image/png": "[encoded data removed]",
            "text/plain": [
              "<Figure size 1584x576 with 2 Axes>"
            ]
          },
          "metadata": {}
        }
      ]
    },
    {
      "cell_type": "markdown",
      "source": [
        "The RMSE & MAE are quite comparable between the SVD, SVD++ & KNN Baseline models. But the run times for SVD++ & KNN Baseline is considerably higher than the tuned SVD model. So, we will finalize that for our movie recommendations below."
      ],
      "metadata": {
        "id": "kQh7e9tE_8z1"
      },
      "id": "kQh7e9tE_8z1"
    },
    {
      "cell_type": "markdown",
      "source": [
        "### 6.0 Fitting the best model\n"
      ],
      "metadata": {
        "id": "WRSNhj3hjVX_"
      },
      "id": "WRSNhj3hjVX_"
    },
    {
      "cell_type": "code",
      "source": [
        "SVD_model = SVD(n_factors=100, lr_all=0.01, reg_all=0.1)\n",
        "SVD_model.fit(train_set)"
      ],
      "metadata": {
        "colab": {
          "base_uri": "https://localhost:8080/"
        },
        "id": "n716esXwzvGg",
        "outputId": "23fd768a-dfcd-40ff-897e-7efa06ad21d1"
      },
      "id": "n716esXwzvGg",
      "execution_count": null,
      "outputs": [
        {
          "output_type": "execute_result",
          "data": {
            "text/plain": [
              "<surprise.prediction_algorithms.matrix_factorization.SVD at 0x7f5f59471150>"
            ]
          },
          "metadata": {},
          "execution_count": 100
        }
      ]
    },
    {
      "cell_type": "code",
      "source": [
        "print(f'User Matrix : {SVD_model.pu.shape}')\n",
        "print(f'Item Matrix : {SVD_model.qi.shape}')"
      ],
      "metadata": {
        "colab": {
          "base_uri": "https://localhost:8080/"
        },
        "id": "yWBXt5HJOk9f",
        "outputId": "715dc175-bbd9-41b3-c1aa-9a314c93defc"
      },
      "id": "yWBXt5HJOk9f",
      "execution_count": null,
      "outputs": [
        {
          "output_type": "stream",
          "name": "stdout",
          "text": [
            "User Matrix : (9630, 100)\n",
            "Item Matrix : (968, 100)\n"
          ]
        }
      ]
    },
    {
      "cell_type": "code",
      "source": [
        "item_to_row_idx = SVD_model.trainset._raw2inner_id_items\n",
        "sample_movie_idx = item_to_row_idx['Rush']\n",
        "print(SVD_model.qi[sample_movie_idx])\n",
        "print()\n",
        "print(f'Every movie has {SVD_model.qi.shape[1]} features')"
      ],
      "metadata": {
        "colab": {
          "base_uri": "https://localhost:8080/"
        },
        "id": "uu0rzza4PgS1",
        "outputId": "66af5ee4-34d4-4737-b749-1c740afc4eb9"
      },
      "id": "uu0rzza4PgS1",
      "execution_count": null,
      "outputs": [
        {
          "output_type": "stream",
          "name": "stdout",
          "text": [
            "[ 0.06229582 -0.23386904  0.04594682  0.04187504 -0.04905126 -0.01731602\n",
            "  0.11739064  0.1428666  -0.21078253  0.11240757  0.00905379  0.03790488\n",
            "  0.10487769  0.16061873 -0.02474254  0.01947208 -0.13848641  0.12642823\n",
            "  0.09828068  0.04731961  0.02700377  0.10288509  0.14650199  0.07595012\n",
            "  0.00842124 -0.05072413  0.18569401 -0.2927235   0.09541158  0.08703645\n",
            "  0.10812333  0.10419208  0.01301197  0.00714887  0.04221588 -0.07093273\n",
            "  0.00563478  0.44010134 -0.04973354  0.08811065 -0.12594713  0.18075581\n",
            "  0.05688564 -0.15189352  0.25147293 -0.14608233 -0.11910114  0.19289764\n",
            " -0.11691051  0.03008267 -0.03731425  0.15337359  0.17711738 -0.02520261\n",
            "  0.07641342  0.17384604  0.25703695  0.10974888 -0.04329939  0.11396502\n",
            " -0.01243382 -0.03274702  0.13285335  0.15075355 -0.01612277  0.08978166\n",
            "  0.03497371  0.06437549 -0.052698    0.01740074 -0.02443024 -0.13796928\n",
            "  0.07283742 -0.20008586  0.16093873  0.08089216  0.07519953 -0.06747108\n",
            " -0.06121063 -0.00430743 -0.2288023  -0.17574847 -0.05386182 -0.02262669\n",
            " -0.09268513  0.2320538   0.25696591  0.00120852  0.13747123  0.03950526\n",
            "  0.19796493 -0.08440347 -0.11719534 -0.03577873  0.14000964 -0.10602032\n",
            "  0.09961433 -0.07414845 -0.0983264  -0.16688756]\n",
            "\n",
            "Every movie has 100 features\n"
          ]
        }
      ]
    },
    {
      "cell_type": "code",
      "source": [
        "# Testing the predict API function in Surprise library\n",
        "SVD_model.predict('870526', '8 Man')"
      ],
      "metadata": {
        "colab": {
          "base_uri": "https://localhost:8080/"
        },
        "id": "b_KSSb6Hb688",
        "outputId": "f88f2317-e61e-4cef-bb75-6a2e580624a7"
      },
      "id": "b_KSSb6Hb688",
      "execution_count": null,
      "outputs": [
        {
          "output_type": "execute_result",
          "data": {
            "text/plain": [
              "Prediction(uid='870526', iid='8 Man', r_ui=None, est=3.427756834835953, details={'was_impossible': False})"
            ]
          },
          "metadata": {},
          "execution_count": 119
        }
      ]
    },
    {
      "cell_type": "markdown",
      "source": [
        "#### 6.1 Movie Recommendations"
      ],
      "metadata": {
        "id": "4--lvdnrBlvS"
      },
      "id": "4--lvdnrBlvS"
    },
    {
      "cell_type": "code",
      "source": [
        "from scipy.spatial.distance import cosine as cosine_distance\n",
        "\n",
        "def display(similarity_table, n_rows):\n",
        "    similarity_table = pd.DataFrame(\n",
        "        similarity_table,\n",
        "        columns=['cosine distance', 'movie title']\n",
        "    ).sort_values('cosine distance', ascending=True)\n",
        "    return similarity_table.iloc[1:n_rows+1]\n",
        "    \n",
        "def get_top_recommendations(movie_title, model, n_rows):\n",
        "    \"\"\"Returns the top 5 most similar movies to a specified movie \"\"\"\n",
        "    \n",
        "    # Get the first movie vector\n",
        "    movie_idx = item_to_row_idx[movie_title]\n",
        "    movie_vector = SVD_model.qi[movie_idx]\n",
        "    similarity_table = []\n",
        "    \n",
        "    # Iterate over every possible movie and calculate similarity\n",
        "    for other_movie_title in model.trainset._raw2inner_id_items.keys():\n",
        "        other_movie_idx = item_to_row_idx[other_movie_title]\n",
        "        other_movie_vector = SVD_model.qi[other_movie_idx]\n",
        "        \n",
        "        # Get the second movie vector, and calculate distance\n",
        "        similarity_score = cosine_distance(other_movie_vector, movie_vector)\n",
        "        similarity_table.append((similarity_score, other_movie_title))\n",
        "    \n",
        "    # sort movies by ascending similarity\n",
        "    return display(similarity_table, n_rows)"
      ],
      "metadata": {
        "id": "xcq2k_2NdapN"
      },
      "id": "xcq2k_2NdapN",
      "execution_count": null,
      "outputs": []
    },
    {
      "cell_type": "code",
      "source": [
        "get_top_recommendations('Rush', SVD_model, 5)"
      ],
      "metadata": {
        "colab": {
          "base_uri": "https://localhost:8080/",
          "height": 206
        },
        "id": "0rb0Prh6gR96",
        "outputId": "55a7c1c5-1645-42e8-d652-3372e6bc4fe1"
      },
      "id": "0rb0Prh6gR96",
      "execution_count": null,
      "outputs": [
        {
          "output_type": "execute_result",
          "data": {
            "text/html": [
              "\n",
              "  <div id=\"df-d131d181-112f-4e52-b43f-f85ac6eafe77\">\n",
              "    <div class=\"colab-df-container\">\n",
              "      <div>\n",
              "<style scoped>\n",
              "    .dataframe tbody tr th:only-of-type {\n",
              "        vertical-align: middle;\n",
              "    }\n",
              "\n",
              "    .dataframe tbody tr th {\n",
              "        vertical-align: top;\n",
              "    }\n",
              "\n",
              "    .dataframe thead th {\n",
              "        text-align: right;\n",
              "    }\n",
              "</style>\n",
              "<table border=\"1\" class=\"dataframe\">\n",
              "  <thead>\n",
              "    <tr style=\"text-align: right;\">\n",
              "      <th></th>\n",
              "      <th>cosine distance</th>\n",
              "      <th>movie title</th>\n",
              "    </tr>\n",
              "  </thead>\n",
              "  <tbody>\n",
              "    <tr>\n",
              "      <th>5</th>\n",
              "      <td>0.688308</td>\n",
              "      <td>The Great Race</td>\n",
              "    </tr>\n",
              "    <tr>\n",
              "      <th>541</th>\n",
              "      <td>0.723596</td>\n",
              "      <td>Hercules: The Legendary Journeys: Season 5</td>\n",
              "    </tr>\n",
              "    <tr>\n",
              "      <th>339</th>\n",
              "      <td>0.733286</td>\n",
              "      <td>Dr. Jekyll &amp; Mr. Hyde: 1932 &amp; 1941</td>\n",
              "    </tr>\n",
              "    <tr>\n",
              "      <th>244</th>\n",
              "      <td>0.735264</td>\n",
              "      <td>Cannibal Ferox</td>\n",
              "    </tr>\n",
              "    <tr>\n",
              "      <th>915</th>\n",
              "      <td>0.752674</td>\n",
              "      <td>Dragon Ball: The Saga of Goku</td>\n",
              "    </tr>\n",
              "  </tbody>\n",
              "</table>\n",
              "</div>\n",
              "      <button class=\"colab-df-convert\" onclick=\"convertToInteractive('df-d131d181-112f-4e52-b43f-f85ac6eafe77')\"\n",
              "              title=\"Convert this dataframe to an interactive table.\"\n",
              "              style=\"display:none;\">\n",
              "        \n",
              "  <svg xmlns=\"http://www.w3.org/2000/svg\" height=\"24px\"viewBox=\"0 0 24 24\"\n",
              "       width=\"24px\">\n",
              "    <path d=\"M0 0h24v24H0V0z\" fill=\"none\"/>\n",
              "    <path d=\"M18.56 5.44l.94 2.06.94-2.06 2.06-.94-2.06-.94-.94-2.06-.94 2.06-2.06.94zm-11 1L8.5 8.5l.94-2.06 2.06-.94-2.06-.94L8.5 2.5l-.94 2.06-2.06.94zm10 10l.94 2.06.94-2.06 2.06-.94-2.06-.94-.94-2.06-.94 2.06-2.06.94z\"/><path d=\"M17.41 7.96l-1.37-1.37c-.4-.4-.92-.59-1.43-.59-.52 0-1.04.2-1.43.59L10.3 9.45l-7.72 7.72c-.78.78-.78 2.05 0 2.83L4 21.41c.39.39.9.59 1.41.59.51 0 1.02-.2 1.41-.59l7.78-7.78 2.81-2.81c.8-.78.8-2.07 0-2.86zM5.41 20L4 18.59l7.72-7.72 1.47 1.35L5.41 20z\"/>\n",
              "  </svg>\n",
              "      </button>\n",
              "      \n",
              "  <style>\n",
              "    .colab-df-container {\n",
              "      display:flex;\n",
              "      flex-wrap:wrap;\n",
              "      gap: 12px;\n",
              "    }\n",
              "\n",
              "    .colab-df-convert {\n",
              "      background-color: #E8F0FE;\n",
              "      border: none;\n",
              "      border-radius: 50%;\n",
              "      cursor: pointer;\n",
              "      display: none;\n",
              "      fill: #1967D2;\n",
              "      height: 32px;\n",
              "      padding: 0 0 0 0;\n",
              "      width: 32px;\n",
              "    }\n",
              "\n",
              "    .colab-df-convert:hover {\n",
              "      background-color: #E2EBFA;\n",
              "      box-shadow: 0px 1px 2px rgba(60, 64, 67, 0.3), 0px 1px 3px 1px rgba(60, 64, 67, 0.15);\n",
              "      fill: #174EA6;\n",
              "    }\n",
              "\n",
              "    [theme=dark] .colab-df-convert {\n",
              "      background-color: #3B4455;\n",
              "      fill: #D2E3FC;\n",
              "    }\n",
              "\n",
              "    [theme=dark] .colab-df-convert:hover {\n",
              "      background-color: #434B5C;\n",
              "      box-shadow: 0px 1px 3px 1px rgba(0, 0, 0, 0.15);\n",
              "      filter: drop-shadow(0px 1px 2px rgba(0, 0, 0, 0.3));\n",
              "      fill: #FFFFFF;\n",
              "    }\n",
              "  </style>\n",
              "\n",
              "      <script>\n",
              "        const buttonEl =\n",
              "          document.querySelector('#df-d131d181-112f-4e52-b43f-f85ac6eafe77 button.colab-df-convert');\n",
              "        buttonEl.style.display =\n",
              "          google.colab.kernel.accessAllowed ? 'block' : 'none';\n",
              "\n",
              "        async function convertToInteractive(key) {\n",
              "          const element = document.querySelector('#df-d131d181-112f-4e52-b43f-f85ac6eafe77');\n",
              "          const dataTable =\n",
              "            await google.colab.kernel.invokeFunction('convertToInteractive',\n",
              "                                                     [key], {});\n",
              "          if (!dataTable) return;\n",
              "\n",
              "          const docLinkHtml = 'Like what you see? Visit the ' +\n",
              "            '<a target=\"_blank\" href=https://colab.research.google.com/notebooks/data_table.ipynb>data table notebook</a>'\n",
              "            + ' to learn more about interactive tables.';\n",
              "          element.innerHTML = '';\n",
              "          dataTable['output_type'] = 'display_data';\n",
              "          await google.colab.output.renderOutput(dataTable, element);\n",
              "          const docLink = document.createElement('div');\n",
              "          docLink.innerHTML = docLinkHtml;\n",
              "          element.appendChild(docLink);\n",
              "        }\n",
              "      </script>\n",
              "    </div>\n",
              "  </div>\n",
              "  "
            ],
            "text/plain": [
              "     cosine distance                                 movie title\n",
              "5           0.688308                              The Great Race\n",
              "541         0.723596  Hercules: The Legendary Journeys: Season 5\n",
              "339         0.733286          Dr. Jekyll & Mr. Hyde: 1932 & 1941\n",
              "244         0.735264                              Cannibal Ferox\n",
              "915         0.752674               Dragon Ball: The Saga of Goku"
            ]
          },
          "metadata": {},
          "execution_count": 126
        }
      ]
    },
    {
      "cell_type": "markdown",
      "source": [
        "### 7.0 Wrapping up\n",
        "In this experiment, we looked at the most common collaborative techniques used in recommender systems including memory based K-Nearest Neighbours for user-user similarities, matrix factorization methods to train latent feature matrices using SGD/ALS & deep neural networks.  \n",
        "Even with a small sample of the actual data (10000 users & 1000 items), the runtimes were considerably high for training. A lot of focus goes into optimizing the run times in order to efficiently recommend from a larger corpus of items.\n",
        "\n",
        "Additional reading:\n",
        "\n",
        "\n",
        "1.   SVD Intuition : https://towardsdatascience.com/svd-8c2f72e264f\n",
        "2.   Surprise Models : https://bmanohar16.github.io/blog/recsys-evaluation-in-surprise\n",
        "3. Collaborative filtering : https://towardsdatascience.com/various-implementations-of-collaborative-filtering-100385c6dfe0\n",
        "4. Matrix Factorization using Surprise : https://towardsdatascience.com/building-and-testing-recommender-systems-with-surprise-step-by-step-d4ba702ef80b\n",
        "\n",
        "\n"
      ],
      "metadata": {
        "id": "87lnuG5ABOpg"
      },
      "id": "87lnuG5ABOpg"
    }
  ],
  "metadata": {
    "kernelspec": {
      "display_name": "Python 3",
      "language": "python",
      "name": "python3"
    },
    "language_info": {
      "codemirror_mode": {
        "name": "ipython",
        "version": 3
      },
      "file_extension": ".py",
      "mimetype": "text/x-python",
      "name": "python",
      "nbconvert_exporter": "python",
      "pygments_lexer": "ipython3",
      "version": "3.8.8"
    },
    "colab": {
      "name": "Netflix Recommendation System.ipynb",
      "provenance": [],
      "collapsed_sections": [],
      "machine_shape": "hm",
      "include_colab_link": true
    },
    "accelerator": "GPU"
  },
  "nbformat": 4,
  "nbformat_minor": 5
}